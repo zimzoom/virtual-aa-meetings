{
 "cells": [
  {
   "cell_type": "markdown",
   "metadata": {},
   "source": [
    "# EDA"
   ]
  },
  {
   "cell_type": "code",
   "execution_count": 1,
   "metadata": {},
   "outputs": [],
   "source": [
    "import pandas as pd\n",
    "import numpy as np"
   ]
  },
  {
   "cell_type": "code",
   "execution_count": 2,
   "metadata": {},
   "outputs": [],
   "source": [
    "csvfile = \"meetings_complete.csv\""
   ]
  },
  {
   "cell_type": "code",
   "execution_count": 3,
   "metadata": {},
   "outputs": [],
   "source": [
    "df = pd.read_csv(csvfile)"
   ]
  },
  {
   "cell_type": "code",
   "execution_count": 4,
   "metadata": {},
   "outputs": [
    {
     "data": {
      "text/html": [
       "<div>\n",
       "<style scoped>\n",
       "    .dataframe tbody tr th:only-of-type {\n",
       "        vertical-align: middle;\n",
       "    }\n",
       "\n",
       "    .dataframe tbody tr th {\n",
       "        vertical-align: top;\n",
       "    }\n",
       "\n",
       "    .dataframe thead th {\n",
       "        text-align: right;\n",
       "    }\n",
       "</style>\n",
       "<table border=\"1\" class=\"dataframe\">\n",
       "  <thead>\n",
       "    <tr style=\"text-align: right;\">\n",
       "      <th></th>\n",
       "      <th>Name</th>\n",
       "      <th>Day</th>\n",
       "      <th>Time</th>\n",
       "      <th>Video</th>\n",
       "      <th>Desc</th>\n",
       "      <th>Categories</th>\n",
       "      <th>Email</th>\n",
       "      <th>Phone</th>\n",
       "    </tr>\n",
       "  </thead>\n",
       "  <tbody>\n",
       "    <tr>\n",
       "      <td>0</td>\n",
       "      <td>1 Hole in the Sky AA Meetings: AA Secular Dail...</td>\n",
       "      <td>Tuesday</td>\n",
       "      <td>5:00 pm</td>\n",
       "      <td>https://zoom.us/j/414948190</td>\n",
       "      <td>Tuesday: AA Secular Daily Reflections 3:00pm P...</td>\n",
       "      <td>Audio,Open,Video</td>\n",
       "      <td>NaN</td>\n",
       "      <td>NaN</td>\n",
       "    </tr>\n",
       "    <tr>\n",
       "      <td>1</td>\n",
       "      <td>AA Friends</td>\n",
       "      <td>Tuesday</td>\n",
       "      <td>5:00 pm</td>\n",
       "      <td>https://aafriends.webs.com/</td>\n",
       "      <td>AA Friends currently holds three online meetin...</td>\n",
       "      <td>Forum,Open</td>\n",
       "      <td>aafriends@usa.com</td>\n",
       "      <td>NaN</td>\n",
       "    </tr>\n",
       "    <tr>\n",
       "      <td>2</td>\n",
       "      <td>AA New Beginnings</td>\n",
       "      <td>Tuesday</td>\n",
       "      <td>5:00 pm</td>\n",
       "      <td>https://us02web.zoom.us/j/5662326551</td>\n",
       "      <td>A daily meeting that focuses on experience, st...</td>\n",
       "      <td>Audio,Big Book,Discussion,Open,Video</td>\n",
       "      <td>AANewBeginnings230@gmail.com</td>\n",
       "      <td>NaN</td>\n",
       "    </tr>\n",
       "    <tr>\n",
       "      <td>3</td>\n",
       "      <td>Agnes Water</td>\n",
       "      <td>Tuesday</td>\n",
       "      <td>5:00 pm</td>\n",
       "      <td>https://us02web.zoom.us/j/8983968244</td>\n",
       "      <td>PW billw</td>\n",
       "      <td>Big Book,Discussion,Speaker,Video</td>\n",
       "      <td>agneswaterxa@gmail.com</td>\n",
       "      <td>NaN</td>\n",
       "    </tr>\n",
       "    <tr>\n",
       "      <td>4</td>\n",
       "      <td>Beginners AA meeting</td>\n",
       "      <td>Tuesday</td>\n",
       "      <td>5:00 pm</td>\n",
       "      <td>https://us02web.zoom.us/j/88198562544?pwd=WFZm...</td>\n",
       "      <td>Zoom Passcode, if any: serenity</td>\n",
       "      <td>Big Book,Discussion,Open,Speaker,Video</td>\n",
       "      <td>liaazoom2020@gmail.com</td>\n",
       "      <td>NaN</td>\n",
       "    </tr>\n",
       "  </tbody>\n",
       "</table>\n",
       "</div>"
      ],
      "text/plain": [
       "                                                Name      Day     Time  \\\n",
       "0  1 Hole in the Sky AA Meetings: AA Secular Dail...  Tuesday  5:00 pm   \n",
       "1                                         AA Friends  Tuesday  5:00 pm   \n",
       "2                                  AA New Beginnings  Tuesday  5:00 pm   \n",
       "3                                        Agnes Water  Tuesday  5:00 pm   \n",
       "4                               Beginners AA meeting  Tuesday  5:00 pm   \n",
       "\n",
       "                                               Video  \\\n",
       "0                        https://zoom.us/j/414948190   \n",
       "1                        https://aafriends.webs.com/   \n",
       "2               https://us02web.zoom.us/j/5662326551   \n",
       "3               https://us02web.zoom.us/j/8983968244   \n",
       "4  https://us02web.zoom.us/j/88198562544?pwd=WFZm...   \n",
       "\n",
       "                                                Desc  \\\n",
       "0  Tuesday: AA Secular Daily Reflections 3:00pm P...   \n",
       "1  AA Friends currently holds three online meetin...   \n",
       "2  A daily meeting that focuses on experience, st...   \n",
       "3                                           PW billw   \n",
       "4                    Zoom Passcode, if any: serenity   \n",
       "\n",
       "                               Categories                         Email Phone  \n",
       "0                        Audio,Open,Video                           NaN   NaN  \n",
       "1                              Forum,Open             aafriends@usa.com   NaN  \n",
       "2    Audio,Big Book,Discussion,Open,Video  AANewBeginnings230@gmail.com   NaN  \n",
       "3       Big Book,Discussion,Speaker,Video        agneswaterxa@gmail.com   NaN  \n",
       "4  Big Book,Discussion,Open,Speaker,Video        liaazoom2020@gmail.com   NaN  "
      ]
     },
     "execution_count": 4,
     "metadata": {},
     "output_type": "execute_result"
    }
   ],
   "source": [
    "df.head()"
   ]
  },
  {
   "cell_type": "markdown",
   "metadata": {},
   "source": [
    "### Transforming"
   ]
  },
  {
   "cell_type": "markdown",
   "metadata": {},
   "source": [
    "##### Convert 'Time' column to datetime data type"
   ]
  },
  {
   "cell_type": "code",
   "execution_count": 5,
   "metadata": {},
   "outputs": [
    {
     "data": {
      "text/plain": [
       "0       17:00:00\n",
       "1       17:00:00\n",
       "2       17:00:00\n",
       "3       17:00:00\n",
       "4       17:00:00\n",
       "          ...   \n",
       "4162         NaT\n",
       "4163         NaT\n",
       "4164         NaT\n",
       "4165         NaT\n",
       "4166         NaT\n",
       "Name: Time, Length: 4167, dtype: object"
      ]
     },
     "execution_count": 5,
     "metadata": {},
     "output_type": "execute_result"
    }
   ],
   "source": [
    "pd.to_datetime(df[\"Time\"]).dt.time"
   ]
  },
  {
   "cell_type": "code",
   "execution_count": 6,
   "metadata": {},
   "outputs": [
    {
     "data": {
      "text/plain": [
       "0      17:00:00\n",
       "1      17:00:00\n",
       "2      17:00:00\n",
       "3      17:00:00\n",
       "4      17:00:00\n",
       "         ...   \n",
       "4162        NaT\n",
       "4163        NaT\n",
       "4164        NaT\n",
       "4165        NaT\n",
       "4166        NaT\n",
       "Name: Time, Length: 4167, dtype: timedelta64[ns]"
      ]
     },
     "execution_count": 6,
     "metadata": {},
     "output_type": "execute_result"
    }
   ],
   "source": [
    "# dt.normalize() sets time component to 00:00:00, so here we're subtracting the days\n",
    "pd.to_datetime(df[\"Time\"]) - pd.to_datetime(df[\"Time\"]).dt.normalize()"
   ]
  },
  {
   "cell_type": "markdown",
   "metadata": {},
   "source": [
    "In this case, it may be that the time data would be better analyzed as categorical. But since there is an ordinal component to it (\"how many of this earlier in the day or that later in the day?\"), let's just save both versions."
   ]
  },
  {
   "cell_type": "code",
   "execution_count": 7,
   "metadata": {},
   "outputs": [
    {
     "data": {
      "text/html": [
       "<div>\n",
       "<style scoped>\n",
       "    .dataframe tbody tr th:only-of-type {\n",
       "        vertical-align: middle;\n",
       "    }\n",
       "\n",
       "    .dataframe tbody tr th {\n",
       "        vertical-align: top;\n",
       "    }\n",
       "\n",
       "    .dataframe thead th {\n",
       "        text-align: right;\n",
       "    }\n",
       "</style>\n",
       "<table border=\"1\" class=\"dataframe\">\n",
       "  <thead>\n",
       "    <tr style=\"text-align: right;\">\n",
       "      <th></th>\n",
       "      <th>Name</th>\n",
       "      <th>Day</th>\n",
       "      <th>Time</th>\n",
       "      <th>Video</th>\n",
       "      <th>Desc</th>\n",
       "      <th>Categories</th>\n",
       "      <th>Email</th>\n",
       "      <th>Phone</th>\n",
       "      <th>Time_dt</th>\n",
       "      <th>Time_del</th>\n",
       "    </tr>\n",
       "  </thead>\n",
       "  <tbody>\n",
       "    <tr>\n",
       "      <td>0</td>\n",
       "      <td>1 Hole in the Sky AA Meetings: AA Secular Dail...</td>\n",
       "      <td>Tuesday</td>\n",
       "      <td>5:00 pm</td>\n",
       "      <td>https://zoom.us/j/414948190</td>\n",
       "      <td>Tuesday: AA Secular Daily Reflections 3:00pm P...</td>\n",
       "      <td>Audio,Open,Video</td>\n",
       "      <td>NaN</td>\n",
       "      <td>NaN</td>\n",
       "      <td>17:00:00</td>\n",
       "      <td>17:00:00</td>\n",
       "    </tr>\n",
       "    <tr>\n",
       "      <td>1</td>\n",
       "      <td>AA Friends</td>\n",
       "      <td>Tuesday</td>\n",
       "      <td>5:00 pm</td>\n",
       "      <td>https://aafriends.webs.com/</td>\n",
       "      <td>AA Friends currently holds three online meetin...</td>\n",
       "      <td>Forum,Open</td>\n",
       "      <td>aafriends@usa.com</td>\n",
       "      <td>NaN</td>\n",
       "      <td>17:00:00</td>\n",
       "      <td>17:00:00</td>\n",
       "    </tr>\n",
       "    <tr>\n",
       "      <td>2</td>\n",
       "      <td>AA New Beginnings</td>\n",
       "      <td>Tuesday</td>\n",
       "      <td>5:00 pm</td>\n",
       "      <td>https://us02web.zoom.us/j/5662326551</td>\n",
       "      <td>A daily meeting that focuses on experience, st...</td>\n",
       "      <td>Audio,Big Book,Discussion,Open,Video</td>\n",
       "      <td>AANewBeginnings230@gmail.com</td>\n",
       "      <td>NaN</td>\n",
       "      <td>17:00:00</td>\n",
       "      <td>17:00:00</td>\n",
       "    </tr>\n",
       "    <tr>\n",
       "      <td>3</td>\n",
       "      <td>Agnes Water</td>\n",
       "      <td>Tuesday</td>\n",
       "      <td>5:00 pm</td>\n",
       "      <td>https://us02web.zoom.us/j/8983968244</td>\n",
       "      <td>PW billw</td>\n",
       "      <td>Big Book,Discussion,Speaker,Video</td>\n",
       "      <td>agneswaterxa@gmail.com</td>\n",
       "      <td>NaN</td>\n",
       "      <td>17:00:00</td>\n",
       "      <td>17:00:00</td>\n",
       "    </tr>\n",
       "    <tr>\n",
       "      <td>4</td>\n",
       "      <td>Beginners AA meeting</td>\n",
       "      <td>Tuesday</td>\n",
       "      <td>5:00 pm</td>\n",
       "      <td>https://us02web.zoom.us/j/88198562544?pwd=WFZm...</td>\n",
       "      <td>Zoom Passcode, if any: serenity</td>\n",
       "      <td>Big Book,Discussion,Open,Speaker,Video</td>\n",
       "      <td>liaazoom2020@gmail.com</td>\n",
       "      <td>NaN</td>\n",
       "      <td>17:00:00</td>\n",
       "      <td>17:00:00</td>\n",
       "    </tr>\n",
       "  </tbody>\n",
       "</table>\n",
       "</div>"
      ],
      "text/plain": [
       "                                                Name      Day     Time  \\\n",
       "0  1 Hole in the Sky AA Meetings: AA Secular Dail...  Tuesday  5:00 pm   \n",
       "1                                         AA Friends  Tuesday  5:00 pm   \n",
       "2                                  AA New Beginnings  Tuesday  5:00 pm   \n",
       "3                                        Agnes Water  Tuesday  5:00 pm   \n",
       "4                               Beginners AA meeting  Tuesday  5:00 pm   \n",
       "\n",
       "                                               Video  \\\n",
       "0                        https://zoom.us/j/414948190   \n",
       "1                        https://aafriends.webs.com/   \n",
       "2               https://us02web.zoom.us/j/5662326551   \n",
       "3               https://us02web.zoom.us/j/8983968244   \n",
       "4  https://us02web.zoom.us/j/88198562544?pwd=WFZm...   \n",
       "\n",
       "                                                Desc  \\\n",
       "0  Tuesday: AA Secular Daily Reflections 3:00pm P...   \n",
       "1  AA Friends currently holds three online meetin...   \n",
       "2  A daily meeting that focuses on experience, st...   \n",
       "3                                           PW billw   \n",
       "4                    Zoom Passcode, if any: serenity   \n",
       "\n",
       "                               Categories                         Email Phone  \\\n",
       "0                        Audio,Open,Video                           NaN   NaN   \n",
       "1                              Forum,Open             aafriends@usa.com   NaN   \n",
       "2    Audio,Big Book,Discussion,Open,Video  AANewBeginnings230@gmail.com   NaN   \n",
       "3       Big Book,Discussion,Speaker,Video        agneswaterxa@gmail.com   NaN   \n",
       "4  Big Book,Discussion,Open,Speaker,Video        liaazoom2020@gmail.com   NaN   \n",
       "\n",
       "    Time_dt Time_del  \n",
       "0  17:00:00 17:00:00  \n",
       "1  17:00:00 17:00:00  \n",
       "2  17:00:00 17:00:00  \n",
       "3  17:00:00 17:00:00  \n",
       "4  17:00:00 17:00:00  "
      ]
     },
     "execution_count": 7,
     "metadata": {},
     "output_type": "execute_result"
    }
   ],
   "source": [
    "df[\"Time_dt\"] = pd.to_datetime(df[\"Time\"]).dt.time\n",
    "df[\"Time_del\"] = pd.to_datetime(df[\"Time\"]) - pd.to_datetime(df[\"Time\"]).dt.normalize()\n",
    "df.head()"
   ]
  },
  {
   "cell_type": "markdown",
   "metadata": {},
   "source": [
    "##### Weekdays are ordered categorical data"
   ]
  },
  {
   "cell_type": "code",
   "execution_count": 8,
   "metadata": {},
   "outputs": [],
   "source": [
    "from pandas.api.types import CategoricalDtype\n",
    "days = ['Monday', 'Tuesday', 'Wednesday', 'Thursday', 'Friday', 'Saturday', 'Sunday', 'Ongoing']\n",
    "day_type = CategoricalDtype(categories=days, ordered=True)\n",
    "df['Day'] = df['Day'].astype(day_type)"
   ]
  },
  {
   "cell_type": "markdown",
   "metadata": {},
   "source": [
    "##### Create new columns from category labels"
   ]
  },
  {
   "cell_type": "code",
   "execution_count": 9,
   "metadata": {},
   "outputs": [
    {
     "data": {
      "text/plain": [
       "array(['Audio', 'Open', 'Video', 'Forum', 'Big Book', 'Discussion',\n",
       "       'Speaker', 'Closed', 'Telephone', 'Women',\n",
       "       'Loners / Isolationists', 'Chat', 'LGBTQIAA+', 'Young People',\n",
       "       'Men', 'Secular', 'French', 'Steps / Traditions',\n",
       "       'ASL Interpreter', 'Game', 'Blind / Visually Impaired',\n",
       "       'Deaf / Hard of Hearing', 'Email', 'Professionals',\n",
       "       'Openm Discussion. Women', 'Meditation', 'Swedish', 'Seniors',\n",
       "       'ASL', 'Newcomer', 'Hindi', 'Punjabi', '24/7'], dtype=object)"
      ]
     },
     "execution_count": 9,
     "metadata": {},
     "output_type": "execute_result"
    }
   ],
   "source": [
    "all_labels = []\n",
    "for field in df['Categories']:\n",
    "    all_labels.extend(field.split(','))\n",
    "labels = pd.unique(all_labels)\n",
    "labels"
   ]
  },
  {
   "cell_type": "code",
   "execution_count": 10,
   "metadata": {},
   "outputs": [
    {
     "data": {
      "text/plain": [
       "array(['Audio', 'Open', 'Video', 'Forum', 'Big Book', 'Discussion',\n",
       "       'Speaker', 'Closed', 'Telephone', 'Women',\n",
       "       'Loners / Isolationists', 'Chat', 'LGBTQIAA+', 'Young People',\n",
       "       'Men', 'Secular', 'French', 'Steps / Traditions',\n",
       "       'ASL Interpreter', 'Game', 'Blind / Visually Impaired',\n",
       "       'Deaf / Hard of Hearing', 'Email', 'Professionals',\n",
       "       'Openm Discussion. Women', 'Meditation', 'Swedish', 'Seniors',\n",
       "       'ASL', 'Newcomer', 'Hindi', 'Punjabi', '24/7'], dtype=object)"
      ]
     },
     "execution_count": 10,
     "metadata": {},
     "output_type": "execute_result"
    }
   ],
   "source": [
    "labels = pd.unique(all_labels)\n",
    "labels"
   ]
  },
  {
   "cell_type": "markdown",
   "metadata": {},
   "source": [
    "**What is this 'Openm Discussion. Women' value?**"
   ]
  },
  {
   "cell_type": "code",
   "execution_count": 11,
   "metadata": {
    "scrolled": true
   },
   "outputs": [
    {
     "data": {
      "text/html": [
       "<div>\n",
       "<style scoped>\n",
       "    .dataframe tbody tr th:only-of-type {\n",
       "        vertical-align: middle;\n",
       "    }\n",
       "\n",
       "    .dataframe tbody tr th {\n",
       "        vertical-align: top;\n",
       "    }\n",
       "\n",
       "    .dataframe thead th {\n",
       "        text-align: right;\n",
       "    }\n",
       "</style>\n",
       "<table border=\"1\" class=\"dataframe\">\n",
       "  <thead>\n",
       "    <tr style=\"text-align: right;\">\n",
       "      <th></th>\n",
       "      <th>Name</th>\n",
       "      <th>Day</th>\n",
       "      <th>Time</th>\n",
       "      <th>Video</th>\n",
       "      <th>Desc</th>\n",
       "      <th>Categories</th>\n",
       "      <th>Email</th>\n",
       "      <th>Phone</th>\n",
       "      <th>Time_dt</th>\n",
       "      <th>Time_del</th>\n",
       "    </tr>\n",
       "  </thead>\n",
       "  <tbody>\n",
       "    <tr>\n",
       "      <td>240</td>\n",
       "      <td>WHAM-Women Having A Meeting</td>\n",
       "      <td>Tuesday</td>\n",
       "      <td>9:00 pm</td>\n",
       "      <td>https://us02web.zoom.us/j/81398782806</td>\n",
       "      <td>Other Access Code, if any Passcode: Wom3n</td>\n",
       "      <td>Openm Discussion. Women,Telephone,Video</td>\n",
       "      <td>WHAM.AA@aol.com</td>\n",
       "      <td>16699006833</td>\n",
       "      <td>21:00:00</td>\n",
       "      <td>21:00:00</td>\n",
       "    </tr>\n",
       "  </tbody>\n",
       "</table>\n",
       "</div>"
      ],
      "text/plain": [
       "                            Name      Day     Time  \\\n",
       "240  WHAM-Women Having A Meeting  Tuesday  9:00 pm   \n",
       "\n",
       "                                     Video  \\\n",
       "240  https://us02web.zoom.us/j/81398782806   \n",
       "\n",
       "                                          Desc  \\\n",
       "240  Other Access Code, if any Passcode: Wom3n   \n",
       "\n",
       "                                  Categories            Email        Phone  \\\n",
       "240  Openm Discussion. Women,Telephone,Video  WHAM.AA@aol.com  16699006833   \n",
       "\n",
       "      Time_dt Time_del  \n",
       "240  21:00:00 21:00:00  "
      ]
     },
     "execution_count": 11,
     "metadata": {},
     "output_type": "execute_result"
    }
   ],
   "source": [
    "df.loc[df['Categories'].str.contains('Openm Discussion. Women')]"
   ]
  },
  {
   "cell_type": "markdown",
   "metadata": {},
   "source": [
    "Looking at the other category labels, we can go out on a limb and assume this one record is supposed to be Open, Discussion, and Women."
   ]
  },
  {
   "cell_type": "code",
   "execution_count": 12,
   "metadata": {},
   "outputs": [
    {
     "data": {
      "text/plain": [
       "Name                            WHAM-Women Having A Meeting\n",
       "Day                                                 Tuesday\n",
       "Time                                                9:00 pm\n",
       "Video                 https://us02web.zoom.us/j/81398782806\n",
       "Desc              Other Access Code, if any Passcode: Wom3n\n",
       "Categories    Open,Discussion,Women,Telephone,Tuesday,Video\n",
       "Email                                       WHAM.AA@aol.com\n",
       "Phone                                           16699006833\n",
       "Time_dt                                            21:00:00\n",
       "Time_del                                    0 days 21:00:00\n",
       "Name: 240, dtype: object"
      ]
     },
     "execution_count": 12,
     "metadata": {},
     "output_type": "execute_result"
    }
   ],
   "source": [
    "df.at[240, 'Categories'] = 'Open,Discussion,Women,Telephone,Tuesday,Video'\n",
    "df.loc[240]"
   ]
  },
  {
   "cell_type": "markdown",
   "metadata": {},
   "source": [
    "Much better. Hold on, this is supposed to consist of only English-language meetings. What about the other language labels?"
   ]
  },
  {
   "cell_type": "code",
   "execution_count": 13,
   "metadata": {},
   "outputs": [
    {
     "data": {
      "text/html": [
       "<div>\n",
       "<style scoped>\n",
       "    .dataframe tbody tr th:only-of-type {\n",
       "        vertical-align: middle;\n",
       "    }\n",
       "\n",
       "    .dataframe tbody tr th {\n",
       "        vertical-align: top;\n",
       "    }\n",
       "\n",
       "    .dataframe thead th {\n",
       "        text-align: right;\n",
       "    }\n",
       "</style>\n",
       "<table border=\"1\" class=\"dataframe\">\n",
       "  <thead>\n",
       "    <tr style=\"text-align: right;\">\n",
       "      <th></th>\n",
       "      <th>Name</th>\n",
       "      <th>Day</th>\n",
       "      <th>Time</th>\n",
       "      <th>Video</th>\n",
       "      <th>Desc</th>\n",
       "      <th>Categories</th>\n",
       "      <th>Email</th>\n",
       "      <th>Phone</th>\n",
       "      <th>Time_dt</th>\n",
       "      <th>Time_del</th>\n",
       "    </tr>\n",
       "  </thead>\n",
       "  <tbody>\n",
       "    <tr>\n",
       "      <td>85</td>\n",
       "      <td>Vivre et Laisser Vivre</td>\n",
       "      <td>Tuesday</td>\n",
       "      <td>6:30 pm</td>\n",
       "      <td>https://zoom.us/j/497838842</td>\n",
       "      <td>+16699006833,,497838842# US (San Jose)</td>\n",
       "      <td>Audio,French,Open,Telephone,Video</td>\n",
       "      <td>NaN</td>\n",
       "      <td>16465588656,,497838842</td>\n",
       "      <td>18:30:00</td>\n",
       "      <td>18:30:00</td>\n",
       "    </tr>\n",
       "    <tr>\n",
       "      <td>347</td>\n",
       "      <td>Swenglish Lunch Meeting</td>\n",
       "      <td>Wednesday</td>\n",
       "      <td>6:00 am</td>\n",
       "      <td>https://zoom.us/j/4554487458</td>\n",
       "      <td>Web Site:  https://zoom.us/j/4554487458</td>\n",
       "      <td>Swedish</td>\n",
       "      <td>NaN</td>\n",
       "      <td>NaN</td>\n",
       "      <td>06:00:00</td>\n",
       "      <td>06:00:00</td>\n",
       "    </tr>\n",
       "    <tr>\n",
       "      <td>969</td>\n",
       "      <td>Swenglish Lunch Meeting</td>\n",
       "      <td>Thursday</td>\n",
       "      <td>6:00 am</td>\n",
       "      <td>https://zoom.us/j/4554487458</td>\n",
       "      <td>Web Site:  https://zoom.us/j/4554487458</td>\n",
       "      <td>Swedish</td>\n",
       "      <td>NaN</td>\n",
       "      <td>NaN</td>\n",
       "      <td>06:00:00</td>\n",
       "      <td>06:00:00</td>\n",
       "    </tr>\n",
       "    <tr>\n",
       "      <td>1334</td>\n",
       "      <td>South Asian Group of USA</td>\n",
       "      <td>Thursday</td>\n",
       "      <td>7:00 pm</td>\n",
       "      <td>https://us02web.zoom.us/j/81322055835</td>\n",
       "      <td>Room opens at 7.45 PM and stays Open for Fello...</td>\n",
       "      <td>Audio,Discussion,Hindi,Open,Speaker,Telephone,...</td>\n",
       "      <td>SouthAsianGroupUSA@gmail.com</td>\n",
       "      <td>6699006833</td>\n",
       "      <td>19:00:00</td>\n",
       "      <td>19:00:00</td>\n",
       "    </tr>\n",
       "    <tr>\n",
       "      <td>1552</td>\n",
       "      <td>Swenglish Lunch Meeting</td>\n",
       "      <td>Friday</td>\n",
       "      <td>6:00 am</td>\n",
       "      <td>https://zoom.us/j/4554487458</td>\n",
       "      <td>Web Site:  https://zoom.us/j/4554487458</td>\n",
       "      <td>Swedish</td>\n",
       "      <td>NaN</td>\n",
       "      <td>NaN</td>\n",
       "      <td>06:00:00</td>\n",
       "      <td>06:00:00</td>\n",
       "    </tr>\n",
       "    <tr>\n",
       "      <td>2135</td>\n",
       "      <td>Swenglish Lunch Meeting</td>\n",
       "      <td>Saturday</td>\n",
       "      <td>6:00 am</td>\n",
       "      <td>https://zoom.us/j/4554487458</td>\n",
       "      <td>Web Site:  https://zoom.us/j/4554487458</td>\n",
       "      <td>Swedish</td>\n",
       "      <td>NaN</td>\n",
       "      <td>NaN</td>\n",
       "      <td>06:00:00</td>\n",
       "      <td>06:00:00</td>\n",
       "    </tr>\n",
       "    <tr>\n",
       "      <td>2688</td>\n",
       "      <td>Swenglish Lunch Meeting</td>\n",
       "      <td>Sunday</td>\n",
       "      <td>6:00 am</td>\n",
       "      <td>https://zoom.us/j/4554487458</td>\n",
       "      <td>Web Site:  https://zoom.us/j/4554487458</td>\n",
       "      <td>Swedish</td>\n",
       "      <td>NaN</td>\n",
       "      <td>NaN</td>\n",
       "      <td>06:00:00</td>\n",
       "      <td>06:00:00</td>\n",
       "    </tr>\n",
       "    <tr>\n",
       "      <td>2870</td>\n",
       "      <td>The Serenity Group (Sinnesrogruppen) in Sweden...</td>\n",
       "      <td>Sunday</td>\n",
       "      <td>12:30 pm</td>\n",
       "      <td>https://us02web.zoom.us/j/4040899397</td>\n",
       "      <td>Shares can be in English or Swedish.</td>\n",
       "      <td>Open,Speaker,Swedish,Video</td>\n",
       "      <td>sinnesro.stockholm@gmail.com</td>\n",
       "      <td>NaN</td>\n",
       "      <td>12:30:00</td>\n",
       "      <td>12:30:00</td>\n",
       "    </tr>\n",
       "    <tr>\n",
       "      <td>3243</td>\n",
       "      <td>Swenglish Lunch Meeting</td>\n",
       "      <td>Monday</td>\n",
       "      <td>6:00 am</td>\n",
       "      <td>https://zoom.us/j/4554487458</td>\n",
       "      <td>Web Site:  https://zoom.us/j/4554487458</td>\n",
       "      <td>Swedish</td>\n",
       "      <td>NaN</td>\n",
       "      <td>NaN</td>\n",
       "      <td>06:00:00</td>\n",
       "      <td>06:00:00</td>\n",
       "    </tr>\n",
       "    <tr>\n",
       "      <td>3468</td>\n",
       "      <td>Monday Punjabi/English Speaker Meeting</td>\n",
       "      <td>Monday</td>\n",
       "      <td>3:00 pm</td>\n",
       "      <td>https://us02web.zoom.us/j/35544906</td>\n",
       "      <td>ਹਰ ਸੋਮਵਾਰ ਨੂੰ GMT ਵਕ਼ਤ ਦੇ ਹਿਸਾਬ ਨਾਲ ਸ਼ਾਮ ਦੇ  8...</td>\n",
       "      <td>Discussion,Open,Punjabi,Speaker,Video</td>\n",
       "      <td>nomorepretending@outlook.com</td>\n",
       "      <td>NaN</td>\n",
       "      <td>15:00:00</td>\n",
       "      <td>15:00:00</td>\n",
       "    </tr>\n",
       "    <tr>\n",
       "      <td>3840</td>\n",
       "      <td>Swenglish Lunch Meeting</td>\n",
       "      <td>Tuesday</td>\n",
       "      <td>6:00 am</td>\n",
       "      <td>https://zoom.us/j/4554487458</td>\n",
       "      <td>Web Site:  https://zoom.us/j/4554487458</td>\n",
       "      <td>Swedish</td>\n",
       "      <td>NaN</td>\n",
       "      <td>NaN</td>\n",
       "      <td>06:00:00</td>\n",
       "      <td>06:00:00</td>\n",
       "    </tr>\n",
       "    <tr>\n",
       "      <td>4125</td>\n",
       "      <td>aaonlineen.fr</td>\n",
       "      <td>Ongoing</td>\n",
       "      <td>NaN</td>\n",
       "      <td>https://www.aaonlineen.fr</td>\n",
       "      <td>We also have a weekly English F2F meeting in G...</td>\n",
       "      <td>Video,Audio,Open,24/7,French</td>\n",
       "      <td>webmaster@aaonlineen.fr</td>\n",
       "      <td>NaN</td>\n",
       "      <td>NaT</td>\n",
       "      <td>NaT</td>\n",
       "    </tr>\n",
       "  </tbody>\n",
       "</table>\n",
       "</div>"
      ],
      "text/plain": [
       "                                                   Name        Day      Time  \\\n",
       "85                               Vivre et Laisser Vivre    Tuesday   6:30 pm   \n",
       "347                             Swenglish Lunch Meeting  Wednesday   6:00 am   \n",
       "969                             Swenglish Lunch Meeting   Thursday   6:00 am   \n",
       "1334                           South Asian Group of USA   Thursday   7:00 pm   \n",
       "1552                            Swenglish Lunch Meeting     Friday   6:00 am   \n",
       "2135                            Swenglish Lunch Meeting   Saturday   6:00 am   \n",
       "2688                            Swenglish Lunch Meeting     Sunday   6:00 am   \n",
       "2870  The Serenity Group (Sinnesrogruppen) in Sweden...     Sunday  12:30 pm   \n",
       "3243                            Swenglish Lunch Meeting     Monday   6:00 am   \n",
       "3468             Monday Punjabi/English Speaker Meeting     Monday   3:00 pm   \n",
       "3840                            Swenglish Lunch Meeting    Tuesday   6:00 am   \n",
       "4125                                      aaonlineen.fr    Ongoing       NaN   \n",
       "\n",
       "                                      Video  \\\n",
       "85              https://zoom.us/j/497838842   \n",
       "347            https://zoom.us/j/4554487458   \n",
       "969            https://zoom.us/j/4554487458   \n",
       "1334  https://us02web.zoom.us/j/81322055835   \n",
       "1552           https://zoom.us/j/4554487458   \n",
       "2135           https://zoom.us/j/4554487458   \n",
       "2688           https://zoom.us/j/4554487458   \n",
       "2870   https://us02web.zoom.us/j/4040899397   \n",
       "3243           https://zoom.us/j/4554487458   \n",
       "3468     https://us02web.zoom.us/j/35544906   \n",
       "3840           https://zoom.us/j/4554487458   \n",
       "4125              https://www.aaonlineen.fr   \n",
       "\n",
       "                                                   Desc  \\\n",
       "85               +16699006833,,497838842# US (San Jose)   \n",
       "347             Web Site:  https://zoom.us/j/4554487458   \n",
       "969             Web Site:  https://zoom.us/j/4554487458   \n",
       "1334  Room opens at 7.45 PM and stays Open for Fello...   \n",
       "1552            Web Site:  https://zoom.us/j/4554487458   \n",
       "2135            Web Site:  https://zoom.us/j/4554487458   \n",
       "2688            Web Site:  https://zoom.us/j/4554487458   \n",
       "2870               Shares can be in English or Swedish.   \n",
       "3243            Web Site:  https://zoom.us/j/4554487458   \n",
       "3468  ਹਰ ਸੋਮਵਾਰ ਨੂੰ GMT ਵਕ਼ਤ ਦੇ ਹਿਸਾਬ ਨਾਲ ਸ਼ਾਮ ਦੇ  8...   \n",
       "3840            Web Site:  https://zoom.us/j/4554487458   \n",
       "4125  We also have a weekly English F2F meeting in G...   \n",
       "\n",
       "                                             Categories  \\\n",
       "85                    Audio,French,Open,Telephone,Video   \n",
       "347                                             Swedish   \n",
       "969                                             Swedish   \n",
       "1334  Audio,Discussion,Hindi,Open,Speaker,Telephone,...   \n",
       "1552                                            Swedish   \n",
       "2135                                            Swedish   \n",
       "2688                                            Swedish   \n",
       "2870                         Open,Speaker,Swedish,Video   \n",
       "3243                                            Swedish   \n",
       "3468              Discussion,Open,Punjabi,Speaker,Video   \n",
       "3840                                            Swedish   \n",
       "4125                       Video,Audio,Open,24/7,French   \n",
       "\n",
       "                             Email                   Phone   Time_dt Time_del  \n",
       "85                             NaN  16465588656,,497838842  18:30:00 18:30:00  \n",
       "347                            NaN                     NaN  06:00:00 06:00:00  \n",
       "969                            NaN                     NaN  06:00:00 06:00:00  \n",
       "1334  SouthAsianGroupUSA@gmail.com              6699006833  19:00:00 19:00:00  \n",
       "1552                           NaN                     NaN  06:00:00 06:00:00  \n",
       "2135                           NaN                     NaN  06:00:00 06:00:00  \n",
       "2688                           NaN                     NaN  06:00:00 06:00:00  \n",
       "2870  sinnesro.stockholm@gmail.com                     NaN  12:30:00 12:30:00  \n",
       "3243                           NaN                     NaN  06:00:00 06:00:00  \n",
       "3468  nomorepretending@outlook.com                     NaN  15:00:00 15:00:00  \n",
       "3840                           NaN                     NaN  06:00:00 06:00:00  \n",
       "4125       webmaster@aaonlineen.fr                     NaN       NaT      NaT  "
      ]
     },
     "execution_count": 13,
     "metadata": {},
     "output_type": "execute_result"
    }
   ],
   "source": [
    "other_langs = ['French', 'Swedish', 'Hindi', 'Punjabi']\n",
    "df.loc[df['Categories'].str.contains('|'.join(other_langs))]"
   ]
  },
  {
   "cell_type": "markdown",
   "metadata": {},
   "source": [
    "While only the Punjabi meeting has a non-English description, half of these only have a website for a description, so who really knows. These rows make up such a small percentage that I am inclined to simply remove them."
   ]
  },
  {
   "cell_type": "code",
   "execution_count": 14,
   "metadata": {},
   "outputs": [],
   "source": [
    "nonenglish = df[df['Categories'].str.contains('|'.join(other_langs))]\n",
    "df.drop(nonenglish.index, inplace=True)"
   ]
  },
  {
   "cell_type": "markdown",
   "metadata": {},
   "source": [
    "**Back to dummies...**"
   ]
  },
  {
   "cell_type": "code",
   "execution_count": 16,
   "metadata": {},
   "outputs": [
    {
     "data": {
      "text/plain": [
       "array(['Audio', 'Open', 'Video', 'Forum', 'Big Book', 'Discussion',\n",
       "       'Speaker', 'Closed', 'Telephone', 'Women',\n",
       "       'Loners / Isolationists', 'Chat', 'LGBTQIAA+', 'Young People',\n",
       "       'Men', 'Secular', 'Steps / Traditions', 'ASL Interpreter', 'Game',\n",
       "       'Blind / Visually Impaired', 'Deaf / Hard of Hearing', 'Email',\n",
       "       'Professionals', 'Tuesday', 'Meditation', 'Seniors', 'ASL',\n",
       "       'Newcomer', '24/7'], dtype=object)"
      ]
     },
     "execution_count": 16,
     "metadata": {},
     "output_type": "execute_result"
    }
   ],
   "source": [
    "all_labels = []\n",
    "for field in df['Categories']:\n",
    "    all_labels.extend(field.split(','))\n",
    "labels = pd.unique(all_labels)\n",
    "labels"
   ]
  },
  {
   "cell_type": "code",
   "execution_count": 17,
   "metadata": {},
   "outputs": [
    {
     "data": {
      "text/plain": [
       "['Audio', 'Open', 'Video']"
      ]
     },
     "execution_count": 17,
     "metadata": {},
     "output_type": "execute_result"
    }
   ],
   "source": [
    "df['Categories'][0].split(',')"
   ]
  },
  {
   "cell_type": "code",
   "execution_count": 18,
   "metadata": {},
   "outputs": [],
   "source": [
    "zero_matrix = np.zeros((len(df), len(labels)))\n",
    "dummies = pd.DataFrame(zero_matrix, columns=labels)"
   ]
  },
  {
   "cell_type": "code",
   "execution_count": 19,
   "metadata": {},
   "outputs": [
    {
     "data": {
      "text/plain": [
       "Index(['Audio', 'Open', 'Video', 'Forum', 'Big Book', 'Discussion', 'Speaker',\n",
       "       'Closed', 'Telephone', 'Women', 'Loners / Isolationists', 'Chat',\n",
       "       'LGBTQIAA+', 'Young People', 'Men', 'Secular', 'Steps / Traditions',\n",
       "       'ASL Interpreter', 'Game', 'Blind / Visually Impaired',\n",
       "       'Deaf / Hard of Hearing', 'Email', 'Professionals', 'Tuesday',\n",
       "       'Meditation', 'Seniors', 'ASL', 'Newcomer', '24/7'],\n",
       "      dtype='object')"
      ]
     },
     "execution_count": 19,
     "metadata": {},
     "output_type": "execute_result"
    }
   ],
   "source": [
    "dummies.columns"
   ]
  },
  {
   "cell_type": "code",
   "execution_count": 20,
   "metadata": {},
   "outputs": [
    {
     "data": {
      "text/plain": [
       "array([23, -1, -1])"
      ]
     },
     "execution_count": 20,
     "metadata": {},
     "output_type": "execute_result"
    }
   ],
   "source": [
    "dummies.columns.get_indexer(['Tuesday', 'Thursday', 'Snap'])"
   ]
  },
  {
   "cell_type": "code",
   "execution_count": null,
   "metadata": {},
   "outputs": [],
   "source": []
  },
  {
   "cell_type": "markdown",
   "metadata": {},
   "source": [
    "### Describing"
   ]
  },
  {
   "cell_type": "code",
   "execution_count": 21,
   "metadata": {},
   "outputs": [
    {
     "data": {
      "text/plain": [
       "(4155, 10)"
      ]
     },
     "execution_count": 21,
     "metadata": {},
     "output_type": "execute_result"
    }
   ],
   "source": [
    "df.shape"
   ]
  },
  {
   "cell_type": "code",
   "execution_count": 22,
   "metadata": {},
   "outputs": [
    {
     "data": {
      "text/plain": [
       "(Timedelta('0 days 00:00:00'),\n",
       " Timedelta('0 days 23:59:00'),\n",
       " Timedelta('0 days 14:10:38.357037'),\n",
       " 0   19:00:00\n",
       " dtype: timedelta64[ns])"
      ]
     },
     "execution_count": 22,
     "metadata": {},
     "output_type": "execute_result"
    }
   ],
   "source": [
    "df[\"Time_del\"].min(), df[\"Time_del\"].max(), df[\"Time_del\"].mean(), df[\"Time_del\"].mode()"
   ]
  },
  {
   "cell_type": "code",
   "execution_count": 23,
   "metadata": {},
   "outputs": [
    {
     "data": {
      "text/plain": [
       "19:00:00    327\n",
       "11:00:00    278\n",
       "20:00:00    255\n",
       "18:00:00    255\n",
       "21:00:00    212\n",
       "           ... \n",
       "16:02:00      1\n",
       "17:15:00      1\n",
       "21:03:00      1\n",
       "03:30:00      1\n",
       "01:55:00      1\n",
       "Name: Time_del, Length: 84, dtype: int64"
      ]
     },
     "execution_count": 23,
     "metadata": {},
     "output_type": "execute_result"
    }
   ],
   "source": [
    "# Remember these outliers & make histogram\n",
    "df['Time_del'].value_counts()"
   ]
  },
  {
   "cell_type": "code",
   "execution_count": 24,
   "metadata": {},
   "outputs": [
    {
     "data": {
      "text/plain": [
       "Wednesday    625\n",
       "Monday       596\n",
       "Friday       590\n",
       "Tuesday      589\n",
       "Thursday     578\n",
       "Saturday     556\n",
       "Sunday       544\n",
       "Ongoing       77\n",
       "Name: Day, dtype: int64"
      ]
     },
     "execution_count": 24,
     "metadata": {},
     "output_type": "execute_result"
    }
   ],
   "source": [
    "df[\"Day\"].value_counts()"
   ]
  },
  {
   "cell_type": "code",
   "execution_count": null,
   "metadata": {},
   "outputs": [],
   "source": []
  }
 ],
 "metadata": {
  "kernelspec": {
   "display_name": "Python 3",
   "language": "python",
   "name": "python3"
  },
  "language_info": {
   "codemirror_mode": {
    "name": "ipython",
    "version": 3
   },
   "file_extension": ".py",
   "mimetype": "text/x-python",
   "name": "python",
   "nbconvert_exporter": "python",
   "pygments_lexer": "ipython3",
   "version": "3.7.3"
  }
 },
 "nbformat": 4,
 "nbformat_minor": 2
}
