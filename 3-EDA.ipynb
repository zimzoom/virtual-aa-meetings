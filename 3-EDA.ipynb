{
 "cells": [
  {
   "cell_type": "markdown",
   "metadata": {},
   "source": [
    "# EDA"
   ]
  },
  {
   "cell_type": "code",
   "execution_count": 1,
   "metadata": {},
   "outputs": [],
   "source": [
    "import pandas as pd\n",
    "import numpy as np\n",
    "import datetime as dt"
   ]
  },
  {
   "cell_type": "code",
   "execution_count": 2,
   "metadata": {},
   "outputs": [],
   "source": [
    "csvfile = \"meetings_short.csv\""
   ]
  },
  {
   "cell_type": "code",
   "execution_count": 3,
   "metadata": {},
   "outputs": [],
   "source": [
    "df = pd.read_csv(csvfile)"
   ]
  },
  {
   "cell_type": "code",
   "execution_count": 4,
   "metadata": {},
   "outputs": [
    {
     "data": {
      "text/html": [
       "<div>\n",
       "<style scoped>\n",
       "    .dataframe tbody tr th:only-of-type {\n",
       "        vertical-align: middle;\n",
       "    }\n",
       "\n",
       "    .dataframe tbody tr th {\n",
       "        vertical-align: top;\n",
       "    }\n",
       "\n",
       "    .dataframe thead th {\n",
       "        text-align: right;\n",
       "    }\n",
       "</style>\n",
       "<table border=\"1\" class=\"dataframe\">\n",
       "  <thead>\n",
       "    <tr style=\"text-align: right;\">\n",
       "      <th></th>\n",
       "      <th>Name</th>\n",
       "      <th>Day</th>\n",
       "      <th>Time</th>\n",
       "      <th>Video</th>\n",
       "      <th>Email</th>\n",
       "      <th>Desc</th>\n",
       "      <th>Categories</th>\n",
       "      <th>Phone</th>\n",
       "    </tr>\n",
       "  </thead>\n",
       "  <tbody>\n",
       "    <tr>\n",
       "      <td>0</td>\n",
       "      <td>AA Lucan</td>\n",
       "      <td>Tuesday</td>\n",
       "      <td>3:00 pm</td>\n",
       "      <td>https://us02web.zoom.us/j/86771088384?pwd=UmJR...</td>\n",
       "      <td>lucanonlinegroup@gmail.com</td>\n",
       "      <td>An open AA meeting based out of Dublin, Irelan...</td>\n",
       "      <td>Audio,Open,Tuesday,Video</td>\n",
       "      <td>NaN</td>\n",
       "    </tr>\n",
       "    <tr>\n",
       "      <td>1</td>\n",
       "      <td>AA North Portugal</td>\n",
       "      <td>Tuesday</td>\n",
       "      <td>3:00 pm</td>\n",
       "      <td>https://us02web.zoom.us/j/3728994472</td>\n",
       "      <td>aaportugalnorth@outlook.com</td>\n",
       "      <td>Public Email Contact, if any: aaportugalnorth@...</td>\n",
       "      <td>Open,Tuesday,Video</td>\n",
       "      <td>NaN</td>\n",
       "    </tr>\n",
       "    <tr>\n",
       "      <td>2</td>\n",
       "      <td>HOPE Group</td>\n",
       "      <td>Tuesday</td>\n",
       "      <td>3:00 pm</td>\n",
       "      <td>https://zoom.us/j/96250625525</td>\n",
       "      <td>hopenonlysi@gmail.com</td>\n",
       "      <td>Closed Discussion. We read the 3 last paragrap...</td>\n",
       "      <td>Audio,Discussion,Telephone,Tuesday,Video</td>\n",
       "      <td>16465588656</td>\n",
       "    </tr>\n",
       "    <tr>\n",
       "      <td>3</td>\n",
       "      <td>No Fees, No Dues</td>\n",
       "      <td>Tuesday</td>\n",
       "      <td>3:00 pm</td>\n",
       "      <td>https://meet.jit.si/247recovery</td>\n",
       "      <td>nofeesnodues@gmail.com</td>\n",
       "      <td>It is encouraged that a structured meeting beg...</td>\n",
       "      <td>Audio,Closed,Telephone,Tuesday,Video</td>\n",
       "      <td>NaN</td>\n",
       "    </tr>\n",
       "    <tr>\n",
       "      <td>4</td>\n",
       "      <td>PG &amp; Chill</td>\n",
       "      <td>Tuesday</td>\n",
       "      <td>3:00 pm</td>\n",
       "      <td>https://us02web.zoom.us/j/802496652</td>\n",
       "      <td>superdave1212@mac.com</td>\n",
       "      <td>Password 960328</td>\n",
       "      <td>Audio,Open,Telephone,Tuesday,Video</td>\n",
       "      <td>16699006833,,802496652</td>\n",
       "    </tr>\n",
       "  </tbody>\n",
       "</table>\n",
       "</div>"
      ],
      "text/plain": [
       "                Name      Day     Time  \\\n",
       "0           AA Lucan  Tuesday  3:00 pm   \n",
       "1  AA North Portugal  Tuesday  3:00 pm   \n",
       "2         HOPE Group  Tuesday  3:00 pm   \n",
       "3   No Fees, No Dues  Tuesday  3:00 pm   \n",
       "4         PG & Chill  Tuesday  3:00 pm   \n",
       "\n",
       "                                               Video  \\\n",
       "0  https://us02web.zoom.us/j/86771088384?pwd=UmJR...   \n",
       "1               https://us02web.zoom.us/j/3728994472   \n",
       "2                      https://zoom.us/j/96250625525   \n",
       "3                    https://meet.jit.si/247recovery   \n",
       "4                https://us02web.zoom.us/j/802496652   \n",
       "\n",
       "                         Email  \\\n",
       "0   lucanonlinegroup@gmail.com   \n",
       "1  aaportugalnorth@outlook.com   \n",
       "2        hopenonlysi@gmail.com   \n",
       "3       nofeesnodues@gmail.com   \n",
       "4        superdave1212@mac.com   \n",
       "\n",
       "                                                Desc  \\\n",
       "0  An open AA meeting based out of Dublin, Irelan...   \n",
       "1  Public Email Contact, if any: aaportugalnorth@...   \n",
       "2  Closed Discussion. We read the 3 last paragrap...   \n",
       "3  It is encouraged that a structured meeting beg...   \n",
       "4                                    Password 960328   \n",
       "\n",
       "                                 Categories                   Phone  \n",
       "0                  Audio,Open,Tuesday,Video                     NaN  \n",
       "1                        Open,Tuesday,Video                     NaN  \n",
       "2  Audio,Discussion,Telephone,Tuesday,Video             16465588656  \n",
       "3      Audio,Closed,Telephone,Tuesday,Video                     NaN  \n",
       "4        Audio,Open,Telephone,Tuesday,Video  16699006833,,802496652  "
      ]
     },
     "execution_count": 4,
     "metadata": {},
     "output_type": "execute_result"
    }
   ],
   "source": [
    "df.head()"
   ]
  },
  {
   "cell_type": "markdown",
   "metadata": {},
   "source": [
    "### Transforming"
   ]
  },
  {
   "cell_type": "markdown",
   "metadata": {},
   "source": [
    "##### Convert 'Time' column to datetime data type"
   ]
  },
  {
   "cell_type": "code",
   "execution_count": 27,
   "metadata": {},
   "outputs": [
    {
     "data": {
      "text/plain": [
       "0    15:00:00\n",
       "1    15:00:00\n",
       "2    15:00:00\n",
       "3    15:00:00\n",
       "4    15:00:00\n",
       "5    15:00:00\n",
       "6    15:00:00\n",
       "7    15:00:00\n",
       "8    15:00:00\n",
       "9    15:30:00\n",
       "Name: Time, dtype: object"
      ]
     },
     "execution_count": 27,
     "metadata": {},
     "output_type": "execute_result"
    }
   ],
   "source": [
    "pd.to_datetime(df[\"Time\"]).dt.time"
   ]
  },
  {
   "cell_type": "code",
   "execution_count": 36,
   "metadata": {},
   "outputs": [
    {
     "data": {
      "text/plain": [
       "0   15:00:00\n",
       "1   15:00:00\n",
       "2   15:00:00\n",
       "3   15:00:00\n",
       "4   15:00:00\n",
       "5   15:00:00\n",
       "6   15:00:00\n",
       "7   15:00:00\n",
       "8   15:00:00\n",
       "9   15:30:00\n",
       "Name: Time, dtype: timedelta64[ns]"
      ]
     },
     "execution_count": 36,
     "metadata": {},
     "output_type": "execute_result"
    }
   ],
   "source": [
    "# dt.normalize() sets time component to 00:00:00, so here we're subtracting the days\n",
    "pd.to_datetime(df[\"Time\"]) - pd.to_datetime(df[\"Time\"]).dt.normalize()"
   ]
  },
  {
   "cell_type": "markdown",
   "metadata": {},
   "source": [
    "In this case, it may be that the time data would be better analyzed as categorical. But since there is an ordinal component to it (\"how many of this earlier in the day or that later in the day?\"), let's just save both versions."
   ]
  },
  {
   "cell_type": "code",
   "execution_count": 37,
   "metadata": {},
   "outputs": [
    {
     "data": {
      "text/html": [
       "<div>\n",
       "<style scoped>\n",
       "    .dataframe tbody tr th:only-of-type {\n",
       "        vertical-align: middle;\n",
       "    }\n",
       "\n",
       "    .dataframe tbody tr th {\n",
       "        vertical-align: top;\n",
       "    }\n",
       "\n",
       "    .dataframe thead th {\n",
       "        text-align: right;\n",
       "    }\n",
       "</style>\n",
       "<table border=\"1\" class=\"dataframe\">\n",
       "  <thead>\n",
       "    <tr style=\"text-align: right;\">\n",
       "      <th></th>\n",
       "      <th>Name</th>\n",
       "      <th>Day</th>\n",
       "      <th>Time</th>\n",
       "      <th>Video</th>\n",
       "      <th>Email</th>\n",
       "      <th>Desc</th>\n",
       "      <th>Categories</th>\n",
       "      <th>Phone</th>\n",
       "      <th>Time_dt</th>\n",
       "      <th>Time_del</th>\n",
       "    </tr>\n",
       "  </thead>\n",
       "  <tbody>\n",
       "    <tr>\n",
       "      <td>0</td>\n",
       "      <td>AA Lucan</td>\n",
       "      <td>Tuesday</td>\n",
       "      <td>3:00 pm</td>\n",
       "      <td>https://us02web.zoom.us/j/86771088384?pwd=UmJR...</td>\n",
       "      <td>lucanonlinegroup@gmail.com</td>\n",
       "      <td>An open AA meeting based out of Dublin, Irelan...</td>\n",
       "      <td>Audio,Open,Tuesday,Video</td>\n",
       "      <td>NaN</td>\n",
       "      <td>15:00:00</td>\n",
       "      <td>15:00:00</td>\n",
       "    </tr>\n",
       "    <tr>\n",
       "      <td>1</td>\n",
       "      <td>AA North Portugal</td>\n",
       "      <td>Tuesday</td>\n",
       "      <td>3:00 pm</td>\n",
       "      <td>https://us02web.zoom.us/j/3728994472</td>\n",
       "      <td>aaportugalnorth@outlook.com</td>\n",
       "      <td>Public Email Contact, if any: aaportugalnorth@...</td>\n",
       "      <td>Open,Tuesday,Video</td>\n",
       "      <td>NaN</td>\n",
       "      <td>15:00:00</td>\n",
       "      <td>15:00:00</td>\n",
       "    </tr>\n",
       "    <tr>\n",
       "      <td>2</td>\n",
       "      <td>HOPE Group</td>\n",
       "      <td>Tuesday</td>\n",
       "      <td>3:00 pm</td>\n",
       "      <td>https://zoom.us/j/96250625525</td>\n",
       "      <td>hopenonlysi@gmail.com</td>\n",
       "      <td>Closed Discussion. We read the 3 last paragrap...</td>\n",
       "      <td>Audio,Discussion,Telephone,Tuesday,Video</td>\n",
       "      <td>16465588656</td>\n",
       "      <td>15:00:00</td>\n",
       "      <td>15:00:00</td>\n",
       "    </tr>\n",
       "    <tr>\n",
       "      <td>3</td>\n",
       "      <td>No Fees, No Dues</td>\n",
       "      <td>Tuesday</td>\n",
       "      <td>3:00 pm</td>\n",
       "      <td>https://meet.jit.si/247recovery</td>\n",
       "      <td>nofeesnodues@gmail.com</td>\n",
       "      <td>It is encouraged that a structured meeting beg...</td>\n",
       "      <td>Audio,Closed,Telephone,Tuesday,Video</td>\n",
       "      <td>NaN</td>\n",
       "      <td>15:00:00</td>\n",
       "      <td>15:00:00</td>\n",
       "    </tr>\n",
       "    <tr>\n",
       "      <td>4</td>\n",
       "      <td>PG &amp; Chill</td>\n",
       "      <td>Tuesday</td>\n",
       "      <td>3:00 pm</td>\n",
       "      <td>https://us02web.zoom.us/j/802496652</td>\n",
       "      <td>superdave1212@mac.com</td>\n",
       "      <td>Password 960328</td>\n",
       "      <td>Audio,Open,Telephone,Tuesday,Video</td>\n",
       "      <td>16699006833,,802496652</td>\n",
       "      <td>15:00:00</td>\n",
       "      <td>15:00:00</td>\n",
       "    </tr>\n",
       "  </tbody>\n",
       "</table>\n",
       "</div>"
      ],
      "text/plain": [
       "                Name      Day     Time  \\\n",
       "0           AA Lucan  Tuesday  3:00 pm   \n",
       "1  AA North Portugal  Tuesday  3:00 pm   \n",
       "2         HOPE Group  Tuesday  3:00 pm   \n",
       "3   No Fees, No Dues  Tuesday  3:00 pm   \n",
       "4         PG & Chill  Tuesday  3:00 pm   \n",
       "\n",
       "                                               Video  \\\n",
       "0  https://us02web.zoom.us/j/86771088384?pwd=UmJR...   \n",
       "1               https://us02web.zoom.us/j/3728994472   \n",
       "2                      https://zoom.us/j/96250625525   \n",
       "3                    https://meet.jit.si/247recovery   \n",
       "4                https://us02web.zoom.us/j/802496652   \n",
       "\n",
       "                         Email  \\\n",
       "0   lucanonlinegroup@gmail.com   \n",
       "1  aaportugalnorth@outlook.com   \n",
       "2        hopenonlysi@gmail.com   \n",
       "3       nofeesnodues@gmail.com   \n",
       "4        superdave1212@mac.com   \n",
       "\n",
       "                                                Desc  \\\n",
       "0  An open AA meeting based out of Dublin, Irelan...   \n",
       "1  Public Email Contact, if any: aaportugalnorth@...   \n",
       "2  Closed Discussion. We read the 3 last paragrap...   \n",
       "3  It is encouraged that a structured meeting beg...   \n",
       "4                                    Password 960328   \n",
       "\n",
       "                                 Categories                   Phone   Time_dt  \\\n",
       "0                  Audio,Open,Tuesday,Video                     NaN  15:00:00   \n",
       "1                        Open,Tuesday,Video                     NaN  15:00:00   \n",
       "2  Audio,Discussion,Telephone,Tuesday,Video             16465588656  15:00:00   \n",
       "3      Audio,Closed,Telephone,Tuesday,Video                     NaN  15:00:00   \n",
       "4        Audio,Open,Telephone,Tuesday,Video  16699006833,,802496652  15:00:00   \n",
       "\n",
       "  Time_del  \n",
       "0 15:00:00  \n",
       "1 15:00:00  \n",
       "2 15:00:00  \n",
       "3 15:00:00  \n",
       "4 15:00:00  "
      ]
     },
     "execution_count": 37,
     "metadata": {},
     "output_type": "execute_result"
    }
   ],
   "source": [
    "df[\"Time_dt\"] = pd.to_datetime(df[\"Time\"]).dt.time\n",
    "df[\"Time_del\"] = pd.to_datetime(df[\"Time\"]) - pd.to_datetime(df[\"Time\"]).dt.normalize()\n",
    "df.head()"
   ]
  },
  {
   "cell_type": "markdown",
   "metadata": {},
   "source": [
    "##### Weekdays are ordered categorical data"
   ]
  },
  {
   "cell_type": "code",
   "execution_count": 41,
   "metadata": {},
   "outputs": [],
   "source": [
    "from pandas.api.types import CategoricalDtype\n",
    "days = ['Monday', 'Tuesday', 'Wednesday', 'Thursday', 'Friday', 'Saturday', 'Sunday']\n",
    "day_type = CategoricalDtype(categories=days, ordered=True)\n",
    "df['Day'] = df['Day'].astype(day_type)"
   ]
  },
  {
   "cell_type": "markdown",
   "metadata": {},
   "source": [
    "### Describing"
   ]
  },
  {
   "cell_type": "code",
   "execution_count": 53,
   "metadata": {},
   "outputs": [
    {
     "data": {
      "text/plain": [
       "Timedelta('0 days 15:30:00')"
      ]
     },
     "execution_count": 53,
     "metadata": {},
     "output_type": "execute_result"
    }
   ],
   "source": [
    "df[\"Time_del\"].min()\n",
    "df[\"Time_del\"].max()"
   ]
  },
  {
   "cell_type": "code",
   "execution_count": 54,
   "metadata": {},
   "outputs": [
    {
     "data": {
      "text/plain": [
       "Tuesday      10\n",
       "Sunday        0\n",
       "Saturday      0\n",
       "Friday        0\n",
       "Thursday      0\n",
       "Wednesday     0\n",
       "Monday        0\n",
       "Name: Day, dtype: int64"
      ]
     },
     "execution_count": 54,
     "metadata": {},
     "output_type": "execute_result"
    }
   ],
   "source": [
    "df[\"Day\"].value_counts()"
   ]
  },
  {
   "cell_type": "code",
   "execution_count": 56,
   "metadata": {},
   "outputs": [
    {
     "data": {
      "text/plain": [
       "15:00:00    9\n",
       "15:30:00    1\n",
       "Name: Time_del, dtype: int64"
      ]
     },
     "execution_count": 56,
     "metadata": {},
     "output_type": "execute_result"
    }
   ],
   "source": [
    "df['Time_del'].value_counts()"
   ]
  }
 ],
 "metadata": {
  "kernelspec": {
   "display_name": "Python 3",
   "language": "python",
   "name": "python3"
  },
  "language_info": {
   "codemirror_mode": {
    "name": "ipython",
    "version": 3
   },
   "file_extension": ".py",
   "mimetype": "text/x-python",
   "name": "python",
   "nbconvert_exporter": "python",
   "pygments_lexer": "ipython3",
   "version": "3.7.3"
  }
 },
 "nbformat": 4,
 "nbformat_minor": 2
}
