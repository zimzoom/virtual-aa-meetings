{
 "cells": [
  {
   "cell_type": "markdown",
   "metadata": {},
   "source": [
    "# EDA"
   ]
  },
  {
   "cell_type": "code",
   "execution_count": 1,
   "metadata": {},
   "outputs": [],
   "source": [
    "import pandas as pd\n",
    "import numpy as np"
   ]
  },
  {
   "cell_type": "code",
   "execution_count": 2,
   "metadata": {},
   "outputs": [],
   "source": [
    "import matplotlib.pyplot as plt\n",
    "%matplotlib notebook"
   ]
  },
  {
   "cell_type": "code",
   "execution_count": 3,
   "metadata": {},
   "outputs": [],
   "source": [
    "csvfile = \"meetings_complete.csv\""
   ]
  },
  {
   "cell_type": "code",
   "execution_count": 4,
   "metadata": {},
   "outputs": [],
   "source": [
    "df = pd.read_csv(csvfile)"
   ]
  },
  {
   "cell_type": "code",
   "execution_count": 5,
   "metadata": {},
   "outputs": [
    {
     "data": {
      "text/html": [
       "<div>\n",
       "<style scoped>\n",
       "    .dataframe tbody tr th:only-of-type {\n",
       "        vertical-align: middle;\n",
       "    }\n",
       "\n",
       "    .dataframe tbody tr th {\n",
       "        vertical-align: top;\n",
       "    }\n",
       "\n",
       "    .dataframe thead th {\n",
       "        text-align: right;\n",
       "    }\n",
       "</style>\n",
       "<table border=\"1\" class=\"dataframe\">\n",
       "  <thead>\n",
       "    <tr style=\"text-align: right;\">\n",
       "      <th></th>\n",
       "      <th>Name</th>\n",
       "      <th>Day</th>\n",
       "      <th>Time</th>\n",
       "      <th>Video</th>\n",
       "      <th>Desc</th>\n",
       "      <th>Categories</th>\n",
       "      <th>Email</th>\n",
       "      <th>Phone</th>\n",
       "    </tr>\n",
       "  </thead>\n",
       "  <tbody>\n",
       "    <tr>\n",
       "      <td>0</td>\n",
       "      <td>1 Hole in the Sky AA Meetings: AA Secular Dail...</td>\n",
       "      <td>Tuesday</td>\n",
       "      <td>5:00 pm</td>\n",
       "      <td>https://zoom.us/j/414948190</td>\n",
       "      <td>Tuesday: AA Secular Daily Reflections 3:00pm P...</td>\n",
       "      <td>Audio,Open,Video</td>\n",
       "      <td>NaN</td>\n",
       "      <td>NaN</td>\n",
       "    </tr>\n",
       "    <tr>\n",
       "      <td>1</td>\n",
       "      <td>AA Friends</td>\n",
       "      <td>Tuesday</td>\n",
       "      <td>5:00 pm</td>\n",
       "      <td>https://aafriends.webs.com/</td>\n",
       "      <td>AA Friends currently holds three online meetin...</td>\n",
       "      <td>Forum,Open</td>\n",
       "      <td>aafriends@usa.com</td>\n",
       "      <td>NaN</td>\n",
       "    </tr>\n",
       "    <tr>\n",
       "      <td>2</td>\n",
       "      <td>AA New Beginnings</td>\n",
       "      <td>Tuesday</td>\n",
       "      <td>5:00 pm</td>\n",
       "      <td>https://us02web.zoom.us/j/5662326551</td>\n",
       "      <td>A daily meeting that focuses on experience, st...</td>\n",
       "      <td>Audio,Big Book,Discussion,Open,Video</td>\n",
       "      <td>AANewBeginnings230@gmail.com</td>\n",
       "      <td>NaN</td>\n",
       "    </tr>\n",
       "    <tr>\n",
       "      <td>3</td>\n",
       "      <td>Agnes Water</td>\n",
       "      <td>Tuesday</td>\n",
       "      <td>5:00 pm</td>\n",
       "      <td>https://us02web.zoom.us/j/8983968244</td>\n",
       "      <td>PW billw</td>\n",
       "      <td>Big Book,Discussion,Speaker,Video</td>\n",
       "      <td>agneswaterxa@gmail.com</td>\n",
       "      <td>NaN</td>\n",
       "    </tr>\n",
       "    <tr>\n",
       "      <td>4</td>\n",
       "      <td>Beginners AA meeting</td>\n",
       "      <td>Tuesday</td>\n",
       "      <td>5:00 pm</td>\n",
       "      <td>https://us02web.zoom.us/j/88198562544?pwd=WFZm...</td>\n",
       "      <td>Zoom Passcode, if any: serenity</td>\n",
       "      <td>Big Book,Discussion,Open,Speaker,Video</td>\n",
       "      <td>liaazoom2020@gmail.com</td>\n",
       "      <td>NaN</td>\n",
       "    </tr>\n",
       "  </tbody>\n",
       "</table>\n",
       "</div>"
      ],
      "text/plain": [
       "                                                Name      Day     Time  \\\n",
       "0  1 Hole in the Sky AA Meetings: AA Secular Dail...  Tuesday  5:00 pm   \n",
       "1                                         AA Friends  Tuesday  5:00 pm   \n",
       "2                                  AA New Beginnings  Tuesday  5:00 pm   \n",
       "3                                        Agnes Water  Tuesday  5:00 pm   \n",
       "4                               Beginners AA meeting  Tuesday  5:00 pm   \n",
       "\n",
       "                                               Video  \\\n",
       "0                        https://zoom.us/j/414948190   \n",
       "1                        https://aafriends.webs.com/   \n",
       "2               https://us02web.zoom.us/j/5662326551   \n",
       "3               https://us02web.zoom.us/j/8983968244   \n",
       "4  https://us02web.zoom.us/j/88198562544?pwd=WFZm...   \n",
       "\n",
       "                                                Desc  \\\n",
       "0  Tuesday: AA Secular Daily Reflections 3:00pm P...   \n",
       "1  AA Friends currently holds three online meetin...   \n",
       "2  A daily meeting that focuses on experience, st...   \n",
       "3                                           PW billw   \n",
       "4                    Zoom Passcode, if any: serenity   \n",
       "\n",
       "                               Categories                         Email Phone  \n",
       "0                        Audio,Open,Video                           NaN   NaN  \n",
       "1                              Forum,Open             aafriends@usa.com   NaN  \n",
       "2    Audio,Big Book,Discussion,Open,Video  AANewBeginnings230@gmail.com   NaN  \n",
       "3       Big Book,Discussion,Speaker,Video        agneswaterxa@gmail.com   NaN  \n",
       "4  Big Book,Discussion,Open,Speaker,Video        liaazoom2020@gmail.com   NaN  "
      ]
     },
     "execution_count": 5,
     "metadata": {},
     "output_type": "execute_result"
    }
   ],
   "source": [
    "df.head()"
   ]
  },
  {
   "cell_type": "markdown",
   "metadata": {},
   "source": [
    "### Transforming"
   ]
  },
  {
   "cell_type": "markdown",
   "metadata": {},
   "source": [
    "##### Convert 'Time' column to datetime data type"
   ]
  },
  {
   "cell_type": "code",
   "execution_count": 6,
   "metadata": {},
   "outputs": [
    {
     "data": {
      "text/plain": [
       "0       17:00:00\n",
       "1       17:00:00\n",
       "2       17:00:00\n",
       "3       17:00:00\n",
       "4       17:00:00\n",
       "          ...   \n",
       "4162         NaT\n",
       "4163         NaT\n",
       "4164         NaT\n",
       "4165         NaT\n",
       "4166         NaT\n",
       "Name: Time, Length: 4167, dtype: object"
      ]
     },
     "execution_count": 6,
     "metadata": {},
     "output_type": "execute_result"
    }
   ],
   "source": [
    "pd.to_datetime(df[\"Time\"]).dt.time"
   ]
  },
  {
   "cell_type": "code",
   "execution_count": 7,
   "metadata": {},
   "outputs": [
    {
     "data": {
      "text/plain": [
       "0      17:00:00\n",
       "1      17:00:00\n",
       "2      17:00:00\n",
       "3      17:00:00\n",
       "4      17:00:00\n",
       "         ...   \n",
       "4162        NaT\n",
       "4163        NaT\n",
       "4164        NaT\n",
       "4165        NaT\n",
       "4166        NaT\n",
       "Name: Time, Length: 4167, dtype: timedelta64[ns]"
      ]
     },
     "execution_count": 7,
     "metadata": {},
     "output_type": "execute_result"
    }
   ],
   "source": [
    "# dt.normalize() sets time component to 00:00:00, so here we're subtracting the days\n",
    "pd.to_datetime(df[\"Time\"]) - pd.to_datetime(df[\"Time\"]).dt.normalize()"
   ]
  },
  {
   "cell_type": "markdown",
   "metadata": {},
   "source": [
    "In this case, it may be that the time data would be better analyzed as categorical. But since there is an ordinal component to it (\"how many of this earlier in the day or that later in the day?\"), let's just save both versions."
   ]
  },
  {
   "cell_type": "code",
   "execution_count": 8,
   "metadata": {},
   "outputs": [
    {
     "data": {
      "text/html": [
       "<div>\n",
       "<style scoped>\n",
       "    .dataframe tbody tr th:only-of-type {\n",
       "        vertical-align: middle;\n",
       "    }\n",
       "\n",
       "    .dataframe tbody tr th {\n",
       "        vertical-align: top;\n",
       "    }\n",
       "\n",
       "    .dataframe thead th {\n",
       "        text-align: right;\n",
       "    }\n",
       "</style>\n",
       "<table border=\"1\" class=\"dataframe\">\n",
       "  <thead>\n",
       "    <tr style=\"text-align: right;\">\n",
       "      <th></th>\n",
       "      <th>Name</th>\n",
       "      <th>Day</th>\n",
       "      <th>Time</th>\n",
       "      <th>Video</th>\n",
       "      <th>Desc</th>\n",
       "      <th>Categories</th>\n",
       "      <th>Email</th>\n",
       "      <th>Phone</th>\n",
       "      <th>Time_dt</th>\n",
       "      <th>Time_del</th>\n",
       "    </tr>\n",
       "  </thead>\n",
       "  <tbody>\n",
       "    <tr>\n",
       "      <td>0</td>\n",
       "      <td>1 Hole in the Sky AA Meetings: AA Secular Dail...</td>\n",
       "      <td>Tuesday</td>\n",
       "      <td>5:00 pm</td>\n",
       "      <td>https://zoom.us/j/414948190</td>\n",
       "      <td>Tuesday: AA Secular Daily Reflections 3:00pm P...</td>\n",
       "      <td>Audio,Open,Video</td>\n",
       "      <td>NaN</td>\n",
       "      <td>NaN</td>\n",
       "      <td>17:00:00</td>\n",
       "      <td>17:00:00</td>\n",
       "    </tr>\n",
       "    <tr>\n",
       "      <td>1</td>\n",
       "      <td>AA Friends</td>\n",
       "      <td>Tuesday</td>\n",
       "      <td>5:00 pm</td>\n",
       "      <td>https://aafriends.webs.com/</td>\n",
       "      <td>AA Friends currently holds three online meetin...</td>\n",
       "      <td>Forum,Open</td>\n",
       "      <td>aafriends@usa.com</td>\n",
       "      <td>NaN</td>\n",
       "      <td>17:00:00</td>\n",
       "      <td>17:00:00</td>\n",
       "    </tr>\n",
       "    <tr>\n",
       "      <td>2</td>\n",
       "      <td>AA New Beginnings</td>\n",
       "      <td>Tuesday</td>\n",
       "      <td>5:00 pm</td>\n",
       "      <td>https://us02web.zoom.us/j/5662326551</td>\n",
       "      <td>A daily meeting that focuses on experience, st...</td>\n",
       "      <td>Audio,Big Book,Discussion,Open,Video</td>\n",
       "      <td>AANewBeginnings230@gmail.com</td>\n",
       "      <td>NaN</td>\n",
       "      <td>17:00:00</td>\n",
       "      <td>17:00:00</td>\n",
       "    </tr>\n",
       "    <tr>\n",
       "      <td>3</td>\n",
       "      <td>Agnes Water</td>\n",
       "      <td>Tuesday</td>\n",
       "      <td>5:00 pm</td>\n",
       "      <td>https://us02web.zoom.us/j/8983968244</td>\n",
       "      <td>PW billw</td>\n",
       "      <td>Big Book,Discussion,Speaker,Video</td>\n",
       "      <td>agneswaterxa@gmail.com</td>\n",
       "      <td>NaN</td>\n",
       "      <td>17:00:00</td>\n",
       "      <td>17:00:00</td>\n",
       "    </tr>\n",
       "    <tr>\n",
       "      <td>4</td>\n",
       "      <td>Beginners AA meeting</td>\n",
       "      <td>Tuesday</td>\n",
       "      <td>5:00 pm</td>\n",
       "      <td>https://us02web.zoom.us/j/88198562544?pwd=WFZm...</td>\n",
       "      <td>Zoom Passcode, if any: serenity</td>\n",
       "      <td>Big Book,Discussion,Open,Speaker,Video</td>\n",
       "      <td>liaazoom2020@gmail.com</td>\n",
       "      <td>NaN</td>\n",
       "      <td>17:00:00</td>\n",
       "      <td>17:00:00</td>\n",
       "    </tr>\n",
       "  </tbody>\n",
       "</table>\n",
       "</div>"
      ],
      "text/plain": [
       "                                                Name      Day     Time  \\\n",
       "0  1 Hole in the Sky AA Meetings: AA Secular Dail...  Tuesday  5:00 pm   \n",
       "1                                         AA Friends  Tuesday  5:00 pm   \n",
       "2                                  AA New Beginnings  Tuesday  5:00 pm   \n",
       "3                                        Agnes Water  Tuesday  5:00 pm   \n",
       "4                               Beginners AA meeting  Tuesday  5:00 pm   \n",
       "\n",
       "                                               Video  \\\n",
       "0                        https://zoom.us/j/414948190   \n",
       "1                        https://aafriends.webs.com/   \n",
       "2               https://us02web.zoom.us/j/5662326551   \n",
       "3               https://us02web.zoom.us/j/8983968244   \n",
       "4  https://us02web.zoom.us/j/88198562544?pwd=WFZm...   \n",
       "\n",
       "                                                Desc  \\\n",
       "0  Tuesday: AA Secular Daily Reflections 3:00pm P...   \n",
       "1  AA Friends currently holds three online meetin...   \n",
       "2  A daily meeting that focuses on experience, st...   \n",
       "3                                           PW billw   \n",
       "4                    Zoom Passcode, if any: serenity   \n",
       "\n",
       "                               Categories                         Email Phone  \\\n",
       "0                        Audio,Open,Video                           NaN   NaN   \n",
       "1                              Forum,Open             aafriends@usa.com   NaN   \n",
       "2    Audio,Big Book,Discussion,Open,Video  AANewBeginnings230@gmail.com   NaN   \n",
       "3       Big Book,Discussion,Speaker,Video        agneswaterxa@gmail.com   NaN   \n",
       "4  Big Book,Discussion,Open,Speaker,Video        liaazoom2020@gmail.com   NaN   \n",
       "\n",
       "    Time_dt Time_del  \n",
       "0  17:00:00 17:00:00  \n",
       "1  17:00:00 17:00:00  \n",
       "2  17:00:00 17:00:00  \n",
       "3  17:00:00 17:00:00  \n",
       "4  17:00:00 17:00:00  "
      ]
     },
     "execution_count": 8,
     "metadata": {},
     "output_type": "execute_result"
    }
   ],
   "source": [
    "df[\"Time_dt\"] = pd.to_datetime(df[\"Time\"]).dt.time\n",
    "df[\"Time_del\"] = pd.to_datetime(df[\"Time\"]) - pd.to_datetime(df[\"Time\"]).dt.normalize()\n",
    "df.head()"
   ]
  },
  {
   "cell_type": "markdown",
   "metadata": {},
   "source": [
    "##### Weekdays are ordered categorical data"
   ]
  },
  {
   "cell_type": "code",
   "execution_count": 9,
   "metadata": {},
   "outputs": [],
   "source": [
    "from pandas.api.types import CategoricalDtype\n",
    "days = ['Monday', 'Tuesday', 'Wednesday', 'Thursday', 'Friday', 'Saturday', 'Sunday', 'Ongoing']\n",
    "day_type = CategoricalDtype(categories=days, ordered=True)\n",
    "df['Day'] = df['Day'].astype(day_type)"
   ]
  },
  {
   "cell_type": "markdown",
   "metadata": {},
   "source": [
    "##### Create new columns from category labels"
   ]
  },
  {
   "cell_type": "code",
   "execution_count": 10,
   "metadata": {},
   "outputs": [
    {
     "data": {
      "text/plain": [
       "array(['Audio', 'Open', 'Video', 'Forum', 'Big Book', 'Discussion',\n",
       "       'Speaker', 'Closed', 'Telephone', 'Women',\n",
       "       'Loners / Isolationists', 'Chat', 'LGBTQIAA+', 'Young People',\n",
       "       'Men', 'Secular', 'French', 'Steps / Traditions',\n",
       "       'ASL Interpreter', 'Game', 'Blind / Visually Impaired',\n",
       "       'Deaf / Hard of Hearing', 'Email', 'Professionals',\n",
       "       'Openm Discussion. Women', 'Meditation', 'Swedish', 'Seniors',\n",
       "       'ASL', 'Newcomer', 'Hindi', 'Punjabi', '24/7'], dtype=object)"
      ]
     },
     "execution_count": 10,
     "metadata": {},
     "output_type": "execute_result"
    }
   ],
   "source": [
    "all_labels = []\n",
    "for field in df['Categories']:\n",
    "    all_labels.extend(field.split(','))\n",
    "labels = pd.unique(all_labels)\n",
    "labels"
   ]
  },
  {
   "cell_type": "markdown",
   "metadata": {},
   "source": [
    "**What is this 'Openm Discussion. Women' value?**"
   ]
  },
  {
   "cell_type": "code",
   "execution_count": 11,
   "metadata": {
    "scrolled": true
   },
   "outputs": [
    {
     "data": {
      "text/html": [
       "<div>\n",
       "<style scoped>\n",
       "    .dataframe tbody tr th:only-of-type {\n",
       "        vertical-align: middle;\n",
       "    }\n",
       "\n",
       "    .dataframe tbody tr th {\n",
       "        vertical-align: top;\n",
       "    }\n",
       "\n",
       "    .dataframe thead th {\n",
       "        text-align: right;\n",
       "    }\n",
       "</style>\n",
       "<table border=\"1\" class=\"dataframe\">\n",
       "  <thead>\n",
       "    <tr style=\"text-align: right;\">\n",
       "      <th></th>\n",
       "      <th>Name</th>\n",
       "      <th>Day</th>\n",
       "      <th>Time</th>\n",
       "      <th>Video</th>\n",
       "      <th>Desc</th>\n",
       "      <th>Categories</th>\n",
       "      <th>Email</th>\n",
       "      <th>Phone</th>\n",
       "      <th>Time_dt</th>\n",
       "      <th>Time_del</th>\n",
       "    </tr>\n",
       "  </thead>\n",
       "  <tbody>\n",
       "    <tr>\n",
       "      <td>240</td>\n",
       "      <td>WHAM-Women Having A Meeting</td>\n",
       "      <td>Tuesday</td>\n",
       "      <td>9:00 pm</td>\n",
       "      <td>https://us02web.zoom.us/j/81398782806</td>\n",
       "      <td>Other Access Code, if any Passcode: Wom3n</td>\n",
       "      <td>Openm Discussion. Women,Telephone,Video</td>\n",
       "      <td>WHAM.AA@aol.com</td>\n",
       "      <td>16699006833</td>\n",
       "      <td>21:00:00</td>\n",
       "      <td>21:00:00</td>\n",
       "    </tr>\n",
       "  </tbody>\n",
       "</table>\n",
       "</div>"
      ],
      "text/plain": [
       "                            Name      Day     Time  \\\n",
       "240  WHAM-Women Having A Meeting  Tuesday  9:00 pm   \n",
       "\n",
       "                                     Video  \\\n",
       "240  https://us02web.zoom.us/j/81398782806   \n",
       "\n",
       "                                          Desc  \\\n",
       "240  Other Access Code, if any Passcode: Wom3n   \n",
       "\n",
       "                                  Categories            Email        Phone  \\\n",
       "240  Openm Discussion. Women,Telephone,Video  WHAM.AA@aol.com  16699006833   \n",
       "\n",
       "      Time_dt Time_del  \n",
       "240  21:00:00 21:00:00  "
      ]
     },
     "execution_count": 11,
     "metadata": {},
     "output_type": "execute_result"
    }
   ],
   "source": [
    "df.loc[df['Categories'].str.contains('Openm Discussion. Women')]"
   ]
  },
  {
   "cell_type": "markdown",
   "metadata": {},
   "source": [
    "Looking at the other category labels, we can go out on a limb and assume this one record is supposed to be Open, Discussion, and Women."
   ]
  },
  {
   "cell_type": "code",
   "execution_count": 12,
   "metadata": {},
   "outputs": [
    {
     "data": {
      "text/plain": [
       "Name                        WHAM-Women Having A Meeting\n",
       "Day                                             Tuesday\n",
       "Time                                            9:00 pm\n",
       "Video             https://us02web.zoom.us/j/81398782806\n",
       "Desc          Other Access Code, if any Passcode: Wom3n\n",
       "Categories        Open,Discussion,Women,Telephone,Video\n",
       "Email                                   WHAM.AA@aol.com\n",
       "Phone                                       16699006833\n",
       "Time_dt                                        21:00:00\n",
       "Time_del                                0 days 21:00:00\n",
       "Name: 240, dtype: object"
      ]
     },
     "execution_count": 12,
     "metadata": {},
     "output_type": "execute_result"
    }
   ],
   "source": [
    "df.at[240, 'Categories'] = 'Open,Discussion,Women,Telephone,Video'\n",
    "df.loc[240]"
   ]
  },
  {
   "cell_type": "markdown",
   "metadata": {},
   "source": [
    "Much better. Hold on, this is supposed to consist of only English-language meetings. What about the other language labels?"
   ]
  },
  {
   "cell_type": "code",
   "execution_count": 13,
   "metadata": {},
   "outputs": [
    {
     "data": {
      "text/html": [
       "<div>\n",
       "<style scoped>\n",
       "    .dataframe tbody tr th:only-of-type {\n",
       "        vertical-align: middle;\n",
       "    }\n",
       "\n",
       "    .dataframe tbody tr th {\n",
       "        vertical-align: top;\n",
       "    }\n",
       "\n",
       "    .dataframe thead th {\n",
       "        text-align: right;\n",
       "    }\n",
       "</style>\n",
       "<table border=\"1\" class=\"dataframe\">\n",
       "  <thead>\n",
       "    <tr style=\"text-align: right;\">\n",
       "      <th></th>\n",
       "      <th>Name</th>\n",
       "      <th>Day</th>\n",
       "      <th>Time</th>\n",
       "      <th>Video</th>\n",
       "      <th>Desc</th>\n",
       "      <th>Categories</th>\n",
       "      <th>Email</th>\n",
       "      <th>Phone</th>\n",
       "      <th>Time_dt</th>\n",
       "      <th>Time_del</th>\n",
       "    </tr>\n",
       "  </thead>\n",
       "  <tbody>\n",
       "    <tr>\n",
       "      <td>85</td>\n",
       "      <td>Vivre et Laisser Vivre</td>\n",
       "      <td>Tuesday</td>\n",
       "      <td>6:30 pm</td>\n",
       "      <td>https://zoom.us/j/497838842</td>\n",
       "      <td>+16699006833,,497838842# US (San Jose)</td>\n",
       "      <td>Audio,French,Open,Telephone,Video</td>\n",
       "      <td>NaN</td>\n",
       "      <td>16465588656,,497838842</td>\n",
       "      <td>18:30:00</td>\n",
       "      <td>18:30:00</td>\n",
       "    </tr>\n",
       "    <tr>\n",
       "      <td>347</td>\n",
       "      <td>Swenglish Lunch Meeting</td>\n",
       "      <td>Wednesday</td>\n",
       "      <td>6:00 am</td>\n",
       "      <td>https://zoom.us/j/4554487458</td>\n",
       "      <td>Web Site:  https://zoom.us/j/4554487458</td>\n",
       "      <td>Swedish</td>\n",
       "      <td>NaN</td>\n",
       "      <td>NaN</td>\n",
       "      <td>06:00:00</td>\n",
       "      <td>06:00:00</td>\n",
       "    </tr>\n",
       "    <tr>\n",
       "      <td>969</td>\n",
       "      <td>Swenglish Lunch Meeting</td>\n",
       "      <td>Thursday</td>\n",
       "      <td>6:00 am</td>\n",
       "      <td>https://zoom.us/j/4554487458</td>\n",
       "      <td>Web Site:  https://zoom.us/j/4554487458</td>\n",
       "      <td>Swedish</td>\n",
       "      <td>NaN</td>\n",
       "      <td>NaN</td>\n",
       "      <td>06:00:00</td>\n",
       "      <td>06:00:00</td>\n",
       "    </tr>\n",
       "    <tr>\n",
       "      <td>1334</td>\n",
       "      <td>South Asian Group of USA</td>\n",
       "      <td>Thursday</td>\n",
       "      <td>7:00 pm</td>\n",
       "      <td>https://us02web.zoom.us/j/81322055835</td>\n",
       "      <td>Room opens at 7.45 PM and stays Open for Fello...</td>\n",
       "      <td>Audio,Discussion,Hindi,Open,Speaker,Telephone,...</td>\n",
       "      <td>SouthAsianGroupUSA@gmail.com</td>\n",
       "      <td>6699006833</td>\n",
       "      <td>19:00:00</td>\n",
       "      <td>19:00:00</td>\n",
       "    </tr>\n",
       "    <tr>\n",
       "      <td>1552</td>\n",
       "      <td>Swenglish Lunch Meeting</td>\n",
       "      <td>Friday</td>\n",
       "      <td>6:00 am</td>\n",
       "      <td>https://zoom.us/j/4554487458</td>\n",
       "      <td>Web Site:  https://zoom.us/j/4554487458</td>\n",
       "      <td>Swedish</td>\n",
       "      <td>NaN</td>\n",
       "      <td>NaN</td>\n",
       "      <td>06:00:00</td>\n",
       "      <td>06:00:00</td>\n",
       "    </tr>\n",
       "    <tr>\n",
       "      <td>2135</td>\n",
       "      <td>Swenglish Lunch Meeting</td>\n",
       "      <td>Saturday</td>\n",
       "      <td>6:00 am</td>\n",
       "      <td>https://zoom.us/j/4554487458</td>\n",
       "      <td>Web Site:  https://zoom.us/j/4554487458</td>\n",
       "      <td>Swedish</td>\n",
       "      <td>NaN</td>\n",
       "      <td>NaN</td>\n",
       "      <td>06:00:00</td>\n",
       "      <td>06:00:00</td>\n",
       "    </tr>\n",
       "    <tr>\n",
       "      <td>2688</td>\n",
       "      <td>Swenglish Lunch Meeting</td>\n",
       "      <td>Sunday</td>\n",
       "      <td>6:00 am</td>\n",
       "      <td>https://zoom.us/j/4554487458</td>\n",
       "      <td>Web Site:  https://zoom.us/j/4554487458</td>\n",
       "      <td>Swedish</td>\n",
       "      <td>NaN</td>\n",
       "      <td>NaN</td>\n",
       "      <td>06:00:00</td>\n",
       "      <td>06:00:00</td>\n",
       "    </tr>\n",
       "    <tr>\n",
       "      <td>2870</td>\n",
       "      <td>The Serenity Group (Sinnesrogruppen) in Sweden...</td>\n",
       "      <td>Sunday</td>\n",
       "      <td>12:30 pm</td>\n",
       "      <td>https://us02web.zoom.us/j/4040899397</td>\n",
       "      <td>Shares can be in English or Swedish.</td>\n",
       "      <td>Open,Speaker,Swedish,Video</td>\n",
       "      <td>sinnesro.stockholm@gmail.com</td>\n",
       "      <td>NaN</td>\n",
       "      <td>12:30:00</td>\n",
       "      <td>12:30:00</td>\n",
       "    </tr>\n",
       "    <tr>\n",
       "      <td>3243</td>\n",
       "      <td>Swenglish Lunch Meeting</td>\n",
       "      <td>Monday</td>\n",
       "      <td>6:00 am</td>\n",
       "      <td>https://zoom.us/j/4554487458</td>\n",
       "      <td>Web Site:  https://zoom.us/j/4554487458</td>\n",
       "      <td>Swedish</td>\n",
       "      <td>NaN</td>\n",
       "      <td>NaN</td>\n",
       "      <td>06:00:00</td>\n",
       "      <td>06:00:00</td>\n",
       "    </tr>\n",
       "    <tr>\n",
       "      <td>3468</td>\n",
       "      <td>Monday Punjabi/English Speaker Meeting</td>\n",
       "      <td>Monday</td>\n",
       "      <td>3:00 pm</td>\n",
       "      <td>https://us02web.zoom.us/j/35544906</td>\n",
       "      <td>ਹਰ ਸੋਮਵਾਰ ਨੂੰ GMT ਵਕ਼ਤ ਦੇ ਹਿਸਾਬ ਨਾਲ ਸ਼ਾਮ ਦੇ  8...</td>\n",
       "      <td>Discussion,Open,Punjabi,Speaker,Video</td>\n",
       "      <td>nomorepretending@outlook.com</td>\n",
       "      <td>NaN</td>\n",
       "      <td>15:00:00</td>\n",
       "      <td>15:00:00</td>\n",
       "    </tr>\n",
       "    <tr>\n",
       "      <td>3840</td>\n",
       "      <td>Swenglish Lunch Meeting</td>\n",
       "      <td>Tuesday</td>\n",
       "      <td>6:00 am</td>\n",
       "      <td>https://zoom.us/j/4554487458</td>\n",
       "      <td>Web Site:  https://zoom.us/j/4554487458</td>\n",
       "      <td>Swedish</td>\n",
       "      <td>NaN</td>\n",
       "      <td>NaN</td>\n",
       "      <td>06:00:00</td>\n",
       "      <td>06:00:00</td>\n",
       "    </tr>\n",
       "    <tr>\n",
       "      <td>4125</td>\n",
       "      <td>aaonlineen.fr</td>\n",
       "      <td>Ongoing</td>\n",
       "      <td>NaN</td>\n",
       "      <td>https://www.aaonlineen.fr</td>\n",
       "      <td>We also have a weekly English F2F meeting in G...</td>\n",
       "      <td>Video,Audio,Open,24/7,French</td>\n",
       "      <td>webmaster@aaonlineen.fr</td>\n",
       "      <td>NaN</td>\n",
       "      <td>NaT</td>\n",
       "      <td>NaT</td>\n",
       "    </tr>\n",
       "  </tbody>\n",
       "</table>\n",
       "</div>"
      ],
      "text/plain": [
       "                                                   Name        Day      Time  \\\n",
       "85                               Vivre et Laisser Vivre    Tuesday   6:30 pm   \n",
       "347                             Swenglish Lunch Meeting  Wednesday   6:00 am   \n",
       "969                             Swenglish Lunch Meeting   Thursday   6:00 am   \n",
       "1334                           South Asian Group of USA   Thursday   7:00 pm   \n",
       "1552                            Swenglish Lunch Meeting     Friday   6:00 am   \n",
       "2135                            Swenglish Lunch Meeting   Saturday   6:00 am   \n",
       "2688                            Swenglish Lunch Meeting     Sunday   6:00 am   \n",
       "2870  The Serenity Group (Sinnesrogruppen) in Sweden...     Sunday  12:30 pm   \n",
       "3243                            Swenglish Lunch Meeting     Monday   6:00 am   \n",
       "3468             Monday Punjabi/English Speaker Meeting     Monday   3:00 pm   \n",
       "3840                            Swenglish Lunch Meeting    Tuesday   6:00 am   \n",
       "4125                                      aaonlineen.fr    Ongoing       NaN   \n",
       "\n",
       "                                      Video  \\\n",
       "85              https://zoom.us/j/497838842   \n",
       "347            https://zoom.us/j/4554487458   \n",
       "969            https://zoom.us/j/4554487458   \n",
       "1334  https://us02web.zoom.us/j/81322055835   \n",
       "1552           https://zoom.us/j/4554487458   \n",
       "2135           https://zoom.us/j/4554487458   \n",
       "2688           https://zoom.us/j/4554487458   \n",
       "2870   https://us02web.zoom.us/j/4040899397   \n",
       "3243           https://zoom.us/j/4554487458   \n",
       "3468     https://us02web.zoom.us/j/35544906   \n",
       "3840           https://zoom.us/j/4554487458   \n",
       "4125              https://www.aaonlineen.fr   \n",
       "\n",
       "                                                   Desc  \\\n",
       "85               +16699006833,,497838842# US (San Jose)   \n",
       "347             Web Site:  https://zoom.us/j/4554487458   \n",
       "969             Web Site:  https://zoom.us/j/4554487458   \n",
       "1334  Room opens at 7.45 PM and stays Open for Fello...   \n",
       "1552            Web Site:  https://zoom.us/j/4554487458   \n",
       "2135            Web Site:  https://zoom.us/j/4554487458   \n",
       "2688            Web Site:  https://zoom.us/j/4554487458   \n",
       "2870               Shares can be in English or Swedish.   \n",
       "3243            Web Site:  https://zoom.us/j/4554487458   \n",
       "3468  ਹਰ ਸੋਮਵਾਰ ਨੂੰ GMT ਵਕ਼ਤ ਦੇ ਹਿਸਾਬ ਨਾਲ ਸ਼ਾਮ ਦੇ  8...   \n",
       "3840            Web Site:  https://zoom.us/j/4554487458   \n",
       "4125  We also have a weekly English F2F meeting in G...   \n",
       "\n",
       "                                             Categories  \\\n",
       "85                    Audio,French,Open,Telephone,Video   \n",
       "347                                             Swedish   \n",
       "969                                             Swedish   \n",
       "1334  Audio,Discussion,Hindi,Open,Speaker,Telephone,...   \n",
       "1552                                            Swedish   \n",
       "2135                                            Swedish   \n",
       "2688                                            Swedish   \n",
       "2870                         Open,Speaker,Swedish,Video   \n",
       "3243                                            Swedish   \n",
       "3468              Discussion,Open,Punjabi,Speaker,Video   \n",
       "3840                                            Swedish   \n",
       "4125                       Video,Audio,Open,24/7,French   \n",
       "\n",
       "                             Email                   Phone   Time_dt Time_del  \n",
       "85                             NaN  16465588656,,497838842  18:30:00 18:30:00  \n",
       "347                            NaN                     NaN  06:00:00 06:00:00  \n",
       "969                            NaN                     NaN  06:00:00 06:00:00  \n",
       "1334  SouthAsianGroupUSA@gmail.com              6699006833  19:00:00 19:00:00  \n",
       "1552                           NaN                     NaN  06:00:00 06:00:00  \n",
       "2135                           NaN                     NaN  06:00:00 06:00:00  \n",
       "2688                           NaN                     NaN  06:00:00 06:00:00  \n",
       "2870  sinnesro.stockholm@gmail.com                     NaN  12:30:00 12:30:00  \n",
       "3243                           NaN                     NaN  06:00:00 06:00:00  \n",
       "3468  nomorepretending@outlook.com                     NaN  15:00:00 15:00:00  \n",
       "3840                           NaN                     NaN  06:00:00 06:00:00  \n",
       "4125       webmaster@aaonlineen.fr                     NaN       NaT      NaT  "
      ]
     },
     "execution_count": 13,
     "metadata": {},
     "output_type": "execute_result"
    }
   ],
   "source": [
    "other_langs = ['French', 'Swedish', 'Hindi', 'Punjabi']\n",
    "df.loc[df['Categories'].str.contains('|'.join(other_langs))]"
   ]
  },
  {
   "cell_type": "markdown",
   "metadata": {},
   "source": [
    "While only the Punjabi meeting has a non-English description, half of these only have a website for a description, so who really knows. These rows make up such a small percentage that I am inclined to simply remove them."
   ]
  },
  {
   "cell_type": "code",
   "execution_count": 14,
   "metadata": {},
   "outputs": [],
   "source": [
    "nonenglish = df[df['Categories'].str.contains('|'.join(other_langs))]\n",
    "df = df.drop(nonenglish.index).reset_index(drop=True)"
   ]
  },
  {
   "cell_type": "markdown",
   "metadata": {},
   "source": [
    "**Back to making dummies...**"
   ]
  },
  {
   "cell_type": "code",
   "execution_count": 15,
   "metadata": {},
   "outputs": [
    {
     "data": {
      "text/plain": [
       "array(['Audio', 'Open', 'Video', 'Forum', 'Big Book', 'Discussion',\n",
       "       'Speaker', 'Closed', 'Telephone', 'Women',\n",
       "       'Loners / Isolationists', 'Chat', 'LGBTQIAA+', 'Young People',\n",
       "       'Men', 'Secular', 'Steps / Traditions', 'ASL Interpreter', 'Game',\n",
       "       'Blind / Visually Impaired', 'Deaf / Hard of Hearing', 'Email',\n",
       "       'Professionals', 'Meditation', 'Seniors', 'ASL', 'Newcomer',\n",
       "       '24/7'], dtype=object)"
      ]
     },
     "execution_count": 15,
     "metadata": {},
     "output_type": "execute_result"
    }
   ],
   "source": [
    "all_labels = []\n",
    "for field in df['Categories']:\n",
    "    all_labels.extend(field.split(','))\n",
    "labels = pd.unique(all_labels)\n",
    "labels"
   ]
  },
  {
   "cell_type": "code",
   "execution_count": 16,
   "metadata": {},
   "outputs": [],
   "source": [
    "zero_matrix = np.zeros((len(df), len(labels)))\n",
    "dummies = pd.DataFrame(zero_matrix, columns=labels)"
   ]
  },
  {
   "cell_type": "code",
   "execution_count": 17,
   "metadata": {},
   "outputs": [],
   "source": [
    "for i, labels in enumerate(df['Categories']):\n",
    "    indices = dummies.columns.get_indexer(labels.split(','))\n",
    "    dummies.iloc[i, indices] = 1"
   ]
  },
  {
   "cell_type": "code",
   "execution_count": 18,
   "metadata": {},
   "outputs": [
    {
     "data": {
      "text/html": [
       "<div>\n",
       "<style scoped>\n",
       "    .dataframe tbody tr th:only-of-type {\n",
       "        vertical-align: middle;\n",
       "    }\n",
       "\n",
       "    .dataframe tbody tr th {\n",
       "        vertical-align: top;\n",
       "    }\n",
       "\n",
       "    .dataframe thead th {\n",
       "        text-align: right;\n",
       "    }\n",
       "</style>\n",
       "<table border=\"1\" class=\"dataframe\">\n",
       "  <thead>\n",
       "    <tr style=\"text-align: right;\">\n",
       "      <th></th>\n",
       "      <th>Audio</th>\n",
       "      <th>Open</th>\n",
       "      <th>Video</th>\n",
       "      <th>Forum</th>\n",
       "      <th>Big Book</th>\n",
       "      <th>Discussion</th>\n",
       "      <th>Speaker</th>\n",
       "      <th>Closed</th>\n",
       "      <th>Telephone</th>\n",
       "      <th>Women</th>\n",
       "      <th>...</th>\n",
       "      <th>Game</th>\n",
       "      <th>Blind / Visually Impaired</th>\n",
       "      <th>Deaf / Hard of Hearing</th>\n",
       "      <th>Email</th>\n",
       "      <th>Professionals</th>\n",
       "      <th>Meditation</th>\n",
       "      <th>Seniors</th>\n",
       "      <th>ASL</th>\n",
       "      <th>Newcomer</th>\n",
       "      <th>24/7</th>\n",
       "    </tr>\n",
       "  </thead>\n",
       "  <tbody>\n",
       "    <tr>\n",
       "      <td>0</td>\n",
       "      <td>1.0</td>\n",
       "      <td>1.0</td>\n",
       "      <td>1.0</td>\n",
       "      <td>0.0</td>\n",
       "      <td>0.0</td>\n",
       "      <td>0.0</td>\n",
       "      <td>0.0</td>\n",
       "      <td>0.0</td>\n",
       "      <td>0.0</td>\n",
       "      <td>0.0</td>\n",
       "      <td>...</td>\n",
       "      <td>0.0</td>\n",
       "      <td>0.0</td>\n",
       "      <td>0.0</td>\n",
       "      <td>0.0</td>\n",
       "      <td>0.0</td>\n",
       "      <td>0.0</td>\n",
       "      <td>0.0</td>\n",
       "      <td>0.0</td>\n",
       "      <td>0.0</td>\n",
       "      <td>0.0</td>\n",
       "    </tr>\n",
       "    <tr>\n",
       "      <td>1</td>\n",
       "      <td>0.0</td>\n",
       "      <td>1.0</td>\n",
       "      <td>0.0</td>\n",
       "      <td>1.0</td>\n",
       "      <td>0.0</td>\n",
       "      <td>0.0</td>\n",
       "      <td>0.0</td>\n",
       "      <td>0.0</td>\n",
       "      <td>0.0</td>\n",
       "      <td>0.0</td>\n",
       "      <td>...</td>\n",
       "      <td>0.0</td>\n",
       "      <td>0.0</td>\n",
       "      <td>0.0</td>\n",
       "      <td>0.0</td>\n",
       "      <td>0.0</td>\n",
       "      <td>0.0</td>\n",
       "      <td>0.0</td>\n",
       "      <td>0.0</td>\n",
       "      <td>0.0</td>\n",
       "      <td>0.0</td>\n",
       "    </tr>\n",
       "    <tr>\n",
       "      <td>2</td>\n",
       "      <td>1.0</td>\n",
       "      <td>1.0</td>\n",
       "      <td>1.0</td>\n",
       "      <td>0.0</td>\n",
       "      <td>1.0</td>\n",
       "      <td>1.0</td>\n",
       "      <td>0.0</td>\n",
       "      <td>0.0</td>\n",
       "      <td>0.0</td>\n",
       "      <td>0.0</td>\n",
       "      <td>...</td>\n",
       "      <td>0.0</td>\n",
       "      <td>0.0</td>\n",
       "      <td>0.0</td>\n",
       "      <td>0.0</td>\n",
       "      <td>0.0</td>\n",
       "      <td>0.0</td>\n",
       "      <td>0.0</td>\n",
       "      <td>0.0</td>\n",
       "      <td>0.0</td>\n",
       "      <td>0.0</td>\n",
       "    </tr>\n",
       "    <tr>\n",
       "      <td>3</td>\n",
       "      <td>0.0</td>\n",
       "      <td>0.0</td>\n",
       "      <td>1.0</td>\n",
       "      <td>0.0</td>\n",
       "      <td>1.0</td>\n",
       "      <td>1.0</td>\n",
       "      <td>1.0</td>\n",
       "      <td>0.0</td>\n",
       "      <td>0.0</td>\n",
       "      <td>0.0</td>\n",
       "      <td>...</td>\n",
       "      <td>0.0</td>\n",
       "      <td>0.0</td>\n",
       "      <td>0.0</td>\n",
       "      <td>0.0</td>\n",
       "      <td>0.0</td>\n",
       "      <td>0.0</td>\n",
       "      <td>0.0</td>\n",
       "      <td>0.0</td>\n",
       "      <td>0.0</td>\n",
       "      <td>0.0</td>\n",
       "    </tr>\n",
       "    <tr>\n",
       "      <td>4</td>\n",
       "      <td>0.0</td>\n",
       "      <td>1.0</td>\n",
       "      <td>1.0</td>\n",
       "      <td>0.0</td>\n",
       "      <td>1.0</td>\n",
       "      <td>1.0</td>\n",
       "      <td>1.0</td>\n",
       "      <td>0.0</td>\n",
       "      <td>0.0</td>\n",
       "      <td>0.0</td>\n",
       "      <td>...</td>\n",
       "      <td>0.0</td>\n",
       "      <td>0.0</td>\n",
       "      <td>0.0</td>\n",
       "      <td>0.0</td>\n",
       "      <td>0.0</td>\n",
       "      <td>0.0</td>\n",
       "      <td>0.0</td>\n",
       "      <td>0.0</td>\n",
       "      <td>0.0</td>\n",
       "      <td>0.0</td>\n",
       "    </tr>\n",
       "  </tbody>\n",
       "</table>\n",
       "<p>5 rows × 28 columns</p>\n",
       "</div>"
      ],
      "text/plain": [
       "   Audio  Open  Video  Forum  Big Book  Discussion  Speaker  Closed  \\\n",
       "0    1.0   1.0    1.0    0.0       0.0         0.0      0.0     0.0   \n",
       "1    0.0   1.0    0.0    1.0       0.0         0.0      0.0     0.0   \n",
       "2    1.0   1.0    1.0    0.0       1.0         1.0      0.0     0.0   \n",
       "3    0.0   0.0    1.0    0.0       1.0         1.0      1.0     0.0   \n",
       "4    0.0   1.0    1.0    0.0       1.0         1.0      1.0     0.0   \n",
       "\n",
       "   Telephone  Women  ...  Game  Blind / Visually Impaired  \\\n",
       "0        0.0    0.0  ...   0.0                        0.0   \n",
       "1        0.0    0.0  ...   0.0                        0.0   \n",
       "2        0.0    0.0  ...   0.0                        0.0   \n",
       "3        0.0    0.0  ...   0.0                        0.0   \n",
       "4        0.0    0.0  ...   0.0                        0.0   \n",
       "\n",
       "   Deaf / Hard of Hearing  Email  Professionals  Meditation  Seniors  ASL  \\\n",
       "0                     0.0    0.0            0.0         0.0      0.0  0.0   \n",
       "1                     0.0    0.0            0.0         0.0      0.0  0.0   \n",
       "2                     0.0    0.0            0.0         0.0      0.0  0.0   \n",
       "3                     0.0    0.0            0.0         0.0      0.0  0.0   \n",
       "4                     0.0    0.0            0.0         0.0      0.0  0.0   \n",
       "\n",
       "   Newcomer  24/7  \n",
       "0       0.0   0.0  \n",
       "1       0.0   0.0  \n",
       "2       0.0   0.0  \n",
       "3       0.0   0.0  \n",
       "4       0.0   0.0  \n",
       "\n",
       "[5 rows x 28 columns]"
      ]
     },
     "execution_count": 18,
     "metadata": {},
     "output_type": "execute_result"
    }
   ],
   "source": [
    "dummies.head()"
   ]
  },
  {
   "cell_type": "code",
   "execution_count": 19,
   "metadata": {},
   "outputs": [
    {
     "data": {
      "text/plain": [
       "Name                               1 Hole in the Sky AA Meetings: AA Secular Dail...\n",
       "Day                                                                          Tuesday\n",
       "Time                                                                         5:00 pm\n",
       "Video                                                    https://zoom.us/j/414948190\n",
       "Desc                               Tuesday: AA Secular Daily Reflections 3:00pm P...\n",
       "Categories                                                          Audio,Open,Video\n",
       "Email                                                                            NaN\n",
       "Phone                                                                            NaN\n",
       "Time_dt                                                                     17:00:00\n",
       "Time_del                                                             0 days 17:00:00\n",
       "Label_Audio                                                                        1\n",
       "Label_Open                                                                         1\n",
       "Label_Video                                                                        1\n",
       "Label_Forum                                                                        0\n",
       "Label_Big Book                                                                     0\n",
       "Label_Discussion                                                                   0\n",
       "Label_Speaker                                                                      0\n",
       "Label_Closed                                                                       0\n",
       "Label_Telephone                                                                    0\n",
       "Label_Women                                                                        0\n",
       "Label_Loners / Isolationists                                                       0\n",
       "Label_Chat                                                                         0\n",
       "Label_LGBTQIAA+                                                                    0\n",
       "Label_Young People                                                                 0\n",
       "Label_Men                                                                          0\n",
       "Label_Secular                                                                      0\n",
       "Label_Steps / Traditions                                                           0\n",
       "Label_ASL Interpreter                                                              0\n",
       "Label_Game                                                                         0\n",
       "Label_Blind / Visually Impaired                                                    0\n",
       "Label_Deaf / Hard of Hearing                                                       0\n",
       "Label_Email                                                                        0\n",
       "Label_Professionals                                                                0\n",
       "Label_Meditation                                                                   0\n",
       "Label_Seniors                                                                      0\n",
       "Label_ASL                                                                          0\n",
       "Label_Newcomer                                                                     0\n",
       "Label_24/7                                                                         0\n",
       "Name: 0, dtype: object"
      ]
     },
     "execution_count": 19,
     "metadata": {},
     "output_type": "execute_result"
    }
   ],
   "source": [
    "df = df.join(dummies.add_prefix('Label_'))\n",
    "df.iloc[0]"
   ]
  },
  {
   "cell_type": "markdown",
   "metadata": {},
   "source": [
    "##### Add column to indicate Zoom video links\n",
    "\n",
    "Zoom has become far and wide the most popular video meeting application in society at large. Let's add one more dummy variable to capture video link URLs that contain the string 'zoom'."
   ]
  },
  {
   "cell_type": "code",
   "execution_count": 20,
   "metadata": {},
   "outputs": [
    {
     "data": {
      "text/plain": [
       "0        True\n",
       "1       False\n",
       "2        True\n",
       "3        True\n",
       "4        True\n",
       "        ...  \n",
       "4150      NaN\n",
       "4151    False\n",
       "4152    False\n",
       "4153    False\n",
       "4154      NaN\n",
       "Name: Zoom, Length: 4155, dtype: object"
      ]
     },
     "execution_count": 20,
     "metadata": {},
     "output_type": "execute_result"
    }
   ],
   "source": [
    "df[\"Video\"] = df[\"Video\"].str.lower()\n",
    "df[\"Zoom\"] = df[\"Video\"].str.contains('zoom')\n",
    "df[\"Zoom\"]"
   ]
  },
  {
   "cell_type": "code",
   "execution_count": 21,
   "metadata": {
    "scrolled": true
   },
   "outputs": [
    {
     "data": {
      "text/plain": [
       "True     3317\n",
       "False     538\n",
       "Name: Zoom, dtype: int64"
      ]
     },
     "execution_count": 21,
     "metadata": {},
     "output_type": "execute_result"
    }
   ],
   "source": [
    "df[\"Zoom\"].value_counts()"
   ]
  },
  {
   "cell_type": "markdown",
   "metadata": {},
   "source": [
    "### Describing"
   ]
  },
  {
   "cell_type": "code",
   "execution_count": 22,
   "metadata": {},
   "outputs": [
    {
     "data": {
      "text/plain": [
       "(4155, 39)"
      ]
     },
     "execution_count": 22,
     "metadata": {},
     "output_type": "execute_result"
    }
   ],
   "source": [
    "df.shape"
   ]
  },
  {
   "cell_type": "code",
   "execution_count": 23,
   "metadata": {},
   "outputs": [
    {
     "data": {
      "text/plain": [
       "(Timedelta('0 days 00:00:00'),\n",
       " Timedelta('0 days 23:59:00'),\n",
       " Timedelta('0 days 14:10:38.357037'),\n",
       " 0   19:00:00\n",
       " dtype: timedelta64[ns])"
      ]
     },
     "execution_count": 23,
     "metadata": {},
     "output_type": "execute_result"
    }
   ],
   "source": [
    "df[\"Time_del\"].min(), df[\"Time_del\"].max(), df[\"Time_del\"].mean(), df[\"Time_del\"].mode()"
   ]
  },
  {
   "cell_type": "code",
   "execution_count": 24,
   "metadata": {},
   "outputs": [
    {
     "data": {
      "text/plain": [
       "19:00:00    327\n",
       "11:00:00    278\n",
       "20:00:00    255\n",
       "18:00:00    255\n",
       "21:00:00    212\n",
       "           ... \n",
       "16:02:00      1\n",
       "17:15:00      1\n",
       "21:03:00      1\n",
       "03:30:00      1\n",
       "01:55:00      1\n",
       "Name: Time_del, Length: 84, dtype: int64"
      ]
     },
     "execution_count": 24,
     "metadata": {},
     "output_type": "execute_result"
    }
   ],
   "source": [
    "# Remember these outliers & make histogram\n",
    "df['Time_del'].value_counts()"
   ]
  },
  {
   "cell_type": "code",
   "execution_count": 25,
   "metadata": {},
   "outputs": [
    {
     "data": {
      "text/plain": [
       "Wednesday    625\n",
       "Monday       596\n",
       "Friday       590\n",
       "Tuesday      589\n",
       "Thursday     578\n",
       "Saturday     556\n",
       "Sunday       544\n",
       "Ongoing       77\n",
       "Name: Day, dtype: int64"
      ]
     },
     "execution_count": 25,
     "metadata": {},
     "output_type": "execute_result"
    }
   ],
   "source": [
    "df[\"Day\"].value_counts()"
   ]
  },
  {
   "cell_type": "code",
   "execution_count": 26,
   "metadata": {},
   "outputs": [
    {
     "data": {
      "text/plain": [
       "Label_Video                        3766.0\n",
       "Label_Open                         2882.0\n",
       "Label_Audio                        2696.0\n",
       "Label_Discussion                   1988.0\n",
       "Label_Telephone                    1197.0\n",
       "Label_Big Book                     1147.0\n",
       "Label_Closed                       1113.0\n",
       "Label_Speaker                       882.0\n",
       "Label_Women                         312.0\n",
       "Label_LGBTQIAA+                     224.0\n",
       "Label_Chat                          204.0\n",
       "Label_Men                           109.0\n",
       "Label_Young People                  102.0\n",
       "Label_Secular                        92.0\n",
       "Label_Steps / Traditions             80.0\n",
       "Label_24/7                           73.0\n",
       "Label_Email                          58.0\n",
       "Label_Meditation                     26.0\n",
       "Label_Game                           24.0\n",
       "Label_Forum                          19.0\n",
       "Label_Blind / Visually Impaired      17.0\n",
       "Label_Loners / Isolationists         16.0\n",
       "Label_Deaf / Hard of Hearing         16.0\n",
       "Label_Seniors                         9.0\n",
       "Label_Newcomer                        8.0\n",
       "Label_ASL                             2.0\n",
       "Label_ASL Interpreter                 1.0\n",
       "Label_Professionals                   1.0\n",
       "dtype: float64"
      ]
     },
     "execution_count": 26,
     "metadata": {},
     "output_type": "execute_result"
    }
   ],
   "source": [
    "df.filter(regex='Label_').sum().sort_values(ascending=False)"
   ]
  },
  {
   "cell_type": "code",
   "execution_count": 27,
   "metadata": {},
   "outputs": [
    {
     "data": {
      "text/html": [
       "<div>\n",
       "<style scoped>\n",
       "    .dataframe tbody tr th:only-of-type {\n",
       "        vertical-align: middle;\n",
       "    }\n",
       "\n",
       "    .dataframe tbody tr th {\n",
       "        vertical-align: top;\n",
       "    }\n",
       "\n",
       "    .dataframe thead th {\n",
       "        text-align: right;\n",
       "    }\n",
       "</style>\n",
       "<table border=\"1\" class=\"dataframe\">\n",
       "  <thead>\n",
       "    <tr style=\"text-align: right;\">\n",
       "      <th>Day</th>\n",
       "      <th>Monday</th>\n",
       "      <th>Tuesday</th>\n",
       "      <th>Wednesday</th>\n",
       "      <th>Thursday</th>\n",
       "      <th>Friday</th>\n",
       "      <th>Saturday</th>\n",
       "      <th>Sunday</th>\n",
       "      <th>Ongoing</th>\n",
       "    </tr>\n",
       "  </thead>\n",
       "  <tbody>\n",
       "    <tr>\n",
       "      <td>Label_Audio</td>\n",
       "      <td>393.0</td>\n",
       "      <td>393.0</td>\n",
       "      <td>408.0</td>\n",
       "      <td>388.0</td>\n",
       "      <td>387.0</td>\n",
       "      <td>365.0</td>\n",
       "      <td>352.0</td>\n",
       "      <td>10.0</td>\n",
       "    </tr>\n",
       "    <tr>\n",
       "      <td>Label_Open</td>\n",
       "      <td>411.0</td>\n",
       "      <td>400.0</td>\n",
       "      <td>427.0</td>\n",
       "      <td>401.0</td>\n",
       "      <td>414.0</td>\n",
       "      <td>392.0</td>\n",
       "      <td>391.0</td>\n",
       "      <td>46.0</td>\n",
       "    </tr>\n",
       "    <tr>\n",
       "      <td>Label_Video</td>\n",
       "      <td>548.0</td>\n",
       "      <td>541.0</td>\n",
       "      <td>576.0</td>\n",
       "      <td>535.0</td>\n",
       "      <td>545.0</td>\n",
       "      <td>506.0</td>\n",
       "      <td>506.0</td>\n",
       "      <td>9.0</td>\n",
       "    </tr>\n",
       "    <tr>\n",
       "      <td>Label_Forum</td>\n",
       "      <td>0.0</td>\n",
       "      <td>1.0</td>\n",
       "      <td>1.0</td>\n",
       "      <td>1.0</td>\n",
       "      <td>1.0</td>\n",
       "      <td>3.0</td>\n",
       "      <td>1.0</td>\n",
       "      <td>11.0</td>\n",
       "    </tr>\n",
       "    <tr>\n",
       "      <td>Label_Big Book</td>\n",
       "      <td>168.0</td>\n",
       "      <td>179.0</td>\n",
       "      <td>174.0</td>\n",
       "      <td>160.0</td>\n",
       "      <td>162.0</td>\n",
       "      <td>147.0</td>\n",
       "      <td>153.0</td>\n",
       "      <td>4.0</td>\n",
       "    </tr>\n",
       "    <tr>\n",
       "      <td>Label_Discussion</td>\n",
       "      <td>296.0</td>\n",
       "      <td>286.0</td>\n",
       "      <td>310.0</td>\n",
       "      <td>283.0</td>\n",
       "      <td>285.0</td>\n",
       "      <td>256.0</td>\n",
       "      <td>267.0</td>\n",
       "      <td>5.0</td>\n",
       "    </tr>\n",
       "    <tr>\n",
       "      <td>Label_Speaker</td>\n",
       "      <td>126.0</td>\n",
       "      <td>124.0</td>\n",
       "      <td>142.0</td>\n",
       "      <td>126.0</td>\n",
       "      <td>133.0</td>\n",
       "      <td>110.0</td>\n",
       "      <td>118.0</td>\n",
       "      <td>3.0</td>\n",
       "    </tr>\n",
       "    <tr>\n",
       "      <td>Label_Closed</td>\n",
       "      <td>165.0</td>\n",
       "      <td>164.0</td>\n",
       "      <td>171.0</td>\n",
       "      <td>155.0</td>\n",
       "      <td>155.0</td>\n",
       "      <td>139.0</td>\n",
       "      <td>134.0</td>\n",
       "      <td>30.0</td>\n",
       "    </tr>\n",
       "    <tr>\n",
       "      <td>Label_Telephone</td>\n",
       "      <td>175.0</td>\n",
       "      <td>173.0</td>\n",
       "      <td>177.0</td>\n",
       "      <td>166.0</td>\n",
       "      <td>171.0</td>\n",
       "      <td>175.0</td>\n",
       "      <td>155.0</td>\n",
       "      <td>5.0</td>\n",
       "    </tr>\n",
       "    <tr>\n",
       "      <td>Label_Women</td>\n",
       "      <td>40.0</td>\n",
       "      <td>44.0</td>\n",
       "      <td>50.0</td>\n",
       "      <td>39.0</td>\n",
       "      <td>46.0</td>\n",
       "      <td>39.0</td>\n",
       "      <td>40.0</td>\n",
       "      <td>14.0</td>\n",
       "    </tr>\n",
       "    <tr>\n",
       "      <td>Label_Loners / Isolationists</td>\n",
       "      <td>4.0</td>\n",
       "      <td>3.0</td>\n",
       "      <td>1.0</td>\n",
       "      <td>2.0</td>\n",
       "      <td>1.0</td>\n",
       "      <td>2.0</td>\n",
       "      <td>1.0</td>\n",
       "      <td>2.0</td>\n",
       "    </tr>\n",
       "    <tr>\n",
       "      <td>Label_Chat</td>\n",
       "      <td>29.0</td>\n",
       "      <td>27.0</td>\n",
       "      <td>30.0</td>\n",
       "      <td>26.0</td>\n",
       "      <td>26.0</td>\n",
       "      <td>28.0</td>\n",
       "      <td>27.0</td>\n",
       "      <td>11.0</td>\n",
       "    </tr>\n",
       "    <tr>\n",
       "      <td>Label_LGBTQIAA+</td>\n",
       "      <td>37.0</td>\n",
       "      <td>30.0</td>\n",
       "      <td>34.0</td>\n",
       "      <td>30.0</td>\n",
       "      <td>31.0</td>\n",
       "      <td>30.0</td>\n",
       "      <td>29.0</td>\n",
       "      <td>3.0</td>\n",
       "    </tr>\n",
       "    <tr>\n",
       "      <td>Label_Young People</td>\n",
       "      <td>14.0</td>\n",
       "      <td>15.0</td>\n",
       "      <td>17.0</td>\n",
       "      <td>15.0</td>\n",
       "      <td>17.0</td>\n",
       "      <td>14.0</td>\n",
       "      <td>10.0</td>\n",
       "      <td>0.0</td>\n",
       "    </tr>\n",
       "    <tr>\n",
       "      <td>Label_Men</td>\n",
       "      <td>16.0</td>\n",
       "      <td>19.0</td>\n",
       "      <td>17.0</td>\n",
       "      <td>18.0</td>\n",
       "      <td>12.0</td>\n",
       "      <td>14.0</td>\n",
       "      <td>10.0</td>\n",
       "      <td>3.0</td>\n",
       "    </tr>\n",
       "    <tr>\n",
       "      <td>Label_Secular</td>\n",
       "      <td>12.0</td>\n",
       "      <td>14.0</td>\n",
       "      <td>10.0</td>\n",
       "      <td>16.0</td>\n",
       "      <td>11.0</td>\n",
       "      <td>12.0</td>\n",
       "      <td>13.0</td>\n",
       "      <td>4.0</td>\n",
       "    </tr>\n",
       "    <tr>\n",
       "      <td>Label_Steps / Traditions</td>\n",
       "      <td>10.0</td>\n",
       "      <td>12.0</td>\n",
       "      <td>13.0</td>\n",
       "      <td>12.0</td>\n",
       "      <td>11.0</td>\n",
       "      <td>10.0</td>\n",
       "      <td>11.0</td>\n",
       "      <td>1.0</td>\n",
       "    </tr>\n",
       "    <tr>\n",
       "      <td>Label_ASL Interpreter</td>\n",
       "      <td>0.0</td>\n",
       "      <td>1.0</td>\n",
       "      <td>0.0</td>\n",
       "      <td>0.0</td>\n",
       "      <td>0.0</td>\n",
       "      <td>0.0</td>\n",
       "      <td>0.0</td>\n",
       "      <td>0.0</td>\n",
       "    </tr>\n",
       "    <tr>\n",
       "      <td>Label_Game</td>\n",
       "      <td>3.0</td>\n",
       "      <td>5.0</td>\n",
       "      <td>3.0</td>\n",
       "      <td>3.0</td>\n",
       "      <td>3.0</td>\n",
       "      <td>5.0</td>\n",
       "      <td>2.0</td>\n",
       "      <td>0.0</td>\n",
       "    </tr>\n",
       "    <tr>\n",
       "      <td>Label_Blind / Visually Impaired</td>\n",
       "      <td>2.0</td>\n",
       "      <td>3.0</td>\n",
       "      <td>2.0</td>\n",
       "      <td>2.0</td>\n",
       "      <td>4.0</td>\n",
       "      <td>3.0</td>\n",
       "      <td>1.0</td>\n",
       "      <td>0.0</td>\n",
       "    </tr>\n",
       "    <tr>\n",
       "      <td>Label_Deaf / Hard of Hearing</td>\n",
       "      <td>2.0</td>\n",
       "      <td>3.0</td>\n",
       "      <td>3.0</td>\n",
       "      <td>2.0</td>\n",
       "      <td>2.0</td>\n",
       "      <td>1.0</td>\n",
       "      <td>2.0</td>\n",
       "      <td>1.0</td>\n",
       "    </tr>\n",
       "    <tr>\n",
       "      <td>Label_Email</td>\n",
       "      <td>2.0</td>\n",
       "      <td>1.0</td>\n",
       "      <td>1.0</td>\n",
       "      <td>2.0</td>\n",
       "      <td>1.0</td>\n",
       "      <td>2.0</td>\n",
       "      <td>2.0</td>\n",
       "      <td>47.0</td>\n",
       "    </tr>\n",
       "    <tr>\n",
       "      <td>Label_Professionals</td>\n",
       "      <td>0.0</td>\n",
       "      <td>1.0</td>\n",
       "      <td>0.0</td>\n",
       "      <td>0.0</td>\n",
       "      <td>0.0</td>\n",
       "      <td>0.0</td>\n",
       "      <td>0.0</td>\n",
       "      <td>0.0</td>\n",
       "    </tr>\n",
       "    <tr>\n",
       "      <td>Label_Meditation</td>\n",
       "      <td>3.0</td>\n",
       "      <td>3.0</td>\n",
       "      <td>3.0</td>\n",
       "      <td>5.0</td>\n",
       "      <td>4.0</td>\n",
       "      <td>5.0</td>\n",
       "      <td>3.0</td>\n",
       "      <td>0.0</td>\n",
       "    </tr>\n",
       "    <tr>\n",
       "      <td>Label_Seniors</td>\n",
       "      <td>2.0</td>\n",
       "      <td>1.0</td>\n",
       "      <td>1.0</td>\n",
       "      <td>2.0</td>\n",
       "      <td>1.0</td>\n",
       "      <td>2.0</td>\n",
       "      <td>0.0</td>\n",
       "      <td>0.0</td>\n",
       "    </tr>\n",
       "    <tr>\n",
       "      <td>Label_ASL</td>\n",
       "      <td>0.0</td>\n",
       "      <td>0.0</td>\n",
       "      <td>1.0</td>\n",
       "      <td>0.0</td>\n",
       "      <td>0.0</td>\n",
       "      <td>0.0</td>\n",
       "      <td>1.0</td>\n",
       "      <td>0.0</td>\n",
       "    </tr>\n",
       "    <tr>\n",
       "      <td>Label_Newcomer</td>\n",
       "      <td>2.0</td>\n",
       "      <td>0.0</td>\n",
       "      <td>1.0</td>\n",
       "      <td>1.0</td>\n",
       "      <td>0.0</td>\n",
       "      <td>2.0</td>\n",
       "      <td>2.0</td>\n",
       "      <td>0.0</td>\n",
       "    </tr>\n",
       "    <tr>\n",
       "      <td>Label_24/7</td>\n",
       "      <td>0.0</td>\n",
       "      <td>0.0</td>\n",
       "      <td>0.0</td>\n",
       "      <td>0.0</td>\n",
       "      <td>0.0</td>\n",
       "      <td>0.0</td>\n",
       "      <td>0.0</td>\n",
       "      <td>73.0</td>\n",
       "    </tr>\n",
       "  </tbody>\n",
       "</table>\n",
       "</div>"
      ],
      "text/plain": [
       "Day                              Monday  Tuesday  Wednesday  Thursday  Friday  \\\n",
       "Label_Audio                       393.0    393.0      408.0     388.0   387.0   \n",
       "Label_Open                        411.0    400.0      427.0     401.0   414.0   \n",
       "Label_Video                       548.0    541.0      576.0     535.0   545.0   \n",
       "Label_Forum                         0.0      1.0        1.0       1.0     1.0   \n",
       "Label_Big Book                    168.0    179.0      174.0     160.0   162.0   \n",
       "Label_Discussion                  296.0    286.0      310.0     283.0   285.0   \n",
       "Label_Speaker                     126.0    124.0      142.0     126.0   133.0   \n",
       "Label_Closed                      165.0    164.0      171.0     155.0   155.0   \n",
       "Label_Telephone                   175.0    173.0      177.0     166.0   171.0   \n",
       "Label_Women                        40.0     44.0       50.0      39.0    46.0   \n",
       "Label_Loners / Isolationists        4.0      3.0        1.0       2.0     1.0   \n",
       "Label_Chat                         29.0     27.0       30.0      26.0    26.0   \n",
       "Label_LGBTQIAA+                    37.0     30.0       34.0      30.0    31.0   \n",
       "Label_Young People                 14.0     15.0       17.0      15.0    17.0   \n",
       "Label_Men                          16.0     19.0       17.0      18.0    12.0   \n",
       "Label_Secular                      12.0     14.0       10.0      16.0    11.0   \n",
       "Label_Steps / Traditions           10.0     12.0       13.0      12.0    11.0   \n",
       "Label_ASL Interpreter               0.0      1.0        0.0       0.0     0.0   \n",
       "Label_Game                          3.0      5.0        3.0       3.0     3.0   \n",
       "Label_Blind / Visually Impaired     2.0      3.0        2.0       2.0     4.0   \n",
       "Label_Deaf / Hard of Hearing        2.0      3.0        3.0       2.0     2.0   \n",
       "Label_Email                         2.0      1.0        1.0       2.0     1.0   \n",
       "Label_Professionals                 0.0      1.0        0.0       0.0     0.0   \n",
       "Label_Meditation                    3.0      3.0        3.0       5.0     4.0   \n",
       "Label_Seniors                       2.0      1.0        1.0       2.0     1.0   \n",
       "Label_ASL                           0.0      0.0        1.0       0.0     0.0   \n",
       "Label_Newcomer                      2.0      0.0        1.0       1.0     0.0   \n",
       "Label_24/7                          0.0      0.0        0.0       0.0     0.0   \n",
       "\n",
       "Day                              Saturday  Sunday  Ongoing  \n",
       "Label_Audio                         365.0   352.0     10.0  \n",
       "Label_Open                          392.0   391.0     46.0  \n",
       "Label_Video                         506.0   506.0      9.0  \n",
       "Label_Forum                           3.0     1.0     11.0  \n",
       "Label_Big Book                      147.0   153.0      4.0  \n",
       "Label_Discussion                    256.0   267.0      5.0  \n",
       "Label_Speaker                       110.0   118.0      3.0  \n",
       "Label_Closed                        139.0   134.0     30.0  \n",
       "Label_Telephone                     175.0   155.0      5.0  \n",
       "Label_Women                          39.0    40.0     14.0  \n",
       "Label_Loners / Isolationists          2.0     1.0      2.0  \n",
       "Label_Chat                           28.0    27.0     11.0  \n",
       "Label_LGBTQIAA+                      30.0    29.0      3.0  \n",
       "Label_Young People                   14.0    10.0      0.0  \n",
       "Label_Men                            14.0    10.0      3.0  \n",
       "Label_Secular                        12.0    13.0      4.0  \n",
       "Label_Steps / Traditions             10.0    11.0      1.0  \n",
       "Label_ASL Interpreter                 0.0     0.0      0.0  \n",
       "Label_Game                            5.0     2.0      0.0  \n",
       "Label_Blind / Visually Impaired       3.0     1.0      0.0  \n",
       "Label_Deaf / Hard of Hearing          1.0     2.0      1.0  \n",
       "Label_Email                           2.0     2.0     47.0  \n",
       "Label_Professionals                   0.0     0.0      0.0  \n",
       "Label_Meditation                      5.0     3.0      0.0  \n",
       "Label_Seniors                         2.0     0.0      0.0  \n",
       "Label_ASL                             0.0     1.0      0.0  \n",
       "Label_Newcomer                        2.0     2.0      0.0  \n",
       "Label_24/7                            0.0     0.0     73.0  "
      ]
     },
     "execution_count": 27,
     "metadata": {},
     "output_type": "execute_result"
    }
   ],
   "source": [
    "df.groupby('Day').sum().T"
   ]
  },
  {
   "cell_type": "markdown",
   "metadata": {},
   "source": [
    "### Visualizations"
   ]
  },
  {
   "cell_type": "code",
   "execution_count": 28,
   "metadata": {},
   "outputs": [],
   "source": [
    "df_minus_ongoing = df.drop(df[df['Day'].str.contains('Ongoing')].index)"
   ]
  },
  {
   "cell_type": "code",
   "execution_count": 30,
   "metadata": {},
   "outputs": [
    {
     "data": {
      "text/html": [
       "<div>\n",
       "<style scoped>\n",
       "    .dataframe tbody tr th:only-of-type {\n",
       "        vertical-align: middle;\n",
       "    }\n",
       "\n",
       "    .dataframe tbody tr th {\n",
       "        vertical-align: top;\n",
       "    }\n",
       "\n",
       "    .dataframe thead th {\n",
       "        text-align: right;\n",
       "    }\n",
       "</style>\n",
       "<table border=\"1\" class=\"dataframe\">\n",
       "  <thead>\n",
       "    <tr style=\"text-align: right;\">\n",
       "      <th></th>\n",
       "      <th>Name</th>\n",
       "      <th>Day</th>\n",
       "      <th>Time</th>\n",
       "      <th>Video</th>\n",
       "      <th>Desc</th>\n",
       "      <th>Categories</th>\n",
       "      <th>Email</th>\n",
       "      <th>Phone</th>\n",
       "      <th>Time_dt</th>\n",
       "      <th>Time_del</th>\n",
       "      <th>...</th>\n",
       "      <th>Label_Blind / Visually Impaired</th>\n",
       "      <th>Label_Deaf / Hard of Hearing</th>\n",
       "      <th>Label_Email</th>\n",
       "      <th>Label_Professionals</th>\n",
       "      <th>Label_Meditation</th>\n",
       "      <th>Label_Seniors</th>\n",
       "      <th>Label_ASL</th>\n",
       "      <th>Label_Newcomer</th>\n",
       "      <th>Label_24/7</th>\n",
       "      <th>Zoom</th>\n",
       "    </tr>\n",
       "  </thead>\n",
       "  <tbody>\n",
       "  </tbody>\n",
       "</table>\n",
       "<p>0 rows × 39 columns</p>\n",
       "</div>"
      ],
      "text/plain": [
       "Empty DataFrame\n",
       "Columns: [Name, Day, Time, Video, Desc, Categories, Email, Phone, Time_dt, Time_del, Label_Audio, Label_Open, Label_Video, Label_Forum, Label_Big Book, Label_Discussion, Label_Speaker, Label_Closed, Label_Telephone, Label_Women, Label_Loners / Isolationists, Label_Chat, Label_LGBTQIAA+, Label_Young People, Label_Men, Label_Secular, Label_Steps / Traditions, Label_ASL Interpreter, Label_Game, Label_Blind / Visually Impaired, Label_Deaf / Hard of Hearing, Label_Email, Label_Professionals, Label_Meditation, Label_Seniors, Label_ASL, Label_Newcomer, Label_24/7, Zoom]\n",
       "Index: []\n",
       "\n",
       "[0 rows x 39 columns]"
      ]
     },
     "execution_count": 30,
     "metadata": {},
     "output_type": "execute_result"
    }
   ],
   "source": [
    "df_minus_ongoing[df_minus_ongoing['Day'].str.contains('Ongoing')]"
   ]
  },
  {
   "cell_type": "code",
   "execution_count": 31,
   "metadata": {
    "scrolled": true
   },
   "outputs": [
    {
     "data": {
      "text/plain": [
       "Wednesday    625\n",
       "Monday       596\n",
       "Friday       590\n",
       "Tuesday      589\n",
       "Thursday     578\n",
       "Saturday     556\n",
       "Sunday       544\n",
       "Ongoing        0\n",
       "Name: Day, dtype: int64"
      ]
     },
     "execution_count": 31,
     "metadata": {},
     "output_type": "execute_result"
    }
   ],
   "source": [
    "df_minus_ongoing['Day'].value_counts()"
   ]
  },
  {
   "cell_type": "code",
   "execution_count": 39,
   "metadata": {},
   "outputs": [
    {
     "data": {
      "text/plain": [
       "<matplotlib.axes._subplots.AxesSubplot at 0x11daa31d0>"
      ]
     },
     "execution_count": 39,
     "metadata": {},
     "output_type": "execute_result"
    },
    {
     "data": {
      "image/png": "[encoded data removed]",
      "text/plain": [
       "<Figure size 432x288 with 1 Axes>"
      ]
     },
     "metadata": {
      "needs_background": "light"
     },
     "output_type": "display_data"
    }
   ],
   "source": [
    "df_minus_ongoing['Day'].value_counts().plot.bar(ylim=[500, 600], rot=330)"
   ]
  },
  {
   "cell_type": "code",
   "execution_count": 53,
   "metadata": {},
   "outputs": [
    {
     "data": {
      "text/plain": [
       "<matplotlib.axes._subplots.AxesSubplot at 0x11e1c7898>"
      ]
     },
     "execution_count": 53,
     "metadata": {},
     "output_type": "execute_result"
    },
    {
     "data": {
      "image/png": "[encoded data removed]",
      "text/plain": [
       "<Figure size 432x288 with 1 Axes>"
      ]
     },
     "metadata": {
      "needs_background": "light"
     },
     "output_type": "display_data"
    }
   ],
   "source": [
    "df.groupby('Day').sum().filter(regex='Video|Audio|Telephone').plot.barh(stacked=True, alpha=0.5)"
   ]
  },
  {
   "cell_type": "code",
   "execution_count": 55,
   "metadata": {},
   "outputs": [
    {
     "data": {
      "text/plain": [
       "<matplotlib.axes._subplots.AxesSubplot at 0x11f022cc0>"
      ]
     },
     "execution_count": 55,
     "metadata": {},
     "output_type": "execute_result"
    },
    {
     "data": {
      "image/png": "[encoded data removed]",
      "text/plain": [
       "<Figure size 432x288 with 1 Axes>"
      ]
     },
     "metadata": {
      "needs_background": "light"
     },
     "output_type": "display_data"
    }
   ],
   "source": [
    "df.groupby('Day').sum().filter(regex='Open|Closed|Discussion|Big Book|Speaker|Chat').plot.barh(stacked=True, alpha=0.5)"
   ]
  },
  {
   "cell_type": "code",
   "execution_count": 56,
   "metadata": {},
   "outputs": [
    {
     "data": {
      "text/plain": [
       "<matplotlib.axes._subplots.AxesSubplot at 0x11f19ce10>"
      ]
     },
     "execution_count": 56,
     "metadata": {},
     "output_type": "execute_result"
    },
    {
     "data": {
      "image/png": "[encoded data removed]",
      "text/plain": [
       "<Figure size 432x288 with 1 Axes>"
      ]
     },
     "metadata": {
      "needs_background": "light"
     },
     "output_type": "display_data"
    }
   ],
   "source": [
    "df.groupby('Day').sum().filter(regex='Men|Women|LGBTQIAA+').plot.barh(stacked=True, alpha=0.5)"
   ]
  },
  {
   "cell_type": "code",
   "execution_count": null,
   "metadata": {},
   "outputs": [],
   "source": []
  }
 ],
 "metadata": {
  "kernelspec": {
   "display_name": "Python 3",
   "language": "python",
   "name": "python3"
  },
  "language_info": {
   "codemirror_mode": {
    "name": "ipython",
    "version": 3
   },
   "file_extension": ".py",
   "mimetype": "text/x-python",
   "name": "python",
   "nbconvert_exporter": "python",
   "pygments_lexer": "ipython3",
   "version": "3.7.3"
  }
 },
 "nbformat": 4,
 "nbformat_minor": 2
}
