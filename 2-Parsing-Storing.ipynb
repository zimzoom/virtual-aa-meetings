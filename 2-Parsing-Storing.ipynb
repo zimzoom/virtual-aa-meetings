{
 "cells": [
  {
   "cell_type": "markdown",
   "metadata": {},
   "source": [
    "# Step 2 - Parsing and storing data\n",
    "\n",
    "This is a demo of using BeautifulSoup to parse the page source code that was saved in step 1 with Selenium, and then save that data into a csv file for later use. For speed and efficiency, this notebook uses a truncated version  of the source code - that first batch that is rendered before scrolling down, as demonstrated in the previous notebook.\n",
    "\n",
    "The script named '' contains everything demonstrated here, and can be run on the complete page source code that was obtained by running `selen.py`"
   ]
  },
  {
   "cell_type": "code",
   "execution_count": 67,
   "metadata": {},
   "outputs": [],
   "source": [
    "from bs4 import BeautifulSoup\n",
    "import pandas as pd\n",
    "import re"
   ]
  },
  {
   "cell_type": "code",
   "execution_count": 68,
   "metadata": {},
   "outputs": [],
   "source": [
    "with open(\"aa_short.txt\") as file:\n",
    "    soup = BeautifulSoup(file, 'html.parser')"
   ]
  },
  {
   "cell_type": "code",
   "execution_count": 69,
   "metadata": {},
   "outputs": [
    {
     "data": {
      "text/plain": [
       "'<html lang=\"en-US\"><head><meta charset=\"utf-8\"/><link href=\"https://gmpg.org/xfn/11\" rel=\"profile\"/><title>Browse the Directory of Online Meetings | Online Intergroup of Alcoholics Anonymous</title><meta content=\"width=device-width, initial-scale=1\" name=\"viewport\"/><meta content=\"The OIAA Directory features 1,000+ online AA meetings worldwide, ranging from video or telephone conferences to email or chat groups in many languages, available 24/7. Browse the next available or search for the right '"
      ]
     },
     "execution_count": 69,
     "metadata": {},
     "output_type": "execute_result"
    }
   ],
   "source": [
    "# Shows first 500 characters in string-ified soup\n",
    "str(soup)[:500]"
   ]
  },
  {
   "cell_type": "markdown",
   "metadata": {},
   "source": [
    "### Examining the data\n",
    "\n",
    "Here, BeautifulSoup's `find` method is used in order to limit the search to only the first entry. This is good for exploring the various data and planning what fields that data might map to, before iterating over all entries.\n",
    "\n",
    "This page uses the newer \"indicative\" divs to properly organize content - in this case using `<article>` tags for each entry. However, since many sites still don't use these, BeautifulSoup thankfully can also select tags based on attributes. Both strategies are shown below:"
   ]
  },
  {
   "cell_type": "code",
   "execution_count": 70,
   "metadata": {},
   "outputs": [],
   "source": [
    "meeting = soup.find('article')"
   ]
  },
  {
   "cell_type": "code",
   "execution_count": 71,
   "metadata": {},
   "outputs": [
    {
     "name": "stdout",
     "output_type": "stream",
     "text": [
      "<article class=\"css-ggcp4y\">\n",
      " <div class=\"css-j7qwjs\">\n",
      "  <div class=\"css-9zzdmh\">\n",
      "   <h2 class=\"css-1m3h46c\">\n",
      "    <span>\n",
      "     <span class=\"\">\n",
      "      AA Lucan\n",
      "     </span>\n",
      "    </span>\n",
      "   </h2>\n",
      "   <h3 class=\"css-1kn9d3w\">\n",
      "    Tuesday 3:00 pm\n",
      "   </h3>\n",
      "  </div>\n",
      "  <div class=\"css-82qlwu\">\n",
      "   <div class=\"css-3zg5es\">\n",
      "    <button class=\"css-1akp03c\" title=\"Visit https://us02web.zoom.us/j/86771088384?pwd=UmJRNzFLTHd1R3M1ZmJMaXhiMTlWZz09\" type=\"button\">\n",
      "     <svg class=\"css-h7g82p\" focusable=\"false\" role=\"presentation\" viewbox=\"0 0 24 24\">\n",
      "      <path d=\"M16 16c0 1.104-.896 2-2 2h-12c-1.104 0-2-.896-2-2v-8c0-1.104.896-2 2-2h12c1.104 0 2 .896 2 2v8zm8-10l-6 4.223v3.554l6 4.223v-12z\" fill=\"currentColor\">\n",
      "      </path>\n",
      "     </svg>\n",
      "     Zoom\n",
      "    </button>\n",
      "   </div>\n",
      "   <div class=\"css-3zg5es\">\n",
      "    <button class=\"css-1akp03c\" title=\"Email lucanonlinegroup@gmail.com\" type=\"button\">\n",
      "     <svg class=\"css-h7g82p\" focusable=\"false\" role=\"presentation\" viewbox=\"0 0 24 24\">\n",
      "      <g fill=\"currentColor\">\n",
      "       <path d=\"M11.114,14.556a1.252,1.252,0,0,0,1.768,0L22.568,4.87a.5.5,0,0,0-.281-.849A1.966,1.966,0,0,0,22,4H2a1.966,1.966,0,0,0-.289.021.5.5,0,0,0-.281.849Z\">\n",
      "       </path>\n",
      "       <path d=\"M23.888,5.832a.182.182,0,0,0-.2.039l-6.2,6.2a.251.251,0,0,0,0,.354l5.043,5.043a.75.75,0,1,1-1.06,1.061l-5.043-5.043a.25.25,0,0,0-.354,0l-2.129,2.129a2.75,2.75,0,0,1-3.888,0L7.926,13.488a.251.251,0,0,0-.354,0L2.529,18.531a.75.75,0,0,1-1.06-1.061l5.043-5.043a.251.251,0,0,0,0-.354l-6.2-6.2a.18.18,0,0,0-.2-.039A.182.182,0,0,0,0,6V18a2,2,0,0,0,2,2H22a2,2,0,0,0,2-2V6A.181.181,0,0,0,23.888,5.832Z\">\n",
      "       </path>\n",
      "      </g>\n",
      "     </svg>\n",
      "     Email\n",
      "    </button>\n",
      "   </div>\n",
      "  </div>\n",
      "  <div class=\"css-f2o0wr\">\n",
      "   <p class=\"css-fzcsno\">\n",
      "    An open AA meeting based out of Dublin, Ireland, open to all. It is on every day at 8pm GMT (Google \"what time is it in Dublin\")  The meeting requires the ZOOM app. Just click the link below. The password is embedded in the link. No further password is required.\n",
      "   </p>\n",
      "  </div>\n",
      "  <div class=\"css-0\">\n",
      "   <div class=\"css-108n2y7\">\n",
      "    Audio\n",
      "   </div>\n",
      "   <div class=\"css-1iczuv5\">\n",
      "    English\n",
      "   </div>\n",
      "   <div class=\"css-108n2y7\">\n",
      "    Open\n",
      "   </div>\n",
      "   <div class=\"css-108n2y7\">\n",
      "    Tuesday\n",
      "   </div>\n",
      "   <div class=\"css-108n2y7\">\n",
      "    Video\n",
      "   </div>\n",
      "  </div>\n",
      " </div>\n",
      "</article>\n",
      "\n"
     ]
    }
   ],
   "source": [
    "print(meeting.prettify())"
   ]
  },
  {
   "cell_type": "code",
   "execution_count": 72,
   "metadata": {},
   "outputs": [
    {
     "name": "stdout",
     "output_type": "stream",
     "text": [
      "<article class=\"css-ggcp4y\">\n",
      " <div class=\"css-j7qwjs\">\n",
      "  <div class=\"css-9zzdmh\">\n",
      "   <h2 class=\"css-1m3h46c\">\n",
      "    <span>\n",
      "     <span class=\"\">\n",
      "      AA Lucan\n",
      "     </span>\n",
      "    </span>\n",
      "   </h2>\n",
      "   <h3 class=\"css-1kn9d3w\">\n",
      "    Tuesday 3:00 pm\n",
      "   </h3>\n",
      "  </div>\n",
      "  <div class=\"css-82qlwu\">\n",
      "   <div class=\"css-3zg5es\">\n",
      "    <button class=\"css-1akp03c\" title=\"Visit https://us02web.zoom.us/j/86771088384?pwd=UmJRNzFLTHd1R3M1ZmJMaXhiMTlWZz09\" type=\"button\">\n",
      "     <svg class=\"css-h7g82p\" focusable=\"false\" role=\"presentation\" viewbox=\"0 0 24 24\">\n",
      "      <path d=\"M16 16c0 1.104-.896 2-2 2h-12c-1.104 0-2-.896-2-2v-8c0-1.104.896-2 2-2h12c1.104 0 2 .896 2 2v8zm8-10l-6 4.223v3.554l6 4.223v-12z\" fill=\"currentColor\">\n",
      "      </path>\n",
      "     </svg>\n",
      "     Zoom\n",
      "    </button>\n",
      "   </div>\n",
      "   <div class=\"css-3zg5es\">\n",
      "    <button class=\"css-1akp03c\" title=\"Email lucanonlinegroup@gmail.com\" type=\"button\">\n",
      "     <svg class=\"css-h7g82p\" focusable=\"false\" role=\"presentation\" viewbox=\"0 0 24 24\">\n",
      "      <g fill=\"currentColor\">\n",
      "       <path d=\"M11.114,14.556a1.252,1.252,0,0,0,1.768,0L22.568,4.87a.5.5,0,0,0-.281-.849A1.966,1.966,0,0,0,22,4H2a1.966,1.966,0,0,0-.289.021.5.5,0,0,0-.281.849Z\">\n",
      "       </path>\n",
      "       <path d=\"M23.888,5.832a.182.182,0,0,0-.2.039l-6.2,6.2a.251.251,0,0,0,0,.354l5.043,5.043a.75.75,0,1,1-1.06,1.061l-5.043-5.043a.25.25,0,0,0-.354,0l-2.129,2.129a2.75,2.75,0,0,1-3.888,0L7.926,13.488a.251.251,0,0,0-.354,0L2.529,18.531a.75.75,0,0,1-1.06-1.061l5.043-5.043a.251.251,0,0,0,0-.354l-6.2-6.2a.18.18,0,0,0-.2-.039A.182.182,0,0,0,0,6V18a2,2,0,0,0,2,2H22a2,2,0,0,0,2-2V6A.181.181,0,0,0,23.888,5.832Z\">\n",
      "       </path>\n",
      "      </g>\n",
      "     </svg>\n",
      "     Email\n",
      "    </button>\n",
      "   </div>\n",
      "  </div>\n",
      "  <div class=\"css-f2o0wr\">\n",
      "   <p class=\"css-fzcsno\">\n",
      "    An open AA meeting based out of Dublin, Ireland, open to all. It is on every day at 8pm GMT (Google \"what time is it in Dublin\")  The meeting requires the ZOOM app. Just click the link below. The password is embedded in the link. No further password is required.\n",
      "   </p>\n",
      "  </div>\n",
      "  <div class=\"css-0\">\n",
      "   <div class=\"css-108n2y7\">\n",
      "    Audio\n",
      "   </div>\n",
      "   <div class=\"css-1iczuv5\">\n",
      "    English\n",
      "   </div>\n",
      "   <div class=\"css-108n2y7\">\n",
      "    Open\n",
      "   </div>\n",
      "   <div class=\"css-108n2y7\">\n",
      "    Tuesday\n",
      "   </div>\n",
      "   <div class=\"css-108n2y7\">\n",
      "    Video\n",
      "   </div>\n",
      "  </div>\n",
      " </div>\n",
      "</article>\n",
      "\n"
     ]
    }
   ],
   "source": [
    "also_meeting = soup.find(class_='css-ggcp4y')\n",
    "print(also_meeting.prettify())"
   ]
  },
  {
   "cell_type": "markdown",
   "metadata": {},
   "source": [
    "Upon examination, two important things become clear:\n",
    "\n",
    "1. Selection by class name is the way to go, because the class names are unique to each data field, with different names for the title, time, description, and category divs. Specificity is king. Such usage would cover the case where someone may be running an older webdriver that doesn't render HTML5 tags. \n",
    "\n",
    "2. Some string parsing will be needed. Anchor tags (`<a>`) are not shown here for the links - rather, URLs are found within the tag `title` attribute. Date/time info will also need to be extracted from a string."
   ]
  },
  {
   "cell_type": "markdown",
   "metadata": {},
   "source": [
    "**List of useful class names:**\n",
    "\n",
    "    Article:        css-ggcp4y\n",
    "    Name h2:        css-1m3h46c\n",
    "    Datetime h3:    css-1kn9d3w\n",
    "    Link button:    css-1akp03c\n",
    "    Description p:  css-fzcsno\n",
    "    Category div:   css-108n2y7"
   ]
  },
  {
   "cell_type": "markdown",
   "metadata": {},
   "source": [
    "##### Name "
   ]
  },
  {
   "cell_type": "code",
   "execution_count": 73,
   "metadata": {},
   "outputs": [
    {
     "name": "stdout",
     "output_type": "stream",
     "text": [
      "AA Lucan\n"
     ]
    }
   ],
   "source": [
    "name = soup.find(class_='css-1m3h46c')\n",
    "print(name.get_text())"
   ]
  },
  {
   "cell_type": "markdown",
   "metadata": {},
   "source": [
    "##### Datetime"
   ]
  },
  {
   "cell_type": "code",
   "execution_count": 74,
   "metadata": {},
   "outputs": [
    {
     "name": "stdout",
     "output_type": "stream",
     "text": [
      "Tuesday 3:00 pm\n"
     ]
    }
   ],
   "source": [
    "datetime = soup.find(class_='css-1kn9d3w').get_text()\n",
    "print(datetime)"
   ]
  },
  {
   "cell_type": "code",
   "execution_count": 75,
   "metadata": {},
   "outputs": [
    {
     "name": "stdout",
     "output_type": "stream",
     "text": [
      "Tuesday\n"
     ]
    }
   ],
   "source": [
    "print(re.match('.*day', datetime).group())"
   ]
  },
  {
   "cell_type": "code",
   "execution_count": 76,
   "metadata": {},
   "outputs": [
    {
     "name": "stdout",
     "output_type": "stream",
     "text": [
      "3:00 pm\n"
     ]
    }
   ],
   "source": [
    "# Last 8 characters will cover 2-digit hours, just strip whitespace for single digit hours\n",
    "print(datetime[-8:].strip())"
   ]
  },
  {
   "cell_type": "markdown",
   "metadata": {},
   "source": [
    "##### Link buttons\n",
    "\n",
    "From inspecting the page in the browser, it appears there are more types of links than just zoom and email. Let's check:"
   ]
  },
  {
   "cell_type": "code",
   "execution_count": 77,
   "metadata": {},
   "outputs": [],
   "source": [
    "link_bttns = soup.find_all(class_='css-1akp03c')"
   ]
  },
  {
   "cell_type": "code",
   "execution_count": 78,
   "metadata": {},
   "outputs": [
    {
     "name": "stdout",
     "output_type": "stream",
     "text": [
      "['Visit https://us02web.zoom.us/j/86771088384?pwd=UmJRNzFLTHd1R3M1ZmJMaXhiMTlWZz09', 'Email lucanonlinegroup@gmail.com', 'Visit https://us02web.zoom.us/j/3728994472', 'Email aaportugalnorth@outlook.com', 'Visit https://zoom.us/j/96250625525', 'Call 16465588656', 'Email hopenonlysi@gmail.com', 'Visit https://meet.jit.si/247recovery', 'Email nofeesnodues@gmail.com', 'Visit https://us02web.zoom.us/j/802496652', 'Call 16699006833,,802496652', 'Email superdave1212@mac.com', 'Visit https://zoom.us/j/582456897', 'Email rocklinfwpaa@gmail.com', 'Visit https://zoom.us/j/188177606', 'Visit https://us02web.zoom.us/j/79540296512?pwd=MUFxNklOdFNJeFluWVJHbE5xWDlHdz09%20\"', 'Call 16699006833,,,,79540296512#,,,,*736666#', 'Email thebrokenelevatorgroup@gmail.com', 'Visit https://us02web.zoom.us/j/7981521081', 'Call 6465588656,,7981521081#', 'Email WITS3333@gmail.com', 'Visit https://us04web.zoom.us/j/89136475364', 'Email 4thdimensionmtg@gmail.com']\n"
     ]
    }
   ],
   "source": [
    "link_titles = [link_bttn['title'] for link_bttn in link_bttns]\n",
    "print(link_titles)"
   ]
  },
  {
   "cell_type": "markdown",
   "metadata": {},
   "source": [
    "Indeed, there is also a phone number option. Therefore, for this field let's go ahead and work with all results, to make sure all three versions are covered. This won't be the same loop used in the final script though, because the final script will work row-by-row for performance."
   ]
  },
  {
   "cell_type": "code",
   "execution_count": 79,
   "metadata": {},
   "outputs": [
    {
     "data": {
      "text/plain": [
       "'https://us02web.zoom.us/j/86771088384?pwd=UmJRNzFLTHd1R3M1ZmJMaXhiMTlWZz09'"
      ]
     },
     "execution_count": 79,
     "metadata": {},
     "output_type": "execute_result"
    }
   ],
   "source": [
    "# Matching video meeting URL links\n",
    "re.match('Visit (.+)', link_titles[0]).group(1)"
   ]
  },
  {
   "cell_type": "code",
   "execution_count": 80,
   "metadata": {},
   "outputs": [
    {
     "data": {
      "text/plain": [
       "'lucanonlinegroup@gmail.com'"
      ]
     },
     "execution_count": 80,
     "metadata": {},
     "output_type": "execute_result"
    }
   ],
   "source": [
    "# Matching email links\n",
    "re.match('Email (.+)', link_titles[1]).group(1)"
   ]
  },
  {
   "cell_type": "code",
   "execution_count": 81,
   "metadata": {},
   "outputs": [
    {
     "data": {
      "text/plain": [
       "'16465588656'"
      ]
     },
     "execution_count": 81,
     "metadata": {},
     "output_type": "execute_result"
    }
   ],
   "source": [
    "# Matching phone meetings\n",
    "re.match('Call (.+)', link_titles[5]).group(1)"
   ]
  },
  {
   "cell_type": "code",
   "execution_count": 82,
   "metadata": {},
   "outputs": [
    {
     "name": "stdout",
     "output_type": "stream",
     "text": [
      "['https://us02web.zoom.us/j/86771088384?pwd=UmJRNzFLTHd1R3M1ZmJMaXhiMTlWZz09', 'lucanonlinegroup@gmail.com', 'https://us02web.zoom.us/j/3728994472', 'aaportugalnorth@outlook.com', 'https://zoom.us/j/96250625525', '16465588656', 'hopenonlysi@gmail.com', 'https://meet.jit.si/247recovery', 'nofeesnodues@gmail.com', 'https://us02web.zoom.us/j/802496652', '16699006833,,802496652', 'superdave1212@mac.com', 'https://zoom.us/j/582456897', 'rocklinfwpaa@gmail.com', 'https://zoom.us/j/188177606', 'https://us02web.zoom.us/j/79540296512?pwd=MUFxNklOdFNJeFluWVJHbE5xWDlHdz09%20\"', '16699006833,,,,79540296512#,,,,*736666#', 'thebrokenelevatorgroup@gmail.com', 'https://us02web.zoom.us/j/7981521081', '6465588656,,7981521081#', 'WITS3333@gmail.com', 'https://us04web.zoom.us/j/89136475364', '4thdimensionmtg@gmail.com']\n"
     ]
    }
   ],
   "source": [
    "stripped_links = []\n",
    "\n",
    "for title in link_titles:\n",
    "    if re.match('Visit (.+)', title):\n",
    "        stripped_links.append(re.match('Visit (.+)', title).group(1))\n",
    "    elif re.match('Email (.+)', title):\n",
    "        stripped_links.append(re.match('Email (.+)', title).group(1))\n",
    "    elif re.match('Call (.+)', title):\n",
    "        stripped_links.append(re.match('Call (.+)', title).group(1))\n",
    "    else:\n",
    "        stripped_links.append(\"No match\")\n",
    "\n",
    "print(stripped_links)"
   ]
  },
  {
   "cell_type": "markdown",
   "metadata": {},
   "source": [
    "##### Description"
   ]
  },
  {
   "cell_type": "code",
   "execution_count": 83,
   "metadata": {},
   "outputs": [
    {
     "name": "stdout",
     "output_type": "stream",
     "text": [
      "An open AA meeting based out of Dublin, Ireland, open to all. It is on every day at 8pm GMT (Google \"what time is it in Dublin\")  The meeting requires the ZOOM app. Just click the link below. The password is embedded in the link. No further password is required.\n"
     ]
    }
   ],
   "source": [
    "desc = soup.find(class_='css-fzcsno').get_text()\n",
    "print(desc)"
   ]
  },
  {
   "cell_type": "markdown",
   "metadata": {},
   "source": [
    "##### Categories"
   ]
  },
  {
   "cell_type": "code",
   "execution_count": 84,
   "metadata": {},
   "outputs": [
    {
     "name": "stdout",
     "output_type": "stream",
     "text": [
      "Audio\n"
     ]
    }
   ],
   "source": [
    "category = soup.find(class_='css-108n2y7').get_text()\n",
    "print(category)"
   ]
  },
  {
   "cell_type": "markdown",
   "metadata": {},
   "source": [
    "### Extracting data from one entry\n",
    "\n",
    "The final algorithm will work row-by-row, one entry at a time, rather than column-wise. Aside from the performance gain, this is necessary in this case because each entry can have both multiple links and multiple categories.\n",
    "\n",
    "Here is the logic to work on only the first entry:"
   ]
  },
  {
   "cell_type": "code",
   "execution_count": 85,
   "metadata": {},
   "outputs": [],
   "source": [
    "first_entry = soup.find(class_='css-ggcp4y')"
   ]
  },
  {
   "cell_type": "code",
   "execution_count": 86,
   "metadata": {},
   "outputs": [],
   "source": [
    "sample_dict = {}"
   ]
  },
  {
   "cell_type": "code",
   "execution_count": 87,
   "metadata": {},
   "outputs": [
    {
     "name": "stdout",
     "output_type": "stream",
     "text": [
      "AA Lucan\n"
     ]
    }
   ],
   "source": [
    "sample_dict[\"Name\"] = first_entry.find(class_='css-1m3h46c').get_text()\n",
    "print(sample_dict[\"Name\"])"
   ]
  },
  {
   "cell_type": "code",
   "execution_count": 88,
   "metadata": {},
   "outputs": [
    {
     "name": "stdout",
     "output_type": "stream",
     "text": [
      "Tuesday\n",
      "3:00 pm\n"
     ]
    }
   ],
   "source": [
    "daytime = first_entry.find(class_='css-1kn9d3w').get_text()\n",
    "sample_dict[\"Day\"] = re.match('.*day', daytime).group()\n",
    "sample_dict[\"Time\"] = daytime[-8:].strip()\n",
    "print(sample_dict[\"Day\"])\n",
    "print(sample_dict[\"Time\"])"
   ]
  },
  {
   "cell_type": "code",
   "execution_count": 89,
   "metadata": {},
   "outputs": [
    {
     "name": "stdout",
     "output_type": "stream",
     "text": [
      "['Visit https://us02web.zoom.us/j/86771088384?pwd=UmJRNzFLTHd1R3M1ZmJMaXhiMTlWZz09', 'Email lucanonlinegroup@gmail.com']\n"
     ]
    }
   ],
   "source": [
    "entry_link_buttons = first_entry.find_all(class_='css-1akp03c')\n",
    "entry_link_titles = [link_bttn['title'] for link_bttn in entry_link_buttons]\n",
    "print(entry_link_titles)"
   ]
  },
  {
   "cell_type": "code",
   "execution_count": 90,
   "metadata": {},
   "outputs": [
    {
     "name": "stdout",
     "output_type": "stream",
     "text": [
      "https://us02web.zoom.us/j/86771088384?pwd=UmJRNzFLTHd1R3M1ZmJMaXhiMTlWZz09\n",
      "lucanonlinegroup@gmail.com\n"
     ]
    }
   ],
   "source": [
    "# No need to fill empty values for unused link types as pandas will handle that\n",
    "for title in entry_link_titles:\n",
    "    if re.match('Visit (.+)', title):\n",
    "        sample_dict[\"Video\"] = re.match('Visit (.+)', title).group(1)\n",
    "        print(sample_dict[\"Video\"])\n",
    "    elif re.match('Email (.+)', title):\n",
    "        sample_dict[\"Email\"] = re.match('Email (.+)', title).group(1)\n",
    "        print(sample_dict[\"Email\"])\n",
    "    elif re.match('Call (.+)', title):\n",
    "        sample_dict[\"Phone\"] = re.match('Call (.+)', title).group(1)\n",
    "        print(sample_dict[\"Phone\"])"
   ]
  },
  {
   "cell_type": "code",
   "execution_count": 91,
   "metadata": {},
   "outputs": [
    {
     "name": "stdout",
     "output_type": "stream",
     "text": [
      "An open AA meeting based out of Dublin, Ireland, open to all. It is on every day at 8pm GMT (Google \"what time is it in Dublin\")  The meeting requires the ZOOM app. Just click the link below. The password is embedded in the link. No further password is required.\n"
     ]
    }
   ],
   "source": [
    "sample_dict[\"Desc\"] = first_entry.find(class_='css-fzcsno').get_text()\n",
    "print(sample_dict[\"Desc\"])"
   ]
  },
  {
   "cell_type": "code",
   "execution_count": 92,
   "metadata": {},
   "outputs": [
    {
     "name": "stdout",
     "output_type": "stream",
     "text": [
      "['Audio', 'Open', 'Tuesday', 'Video']\n"
     ]
    }
   ],
   "source": [
    "entry_categ_buttons = first_entry.find_all(class_='css-108n2y7')\n",
    "entry_categs = [button.get_text() for button in entry_categ_buttons]\n",
    "print(entry_categs)"
   ]
  },
  {
   "cell_type": "markdown",
   "metadata": {},
   "source": [
    "Let's remove the weekday category label, since it is redundant."
   ]
  },
  {
   "cell_type": "code",
   "execution_count": 93,
   "metadata": {},
   "outputs": [
    {
     "name": "stdout",
     "output_type": "stream",
     "text": [
      "['Audio', 'Open', 'Video']\n"
     ]
    }
   ],
   "source": [
    "categ_words = [word for word in entry_categs if not re.match('.*day', word)]\n",
    "print(categ_words)"
   ]
  },
  {
   "cell_type": "code",
   "execution_count": 94,
   "metadata": {},
   "outputs": [
    {
     "name": "stdout",
     "output_type": "stream",
     "text": [
      "Audio,Open,Video\n"
     ]
    }
   ],
   "source": [
    "sample_dict[\"Categories\"] = \",\".join(categ_words)\n",
    "print(sample_dict[\"Categories\"])"
   ]
  },
  {
   "cell_type": "code",
   "execution_count": 95,
   "metadata": {},
   "outputs": [
    {
     "name": "stdout",
     "output_type": "stream",
     "text": [
      "{'Name': 'AA Lucan', 'Day': 'Tuesday', 'Time': '3:00 pm', 'Video': 'https://us02web.zoom.us/j/86771088384?pwd=UmJRNzFLTHd1R3M1ZmJMaXhiMTlWZz09', 'Email': 'lucanonlinegroup@gmail.com', 'Desc': 'An open AA meeting based out of Dublin, Ireland, open to all. It is on every day at 8pm GMT (Google \"what time is it in Dublin\")  The meeting requires the ZOOM app. Just click the link below. The password is embedded in the link. No further password is required.', 'Categories': 'Audio,Open,Video'}\n"
     ]
    }
   ],
   "source": [
    "print(sample_dict)"
   ]
  },
  {
   "cell_type": "markdown",
   "metadata": {},
   "source": [
    "### Extracting data from all entries"
   ]
  },
  {
   "cell_type": "code",
   "execution_count": 96,
   "metadata": {},
   "outputs": [],
   "source": [
    "all_entries = []"
   ]
  },
  {
   "cell_type": "code",
   "execution_count": 97,
   "metadata": {},
   "outputs": [],
   "source": [
    "for meeting in soup.find_all(class_='css-ggcp4y'):\n",
    "    this_entry = {}\n",
    "    this_entry[\"Name\"] = meeting.find(class_='css-1m3h46c').get_text()\n",
    "    \n",
    "    daytime = meeting.find(class_='css-1kn9d3w').get_text()\n",
    "    # A sub-group of meetings have 'Ongoing' here rather than 'Tuesday 8:00 pm'etc\n",
    "    if re.match('.*day', daytime):\n",
    "        this_entry[\"Day\"] = re.match('.*day', daytime).group()\n",
    "        this_entry[\"Time\"] = daytime[-8:].strip()\n",
    "    else: this_entry[\"Day\"] = daytime\n",
    "    \n",
    "    entry_link_buttons = meeting.find_all(class_='css-1akp03c')\n",
    "    entry_link_titles = [link_bttn['title'] for link_bttn in entry_link_buttons]\n",
    "    for title in entry_link_titles:\n",
    "        if re.match('Visit (.+)', title):\n",
    "            this_entry[\"Video\"] = re.match('Visit (.+)', title).group(1)\n",
    "        elif re.match('Email (.+)', title):\n",
    "            this_entry[\"Email\"] = re.match('Email (.+)', title).group(1)\n",
    "        elif re.match('Call (.+)', title):\n",
    "            this_entry[\"Phone\"] = re.match('Call (.+)', title).group(1)\n",
    "            \n",
    "    # Not every meeting has a description\n",
    "    if meeting.find(class_='css-fzcsno'):\n",
    "        this_entry[\"Desc\"] = meeting.find(class_='css-fzcsno').get_text()\n",
    "    \n",
    "    entry_categ_buttons = meeting.find_all(class_='css-108n2y7')\n",
    "    entry_categs = [button.get_text() for button in entry_categ_buttons]\n",
    "    categ_words = [word for word in entry_categs if not re.match('.*day', word)]\n",
    "    this_entry[\"Categories\"] = \",\".join(categ_words)\n",
    "    \n",
    "#     entry_categs = meeting.find_all(class_='css-108n2y7')\n",
    "#     this_entry[\"Categories\"] = \",\".join([button.get_text() for button in entry_categs])\n",
    "    \n",
    "    all_entries.append(this_entry)"
   ]
  },
  {
   "cell_type": "code",
   "execution_count": 98,
   "metadata": {},
   "outputs": [
    {
     "name": "stdout",
     "output_type": "stream",
     "text": [
      "[{'Name': 'AA Lucan', 'Day': 'Tuesday', 'Time': '3:00 pm', 'Video': 'https://us02web.zoom.us/j/86771088384?pwd=UmJRNzFLTHd1R3M1ZmJMaXhiMTlWZz09', 'Email': 'lucanonlinegroup@gmail.com', 'Desc': 'An open AA meeting based out of Dublin, Ireland, open to all. It is on every day at 8pm GMT (Google \"what time is it in Dublin\")  The meeting requires the ZOOM app. Just click the link below. The password is embedded in the link. No further password is required.', 'Categories': 'Audio,Open,Video'}, {'Name': 'AA North Portugal', 'Day': 'Tuesday', 'Time': '3:00 pm', 'Video': 'https://us02web.zoom.us/j/3728994472', 'Email': 'aaportugalnorth@outlook.com', 'Desc': 'Public Email Contact, if any: aaportugalnorth@outlook.com', 'Categories': 'Open,Video'}, {'Name': 'HOPE Group', 'Day': 'Tuesday', 'Time': '3:00 pm', 'Video': 'https://zoom.us/j/96250625525', 'Phone': '16465588656', 'Email': 'hopenonlysi@gmail.com', 'Desc': 'Closed Discussion. We read the 3 last paragraphs of page 276 (The last 15 years...) No password required - waiting room enabled.', 'Categories': 'Audio,Discussion,Telephone,Video'}, {'Name': 'No Fees, No Dues', 'Day': 'Tuesday', 'Time': '3:00 pm', 'Video': 'https://meet.jit.si/247recovery', 'Email': 'nofeesnodues@gmail.com', 'Desc': 'It is encouraged that a structured meeting begins 3 times a day, at 0700, 1500 and 2300. The meeting before the meeting and after the meeting can expand to fill the day :)', 'Categories': 'Audio,Closed,Telephone,Video'}, {'Name': 'PG & Chill', 'Day': 'Tuesday', 'Time': '3:00 pm', 'Video': 'https://us02web.zoom.us/j/802496652', 'Phone': '16699006833,,802496652', 'Email': 'superdave1212@mac.com', 'Desc': 'Password 960328', 'Categories': 'Audio,Open,Telephone,Video'}, {'Name': 'Rocklin Fellowship 1:00 pm Co-Ed Topic Meeting', 'Day': 'Tuesday', 'Time': '3:00 pm', 'Video': 'https://zoom.us/j/582456897', 'Email': 'rocklinfwpaa@gmail.com', 'Desc': 'The password for all meetings is Rocklin.', 'Categories': 'Discussion,Open,Video'}, {'Name': 'Strength & Unity - Recovery Through Adversity', 'Day': 'Tuesday', 'Time': '3:00 pm', 'Video': 'https://zoom.us/j/188177606', 'Desc': 'To Join our meeting click the link :https://zoom.us/j/188177606', 'Categories': 'Audio,Closed,Video'}, {'Name': 'The Broken Elevator', 'Day': 'Tuesday', 'Time': '3:00 pm', 'Video': 'https://us02web.zoom.us/j/79540296512?pwd=MUFxNklOdFNJeFluWVJHbE5xWDlHdz09%20\"', 'Phone': '16699006833,,,,79540296512#,,,,*736666#', 'Email': 'thebrokenelevatorgroup@gmail.com', 'Desc': 'The Broken Elevator is a international meeting, we meet on a Tuesday and Friday at 8pm UK time. Tuesday is an International AA step study with guest speaker and Q&A and Friday an International AA Speaker Meeting. Our name: The Broken Elevator Group - You have to take the steps! Meeting ID: 795 4029 6512 Passcode: 736666 https://chat.whatsapp.com/E9udD3FmSAm1Z6RWKaBkOf', 'Categories': 'Audio,Big Book,Open,Speaker,Video'}, {'Name': 'Women In The Solution', 'Day': 'Tuesday', 'Time': '3:00 pm', 'Video': 'https://us02web.zoom.us/j/7981521081', 'Phone': '6465588656,,7981521081#', 'Email': 'WITS3333@gmail.com', 'Desc': 'Meeting Access Code, if any: 7981521081', 'Categories': 'Audio,Closed,Discussion,Telephone,Video,Women'}, {'Name': 'Fourth Dimension Prayer & Meditation AA', 'Day': 'Tuesday', 'Time': '3:30 pm', 'Video': 'https://us04web.zoom.us/j/89136475364', 'Email': '4thdimensionmtg@gmail.com', 'Desc': 'https://fourthdimensionaa.weebly.com', 'Categories': 'Audio,Closed,Discussion,Meditation,Video'}]\n"
     ]
    }
   ],
   "source": [
    "print(all_entries)"
   ]
  },
  {
   "cell_type": "markdown",
   "metadata": {},
   "source": [
    "### Save to csv with pandas dataframe\n",
    "\n",
    "Usually a list of dicts is not the best way to initialize performance-wise, but this is a small dataset and pandas takes care of empty values nicely."
   ]
  },
  {
   "cell_type": "code",
   "execution_count": 99,
   "metadata": {},
   "outputs": [],
   "source": [
    "df = pd.DataFrame(all_entries)"
   ]
  },
  {
   "cell_type": "code",
   "execution_count": 100,
   "metadata": {},
   "outputs": [
    {
     "data": {
      "text/html": [
       "<div>\n",
       "<style scoped>\n",
       "    .dataframe tbody tr th:only-of-type {\n",
       "        vertical-align: middle;\n",
       "    }\n",
       "\n",
       "    .dataframe tbody tr th {\n",
       "        vertical-align: top;\n",
       "    }\n",
       "\n",
       "    .dataframe thead th {\n",
       "        text-align: right;\n",
       "    }\n",
       "</style>\n",
       "<table border=\"1\" class=\"dataframe\">\n",
       "  <thead>\n",
       "    <tr style=\"text-align: right;\">\n",
       "      <th></th>\n",
       "      <th>Name</th>\n",
       "      <th>Day</th>\n",
       "      <th>Time</th>\n",
       "      <th>Video</th>\n",
       "      <th>Email</th>\n",
       "      <th>Desc</th>\n",
       "      <th>Categories</th>\n",
       "      <th>Phone</th>\n",
       "    </tr>\n",
       "  </thead>\n",
       "  <tbody>\n",
       "    <tr>\n",
       "      <td>0</td>\n",
       "      <td>AA Lucan</td>\n",
       "      <td>Tuesday</td>\n",
       "      <td>3:00 pm</td>\n",
       "      <td>https://us02web.zoom.us/j/86771088384?pwd=UmJR...</td>\n",
       "      <td>lucanonlinegroup@gmail.com</td>\n",
       "      <td>An open AA meeting based out of Dublin, Irelan...</td>\n",
       "      <td>Audio,Open,Video</td>\n",
       "      <td>NaN</td>\n",
       "    </tr>\n",
       "    <tr>\n",
       "      <td>1</td>\n",
       "      <td>AA North Portugal</td>\n",
       "      <td>Tuesday</td>\n",
       "      <td>3:00 pm</td>\n",
       "      <td>https://us02web.zoom.us/j/3728994472</td>\n",
       "      <td>aaportugalnorth@outlook.com</td>\n",
       "      <td>Public Email Contact, if any: aaportugalnorth@...</td>\n",
       "      <td>Open,Video</td>\n",
       "      <td>NaN</td>\n",
       "    </tr>\n",
       "    <tr>\n",
       "      <td>2</td>\n",
       "      <td>HOPE Group</td>\n",
       "      <td>Tuesday</td>\n",
       "      <td>3:00 pm</td>\n",
       "      <td>https://zoom.us/j/96250625525</td>\n",
       "      <td>hopenonlysi@gmail.com</td>\n",
       "      <td>Closed Discussion. We read the 3 last paragrap...</td>\n",
       "      <td>Audio,Discussion,Telephone,Video</td>\n",
       "      <td>16465588656</td>\n",
       "    </tr>\n",
       "    <tr>\n",
       "      <td>3</td>\n",
       "      <td>No Fees, No Dues</td>\n",
       "      <td>Tuesday</td>\n",
       "      <td>3:00 pm</td>\n",
       "      <td>https://meet.jit.si/247recovery</td>\n",
       "      <td>nofeesnodues@gmail.com</td>\n",
       "      <td>It is encouraged that a structured meeting beg...</td>\n",
       "      <td>Audio,Closed,Telephone,Video</td>\n",
       "      <td>NaN</td>\n",
       "    </tr>\n",
       "    <tr>\n",
       "      <td>4</td>\n",
       "      <td>PG &amp; Chill</td>\n",
       "      <td>Tuesday</td>\n",
       "      <td>3:00 pm</td>\n",
       "      <td>https://us02web.zoom.us/j/802496652</td>\n",
       "      <td>superdave1212@mac.com</td>\n",
       "      <td>Password 960328</td>\n",
       "      <td>Audio,Open,Telephone,Video</td>\n",
       "      <td>16699006833,,802496652</td>\n",
       "    </tr>\n",
       "  </tbody>\n",
       "</table>\n",
       "</div>"
      ],
      "text/plain": [
       "                Name      Day     Time  \\\n",
       "0           AA Lucan  Tuesday  3:00 pm   \n",
       "1  AA North Portugal  Tuesday  3:00 pm   \n",
       "2         HOPE Group  Tuesday  3:00 pm   \n",
       "3   No Fees, No Dues  Tuesday  3:00 pm   \n",
       "4         PG & Chill  Tuesday  3:00 pm   \n",
       "\n",
       "                                               Video  \\\n",
       "0  https://us02web.zoom.us/j/86771088384?pwd=UmJR...   \n",
       "1               https://us02web.zoom.us/j/3728994472   \n",
       "2                      https://zoom.us/j/96250625525   \n",
       "3                    https://meet.jit.si/247recovery   \n",
       "4                https://us02web.zoom.us/j/802496652   \n",
       "\n",
       "                         Email  \\\n",
       "0   lucanonlinegroup@gmail.com   \n",
       "1  aaportugalnorth@outlook.com   \n",
       "2        hopenonlysi@gmail.com   \n",
       "3       nofeesnodues@gmail.com   \n",
       "4        superdave1212@mac.com   \n",
       "\n",
       "                                                Desc  \\\n",
       "0  An open AA meeting based out of Dublin, Irelan...   \n",
       "1  Public Email Contact, if any: aaportugalnorth@...   \n",
       "2  Closed Discussion. We read the 3 last paragrap...   \n",
       "3  It is encouraged that a structured meeting beg...   \n",
       "4                                    Password 960328   \n",
       "\n",
       "                         Categories                   Phone  \n",
       "0                  Audio,Open,Video                     NaN  \n",
       "1                        Open,Video                     NaN  \n",
       "2  Audio,Discussion,Telephone,Video             16465588656  \n",
       "3      Audio,Closed,Telephone,Video                     NaN  \n",
       "4        Audio,Open,Telephone,Video  16699006833,,802496652  "
      ]
     },
     "execution_count": 100,
     "metadata": {},
     "output_type": "execute_result"
    }
   ],
   "source": [
    "df.head()"
   ]
  },
  {
   "cell_type": "code",
   "execution_count": 101,
   "metadata": {},
   "outputs": [],
   "source": [
    "df.to_csv(\"meetings_short.csv\", index=False)"
   ]
  },
  {
   "cell_type": "markdown",
   "metadata": {},
   "source": [
    "### Working on complete page source code\n",
    "\n",
    "The script named `extract.py` runs the code demonstrated in this notebook. It takes two arguments, the source code file to read from, and the csv file to write to, like so:\n",
    "\n",
    "    $ python extract.py aa_complete.txt meetings_complete.csv\n",
    "\n",
    "This script has been run on the complete page code and the result saved to `meetings_complete.csv`."
   ]
  }
 ],
 "metadata": {
  "kernelspec": {
   "display_name": "Python 3",
   "language": "python",
   "name": "python3"
  },
  "language_info": {
   "codemirror_mode": {
    "name": "ipython",
    "version": 3
   },
   "file_extension": ".py",
   "mimetype": "text/x-python",
   "name": "python",
   "nbconvert_exporter": "python",
   "pygments_lexer": "ipython3",
   "version": "3.7.3"
  }
 },
 "nbformat": 4,
 "nbformat_minor": 2
}
