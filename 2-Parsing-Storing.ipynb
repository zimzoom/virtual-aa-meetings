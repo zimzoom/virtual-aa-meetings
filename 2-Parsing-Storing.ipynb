{
 "cells": [
  {
   "cell_type": "markdown",
   "metadata": {},
   "source": [
    "# Step 2 - Parsing and storing data\n",
    "\n",
    "This is a demo of using BeautifulSoup to parse the page source code that was saved in step 1 with Selenium, and then save that data into a csv file for later use. For speed and efficiency, this notebook uses a truncated version  of the source code - that first batch that is rendered before scrolling down, as demonstrated in the previous notebook.\n",
    "\n",
    "The script named '' contains everything demonstrated here, and can be run on the complete page source code that was obtained by running `selen.py`"
   ]
  },
  {
   "cell_type": "code",
   "execution_count": 1,
   "metadata": {},
   "outputs": [],
   "source": [
    "from bs4 import BeautifulSoup\n",
    "import pandas as pd\n",
    "import re"
   ]
  },
  {
   "cell_type": "code",
   "execution_count": 2,
   "metadata": {},
   "outputs": [],
   "source": [
    "with open(\"aa_short.txt\") as file:\n",
    "    soup = BeautifulSoup(file, 'html.parser')"
   ]
  },
  {
   "cell_type": "code",
   "execution_count": 3,
   "metadata": {},
   "outputs": [
    {
     "data": {
      "text/plain": [
       "'<html lang=\"en-US\"><head><meta charset=\"utf-8\"/><link href=\"https://gmpg.org/xfn/11\" rel=\"profile\"/><title>Browse the Directory of Online Meetings | Online Intergroup of Alcoholics Anonymous</title><meta content=\"width=device-width, initial-scale=1\" name=\"viewport\"/><meta content=\"The OIAA Directory features 1,000+ online AA meetings worldwide, ranging from video or telephone conferences to email or chat groups in many languages, available 24/7. Browse the next available or search for the right '"
      ]
     },
     "execution_count": 3,
     "metadata": {},
     "output_type": "execute_result"
    }
   ],
   "source": [
    "# Shows first 500 characters in string-ified soup\n",
    "str(soup)[:500]"
   ]
  },
  {
   "cell_type": "markdown",
   "metadata": {},
   "source": [
    "### Examining one meeting entry\n",
    "\n",
    "Here, BeautifulSoup's `find` method is used in order to limit the search to only the first entry. This is good for exploring the various data and planning what fields that data might map to, before iterating over all entries.\n",
    "\n",
    "This page uses the newer \"indicative\" divs to properly organize content - in this case using `<article>` tags for each entry. However, since many sites still don't use these, BeautifulSoup thankfully can also select tags based on attributes. Both strategies are shown below:"
   ]
  },
  {
   "cell_type": "code",
   "execution_count": 4,
   "metadata": {},
   "outputs": [],
   "source": [
    "meeting = soup.find('article')"
   ]
  },
  {
   "cell_type": "code",
   "execution_count": 5,
   "metadata": {},
   "outputs": [
    {
     "name": "stdout",
     "output_type": "stream",
     "text": [
      "<article class=\"css-ggcp4y\">\n",
      " <div class=\"css-j7qwjs\">\n",
      "  <div class=\"css-9zzdmh\">\n",
      "   <h2 class=\"css-1m3h46c\">\n",
      "    <span>\n",
      "     <span class=\"\">\n",
      "      AA Lucan\n",
      "     </span>\n",
      "    </span>\n",
      "   </h2>\n",
      "   <h3 class=\"css-1kn9d3w\">\n",
      "    Tuesday 3:00 pm\n",
      "   </h3>\n",
      "  </div>\n",
      "  <div class=\"css-82qlwu\">\n",
      "   <div class=\"css-3zg5es\">\n",
      "    <button class=\"css-1akp03c\" title=\"Visit https://us02web.zoom.us/j/86771088384?pwd=UmJRNzFLTHd1R3M1ZmJMaXhiMTlWZz09\" type=\"button\">\n",
      "     <svg class=\"css-h7g82p\" focusable=\"false\" role=\"presentation\" viewbox=\"0 0 24 24\">\n",
      "      <path d=\"M16 16c0 1.104-.896 2-2 2h-12c-1.104 0-2-.896-2-2v-8c0-1.104.896-2 2-2h12c1.104 0 2 .896 2 2v8zm8-10l-6 4.223v3.554l6 4.223v-12z\" fill=\"currentColor\">\n",
      "      </path>\n",
      "     </svg>\n",
      "     Zoom\n",
      "    </button>\n",
      "   </div>\n",
      "   <div class=\"css-3zg5es\">\n",
      "    <button class=\"css-1akp03c\" title=\"Email lucanonlinegroup@gmail.com\" type=\"button\">\n",
      "     <svg class=\"css-h7g82p\" focusable=\"false\" role=\"presentation\" viewbox=\"0 0 24 24\">\n",
      "      <g fill=\"currentColor\">\n",
      "       <path d=\"M11.114,14.556a1.252,1.252,0,0,0,1.768,0L22.568,4.87a.5.5,0,0,0-.281-.849A1.966,1.966,0,0,0,22,4H2a1.966,1.966,0,0,0-.289.021.5.5,0,0,0-.281.849Z\">\n",
      "       </path>\n",
      "       <path d=\"M23.888,5.832a.182.182,0,0,0-.2.039l-6.2,6.2a.251.251,0,0,0,0,.354l5.043,5.043a.75.75,0,1,1-1.06,1.061l-5.043-5.043a.25.25,0,0,0-.354,0l-2.129,2.129a2.75,2.75,0,0,1-3.888,0L7.926,13.488a.251.251,0,0,0-.354,0L2.529,18.531a.75.75,0,0,1-1.06-1.061l5.043-5.043a.251.251,0,0,0,0-.354l-6.2-6.2a.18.18,0,0,0-.2-.039A.182.182,0,0,0,0,6V18a2,2,0,0,0,2,2H22a2,2,0,0,0,2-2V6A.181.181,0,0,0,23.888,5.832Z\">\n",
      "       </path>\n",
      "      </g>\n",
      "     </svg>\n",
      "     Email\n",
      "    </button>\n",
      "   </div>\n",
      "  </div>\n",
      "  <div class=\"css-f2o0wr\">\n",
      "   <p class=\"css-fzcsno\">\n",
      "    An open AA meeting based out of Dublin, Ireland, open to all. It is on every day at 8pm GMT (Google \"what time is it in Dublin\")  The meeting requires the ZOOM app. Just click the link below. The password is embedded in the link. No further password is required.\n",
      "   </p>\n",
      "  </div>\n",
      "  <div class=\"css-0\">\n",
      "   <div class=\"css-108n2y7\">\n",
      "    Audio\n",
      "   </div>\n",
      "   <div class=\"css-1iczuv5\">\n",
      "    English\n",
      "   </div>\n",
      "   <div class=\"css-108n2y7\">\n",
      "    Open\n",
      "   </div>\n",
      "   <div class=\"css-108n2y7\">\n",
      "    Tuesday\n",
      "   </div>\n",
      "   <div class=\"css-108n2y7\">\n",
      "    Video\n",
      "   </div>\n",
      "  </div>\n",
      " </div>\n",
      "</article>\n",
      "\n"
     ]
    }
   ],
   "source": [
    "print(meeting.prettify())"
   ]
  },
  {
   "cell_type": "code",
   "execution_count": 6,
   "metadata": {},
   "outputs": [
    {
     "name": "stdout",
     "output_type": "stream",
     "text": [
      "<article class=\"css-ggcp4y\">\n",
      " <div class=\"css-j7qwjs\">\n",
      "  <div class=\"css-9zzdmh\">\n",
      "   <h2 class=\"css-1m3h46c\">\n",
      "    <span>\n",
      "     <span class=\"\">\n",
      "      AA Lucan\n",
      "     </span>\n",
      "    </span>\n",
      "   </h2>\n",
      "   <h3 class=\"css-1kn9d3w\">\n",
      "    Tuesday 3:00 pm\n",
      "   </h3>\n",
      "  </div>\n",
      "  <div class=\"css-82qlwu\">\n",
      "   <div class=\"css-3zg5es\">\n",
      "    <button class=\"css-1akp03c\" title=\"Visit https://us02web.zoom.us/j/86771088384?pwd=UmJRNzFLTHd1R3M1ZmJMaXhiMTlWZz09\" type=\"button\">\n",
      "     <svg class=\"css-h7g82p\" focusable=\"false\" role=\"presentation\" viewbox=\"0 0 24 24\">\n",
      "      <path d=\"M16 16c0 1.104-.896 2-2 2h-12c-1.104 0-2-.896-2-2v-8c0-1.104.896-2 2-2h12c1.104 0 2 .896 2 2v8zm8-10l-6 4.223v3.554l6 4.223v-12z\" fill=\"currentColor\">\n",
      "      </path>\n",
      "     </svg>\n",
      "     Zoom\n",
      "    </button>\n",
      "   </div>\n",
      "   <div class=\"css-3zg5es\">\n",
      "    <button class=\"css-1akp03c\" title=\"Email lucanonlinegroup@gmail.com\" type=\"button\">\n",
      "     <svg class=\"css-h7g82p\" focusable=\"false\" role=\"presentation\" viewbox=\"0 0 24 24\">\n",
      "      <g fill=\"currentColor\">\n",
      "       <path d=\"M11.114,14.556a1.252,1.252,0,0,0,1.768,0L22.568,4.87a.5.5,0,0,0-.281-.849A1.966,1.966,0,0,0,22,4H2a1.966,1.966,0,0,0-.289.021.5.5,0,0,0-.281.849Z\">\n",
      "       </path>\n",
      "       <path d=\"M23.888,5.832a.182.182,0,0,0-.2.039l-6.2,6.2a.251.251,0,0,0,0,.354l5.043,5.043a.75.75,0,1,1-1.06,1.061l-5.043-5.043a.25.25,0,0,0-.354,0l-2.129,2.129a2.75,2.75,0,0,1-3.888,0L7.926,13.488a.251.251,0,0,0-.354,0L2.529,18.531a.75.75,0,0,1-1.06-1.061l5.043-5.043a.251.251,0,0,0,0-.354l-6.2-6.2a.18.18,0,0,0-.2-.039A.182.182,0,0,0,0,6V18a2,2,0,0,0,2,2H22a2,2,0,0,0,2-2V6A.181.181,0,0,0,23.888,5.832Z\">\n",
      "       </path>\n",
      "      </g>\n",
      "     </svg>\n",
      "     Email\n",
      "    </button>\n",
      "   </div>\n",
      "  </div>\n",
      "  <div class=\"css-f2o0wr\">\n",
      "   <p class=\"css-fzcsno\">\n",
      "    An open AA meeting based out of Dublin, Ireland, open to all. It is on every day at 8pm GMT (Google \"what time is it in Dublin\")  The meeting requires the ZOOM app. Just click the link below. The password is embedded in the link. No further password is required.\n",
      "   </p>\n",
      "  </div>\n",
      "  <div class=\"css-0\">\n",
      "   <div class=\"css-108n2y7\">\n",
      "    Audio\n",
      "   </div>\n",
      "   <div class=\"css-1iczuv5\">\n",
      "    English\n",
      "   </div>\n",
      "   <div class=\"css-108n2y7\">\n",
      "    Open\n",
      "   </div>\n",
      "   <div class=\"css-108n2y7\">\n",
      "    Tuesday\n",
      "   </div>\n",
      "   <div class=\"css-108n2y7\">\n",
      "    Video\n",
      "   </div>\n",
      "  </div>\n",
      " </div>\n",
      "</article>\n",
      "\n"
     ]
    }
   ],
   "source": [
    "also_meeting = soup.find(class_='css-ggcp4y')\n",
    "print(also_meeting.prettify())"
   ]
  },
  {
   "cell_type": "markdown",
   "metadata": {},
   "source": [
    "Upon examination, two important things become clear:\n",
    "\n",
    "1. Selection by class name is the way to go, because the class names are unique to each data field, with different names for the title, time, description, and category divs. Specificity is king. Such usage would cover the case where someone may be running an older webdriver that doesn't render HTML5 tags. \n",
    "\n",
    "2. Some string parsing will be needed. Anchor tags (`<a>`) are not shown here for the links - rather, URLs are found within the tag `title` attribute. Date/time info will also need to be extracted from a string."
   ]
  },
  {
   "cell_type": "markdown",
   "metadata": {},
   "source": [
    "List of useful class names:\n",
    "\n",
    "    Article:        css-ggcp4y\n",
    "    Name h2:        css-1m3h46c\n",
    "    Datetime h3:    css-1kn9d3w\n",
    "    Link button:    css-1akp03c\n",
    "    Description p:  css-fzcsno\n",
    "    Category div:   css-108n2y7"
   ]
  },
  {
   "cell_type": "markdown",
   "metadata": {},
   "source": [
    "##### Name "
   ]
  },
  {
   "cell_type": "code",
   "execution_count": 7,
   "metadata": {},
   "outputs": [
    {
     "name": "stdout",
     "output_type": "stream",
     "text": [
      "AA Lucan\n"
     ]
    }
   ],
   "source": [
    "name = soup.find(class_='css-1m3h46c')\n",
    "print(name.get_text())"
   ]
  },
  {
   "cell_type": "markdown",
   "metadata": {},
   "source": [
    "##### Datetime"
   ]
  },
  {
   "cell_type": "code",
   "execution_count": 29,
   "metadata": {},
   "outputs": [
    {
     "name": "stdout",
     "output_type": "stream",
     "text": [
      "Tuesday 3:00 pm\n"
     ]
    }
   ],
   "source": [
    "datetime = soup.find(class_='css-1kn9d3w').get_text()\n",
    "print(datetime)"
   ]
  },
  {
   "cell_type": "code",
   "execution_count": 30,
   "metadata": {},
   "outputs": [
    {
     "name": "stdout",
     "output_type": "stream",
     "text": [
      "Tuesday\n"
     ]
    }
   ],
   "source": [
    "print(re.match('.*day', datetime).group())"
   ]
  },
  {
   "cell_type": "code",
   "execution_count": 31,
   "metadata": {},
   "outputs": [
    {
     "name": "stdout",
     "output_type": "stream",
     "text": [
      "3:00 pm\n"
     ]
    }
   ],
   "source": [
    "# Last 8 characters will cover 2-digit hours, just strip whitespace for single digit hours\n",
    "print(datetime[-8:].strip())"
   ]
  },
  {
   "cell_type": "markdown",
   "metadata": {},
   "source": [
    "##### Link buttons\n",
    "\n",
    "From inspecting the page in the browser, it appears there are more types of links than just zoom and email. Let's check:"
   ]
  },
  {
   "cell_type": "code",
   "execution_count": 9,
   "metadata": {},
   "outputs": [],
   "source": [
    "link_bttns = soup.find_all(class_='css-1akp03c')"
   ]
  },
  {
   "cell_type": "code",
   "execution_count": 10,
   "metadata": {},
   "outputs": [
    {
     "name": "stdout",
     "output_type": "stream",
     "text": [
      "['Visit https://us02web.zoom.us/j/86771088384?pwd=UmJRNzFLTHd1R3M1ZmJMaXhiMTlWZz09', 'Email lucanonlinegroup@gmail.com', 'Visit https://us02web.zoom.us/j/3728994472', 'Email aaportugalnorth@outlook.com', 'Visit https://zoom.us/j/96250625525', 'Call 16465588656', 'Email hopenonlysi@gmail.com', 'Visit https://meet.jit.si/247recovery', 'Email nofeesnodues@gmail.com', 'Visit https://us02web.zoom.us/j/802496652', 'Call 16699006833,,802496652', 'Email superdave1212@mac.com', 'Visit https://zoom.us/j/582456897', 'Email rocklinfwpaa@gmail.com', 'Visit https://zoom.us/j/188177606', 'Visit https://us02web.zoom.us/j/79540296512?pwd=MUFxNklOdFNJeFluWVJHbE5xWDlHdz09%20\"', 'Call 16699006833,,,,79540296512#,,,,*736666#', 'Email thebrokenelevatorgroup@gmail.com', 'Visit https://us02web.zoom.us/j/7981521081', 'Call 6465588656,,7981521081#', 'Email WITS3333@gmail.com', 'Visit https://us04web.zoom.us/j/89136475364', 'Email 4thdimensionmtg@gmail.com']\n"
     ]
    }
   ],
   "source": [
    "link_titles = [link_bttn['title'] for link_bttn in link_bttns]\n",
    "print(link_titles)"
   ]
  },
  {
   "cell_type": "markdown",
   "metadata": {},
   "source": [
    "Indeed, there is also a phone number option. Therefore, for this field let's go ahead and work with all results, to make sure all three versions are covered. This won't be the same loop used in the final script though, because the final script will work row-by-row for performance."
   ]
  },
  {
   "cell_type": "code",
   "execution_count": 57,
   "metadata": {},
   "outputs": [
    {
     "data": {
      "text/plain": [
       "'https://us02web.zoom.us/j/86771088384?pwd=UmJRNzFLTHd1R3M1ZmJMaXhiMTlWZz09'"
      ]
     },
     "execution_count": 57,
     "metadata": {},
     "output_type": "execute_result"
    }
   ],
   "source": [
    "# Matching video meeting URL links\n",
    "re.match('Visit (.+)', link_titles[0]).group(1)"
   ]
  },
  {
   "cell_type": "code",
   "execution_count": 59,
   "metadata": {},
   "outputs": [
    {
     "data": {
      "text/plain": [
       "'lucanonlinegroup@gmail.com'"
      ]
     },
     "execution_count": 59,
     "metadata": {},
     "output_type": "execute_result"
    }
   ],
   "source": [
    "# Matching email links\n",
    "re.match('Email (.+)', link_titles[1]).group(1)"
   ]
  },
  {
   "cell_type": "code",
   "execution_count": 60,
   "metadata": {},
   "outputs": [
    {
     "data": {
      "text/plain": [
       "'16465588656'"
      ]
     },
     "execution_count": 60,
     "metadata": {},
     "output_type": "execute_result"
    }
   ],
   "source": [
    "# Matching phone meetings\n",
    "re.match('Call (.+)', link_titles[5]).group(1)"
   ]
  },
  {
   "cell_type": "code",
   "execution_count": 61,
   "metadata": {},
   "outputs": [
    {
     "name": "stdout",
     "output_type": "stream",
     "text": [
      "['https://us02web.zoom.us/j/86771088384?pwd=UmJRNzFLTHd1R3M1ZmJMaXhiMTlWZz09', 'lucanonlinegroup@gmail.com', 'https://us02web.zoom.us/j/3728994472', 'aaportugalnorth@outlook.com', 'https://zoom.us/j/96250625525', '16465588656', 'hopenonlysi@gmail.com', 'https://meet.jit.si/247recovery', 'nofeesnodues@gmail.com', 'https://us02web.zoom.us/j/802496652', '16699006833,,802496652', 'superdave1212@mac.com', 'https://zoom.us/j/582456897', 'rocklinfwpaa@gmail.com', 'https://zoom.us/j/188177606', 'https://us02web.zoom.us/j/79540296512?pwd=MUFxNklOdFNJeFluWVJHbE5xWDlHdz09%20\"', '16699006833,,,,79540296512#,,,,*736666#', 'thebrokenelevatorgroup@gmail.com', 'https://us02web.zoom.us/j/7981521081', '6465588656,,7981521081#', 'WITS3333@gmail.com', 'https://us04web.zoom.us/j/89136475364', '4thdimensionmtg@gmail.com']\n"
     ]
    }
   ],
   "source": [
    "stripped_links = []\n",
    "\n",
    "for title in link_titles:\n",
    "    if re.match('Visit (.+)', title):\n",
    "        stripped_links.append(re.match('Visit (.+)', title).group(1))\n",
    "    elif re.match('Email (.+)', title):\n",
    "        stripped_links.append(re.match('Email (.+)', title).group(1))\n",
    "    elif re.match('Call (.+)', title):\n",
    "        stripped_links.append(re.match('Call (.+)', title).group(1))\n",
    "    else:\n",
    "        stripped_links.append(\"No match\")\n",
    "\n",
    "print(stripped_links)"
   ]
  },
  {
   "cell_type": "code",
   "execution_count": null,
   "metadata": {},
   "outputs": [],
   "source": []
  }
 ],
 "metadata": {
  "kernelspec": {
   "display_name": "Python 3",
   "language": "python",
   "name": "python3"
  },
  "language_info": {
   "codemirror_mode": {
    "name": "ipython",
    "version": 3
   },
   "file_extension": ".py",
   "mimetype": "text/x-python",
   "name": "python",
   "nbconvert_exporter": "python",
   "pygments_lexer": "ipython3",
   "version": "3.7.3"
  }
 },
 "nbformat": 4,
 "nbformat_minor": 2
}
