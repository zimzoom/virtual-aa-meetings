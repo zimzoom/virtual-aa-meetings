{
 "cells": [
  {
   "cell_type": "markdown",
   "metadata": {},
   "source": [
    "# Data analysis"
   ]
  },
  {
   "cell_type": "code",
   "execution_count": 1,
   "metadata": {},
   "outputs": [],
   "source": [
    "import pandas as pd\n",
    "import numpy as np"
   ]
  },
  {
   "cell_type": "code",
   "execution_count": 2,
   "metadata": {},
   "outputs": [],
   "source": [
    "import matplotlib.pyplot as plt\n",
    "%matplotlib notebook"
   ]
  },
  {
   "cell_type": "code",
   "execution_count": 3,
   "metadata": {
    "scrolled": true
   },
   "outputs": [],
   "source": [
    "from scipy import stats"
   ]
  },
  {
   "cell_type": "markdown",
   "metadata": {},
   "source": [
    "##### Helpful functions"
   ]
  },
  {
   "cell_type": "code",
   "execution_count": 39,
   "metadata": {},
   "outputs": [],
   "source": [
    "def print_results(pval, conf):\n",
    "    print(\"P-value = {}\".format(pval))\n",
    "    if pval < conf:\n",
    "        print(\"Reject null hypothesis.\")\n",
    "    else:\n",
    "        print(\"Fail to reject null hypothesis.\")"
   ]
  },
  {
   "cell_type": "code",
   "execution_count": 4,
   "metadata": {},
   "outputs": [],
   "source": [
    "csvfile = \"meetings_complete_clean.csv\""
   ]
  },
  {
   "cell_type": "code",
   "execution_count": 5,
   "metadata": {},
   "outputs": [],
   "source": [
    "converters = dict(Time_dt=pd.to_datetime, Time_del=pd.to_timedelta)"
   ]
  },
  {
   "cell_type": "code",
   "execution_count": 6,
   "metadata": {},
   "outputs": [],
   "source": [
    "df = pd.read_csv(csvfile, converters=converters)"
   ]
  },
  {
   "cell_type": "code",
   "execution_count": 7,
   "metadata": {},
   "outputs": [
    {
     "data": {
      "text/html": [
       "<div>\n",
       "<style scoped>\n",
       "    .dataframe tbody tr th:only-of-type {\n",
       "        vertical-align: middle;\n",
       "    }\n",
       "\n",
       "    .dataframe tbody tr th {\n",
       "        vertical-align: top;\n",
       "    }\n",
       "\n",
       "    .dataframe thead th {\n",
       "        text-align: right;\n",
       "    }\n",
       "</style>\n",
       "<table border=\"1\" class=\"dataframe\">\n",
       "  <thead>\n",
       "    <tr style=\"text-align: right;\">\n",
       "      <th></th>\n",
       "      <th>Name</th>\n",
       "      <th>Day</th>\n",
       "      <th>Time</th>\n",
       "      <th>Video</th>\n",
       "      <th>Desc</th>\n",
       "      <th>Categories</th>\n",
       "      <th>Email</th>\n",
       "      <th>Phone</th>\n",
       "      <th>Time_dt</th>\n",
       "      <th>Time_del</th>\n",
       "      <th>...</th>\n",
       "      <th>Label_Game</th>\n",
       "      <th>Label_Blind / Visually Impaired</th>\n",
       "      <th>Label_Deaf / Hard of Hearing</th>\n",
       "      <th>Label_Email</th>\n",
       "      <th>Label_Professionals</th>\n",
       "      <th>Label_Meditation</th>\n",
       "      <th>Label_Seniors</th>\n",
       "      <th>Label_Newcomer</th>\n",
       "      <th>Label_24/7</th>\n",
       "      <th>Zoom</th>\n",
       "    </tr>\n",
       "  </thead>\n",
       "  <tbody>\n",
       "    <tr>\n",
       "      <th>0</th>\n",
       "      <td>1 Hole in the Sky AA Meetings: AA Secular Dail...</td>\n",
       "      <td>Tuesday</td>\n",
       "      <td>5:00 pm</td>\n",
       "      <td>https://zoom.us/j/414948190</td>\n",
       "      <td>Tuesday: AA Secular Daily Reflections 3:00pm P...</td>\n",
       "      <td>Audio,Open,Video</td>\n",
       "      <td>NaN</td>\n",
       "      <td>NaN</td>\n",
       "      <td>2021-11-17 17:00:00</td>\n",
       "      <td>0 days 17:00:00</td>\n",
       "      <td>...</td>\n",
       "      <td>0.0</td>\n",
       "      <td>0.0</td>\n",
       "      <td>0.0</td>\n",
       "      <td>0.0</td>\n",
       "      <td>0.0</td>\n",
       "      <td>0.0</td>\n",
       "      <td>0.0</td>\n",
       "      <td>0.0</td>\n",
       "      <td>0.0</td>\n",
       "      <td>True</td>\n",
       "    </tr>\n",
       "    <tr>\n",
       "      <th>1</th>\n",
       "      <td>AA Friends</td>\n",
       "      <td>Tuesday</td>\n",
       "      <td>5:00 pm</td>\n",
       "      <td>https://aafriends.webs.com/</td>\n",
       "      <td>AA Friends currently holds three online meetin...</td>\n",
       "      <td>Forum,Open</td>\n",
       "      <td>aafriends@usa.com</td>\n",
       "      <td>NaN</td>\n",
       "      <td>2021-11-17 17:00:00</td>\n",
       "      <td>0 days 17:00:00</td>\n",
       "      <td>...</td>\n",
       "      <td>0.0</td>\n",
       "      <td>0.0</td>\n",
       "      <td>0.0</td>\n",
       "      <td>0.0</td>\n",
       "      <td>0.0</td>\n",
       "      <td>0.0</td>\n",
       "      <td>0.0</td>\n",
       "      <td>0.0</td>\n",
       "      <td>0.0</td>\n",
       "      <td>False</td>\n",
       "    </tr>\n",
       "    <tr>\n",
       "      <th>2</th>\n",
       "      <td>AA New Beginnings</td>\n",
       "      <td>Tuesday</td>\n",
       "      <td>5:00 pm</td>\n",
       "      <td>https://us02web.zoom.us/j/5662326551</td>\n",
       "      <td>A daily meeting that focuses on experience, st...</td>\n",
       "      <td>Audio,Big Book,Discussion,Open,Video</td>\n",
       "      <td>AANewBeginnings230@gmail.com</td>\n",
       "      <td>NaN</td>\n",
       "      <td>2021-11-17 17:00:00</td>\n",
       "      <td>0 days 17:00:00</td>\n",
       "      <td>...</td>\n",
       "      <td>0.0</td>\n",
       "      <td>0.0</td>\n",
       "      <td>0.0</td>\n",
       "      <td>0.0</td>\n",
       "      <td>0.0</td>\n",
       "      <td>0.0</td>\n",
       "      <td>0.0</td>\n",
       "      <td>0.0</td>\n",
       "      <td>0.0</td>\n",
       "      <td>True</td>\n",
       "    </tr>\n",
       "    <tr>\n",
       "      <th>3</th>\n",
       "      <td>Agnes Water</td>\n",
       "      <td>Tuesday</td>\n",
       "      <td>5:00 pm</td>\n",
       "      <td>https://us02web.zoom.us/j/8983968244</td>\n",
       "      <td>PW billw</td>\n",
       "      <td>Big Book,Discussion,Speaker,Video</td>\n",
       "      <td>agneswaterxa@gmail.com</td>\n",
       "      <td>NaN</td>\n",
       "      <td>2021-11-17 17:00:00</td>\n",
       "      <td>0 days 17:00:00</td>\n",
       "      <td>...</td>\n",
       "      <td>0.0</td>\n",
       "      <td>0.0</td>\n",
       "      <td>0.0</td>\n",
       "      <td>0.0</td>\n",
       "      <td>0.0</td>\n",
       "      <td>0.0</td>\n",
       "      <td>0.0</td>\n",
       "      <td>0.0</td>\n",
       "      <td>0.0</td>\n",
       "      <td>True</td>\n",
       "    </tr>\n",
       "    <tr>\n",
       "      <th>4</th>\n",
       "      <td>Beginners AA meeting</td>\n",
       "      <td>Tuesday</td>\n",
       "      <td>5:00 pm</td>\n",
       "      <td>https://us02web.zoom.us/j/88198562544?pwd=wfzm...</td>\n",
       "      <td>Zoom Passcode, if any: serenity</td>\n",
       "      <td>Big Book,Discussion,Open,Speaker,Video</td>\n",
       "      <td>liaazoom2020@gmail.com</td>\n",
       "      <td>NaN</td>\n",
       "      <td>2021-11-17 17:00:00</td>\n",
       "      <td>0 days 17:00:00</td>\n",
       "      <td>...</td>\n",
       "      <td>0.0</td>\n",
       "      <td>0.0</td>\n",
       "      <td>0.0</td>\n",
       "      <td>0.0</td>\n",
       "      <td>0.0</td>\n",
       "      <td>0.0</td>\n",
       "      <td>0.0</td>\n",
       "      <td>0.0</td>\n",
       "      <td>0.0</td>\n",
       "      <td>True</td>\n",
       "    </tr>\n",
       "  </tbody>\n",
       "</table>\n",
       "<p>5 rows × 37 columns</p>\n",
       "</div>"
      ],
      "text/plain": [
       "                                                Name      Day     Time  \\\n",
       "0  1 Hole in the Sky AA Meetings: AA Secular Dail...  Tuesday  5:00 pm   \n",
       "1                                         AA Friends  Tuesday  5:00 pm   \n",
       "2                                  AA New Beginnings  Tuesday  5:00 pm   \n",
       "3                                        Agnes Water  Tuesday  5:00 pm   \n",
       "4                               Beginners AA meeting  Tuesday  5:00 pm   \n",
       "\n",
       "                                               Video  \\\n",
       "0                        https://zoom.us/j/414948190   \n",
       "1                        https://aafriends.webs.com/   \n",
       "2               https://us02web.zoom.us/j/5662326551   \n",
       "3               https://us02web.zoom.us/j/8983968244   \n",
       "4  https://us02web.zoom.us/j/88198562544?pwd=wfzm...   \n",
       "\n",
       "                                                Desc  \\\n",
       "0  Tuesday: AA Secular Daily Reflections 3:00pm P...   \n",
       "1  AA Friends currently holds three online meetin...   \n",
       "2  A daily meeting that focuses on experience, st...   \n",
       "3                                           PW billw   \n",
       "4                    Zoom Passcode, if any: serenity   \n",
       "\n",
       "                               Categories                         Email Phone  \\\n",
       "0                        Audio,Open,Video                           NaN   NaN   \n",
       "1                              Forum,Open             aafriends@usa.com   NaN   \n",
       "2    Audio,Big Book,Discussion,Open,Video  AANewBeginnings230@gmail.com   NaN   \n",
       "3       Big Book,Discussion,Speaker,Video        agneswaterxa@gmail.com   NaN   \n",
       "4  Big Book,Discussion,Open,Speaker,Video        liaazoom2020@gmail.com   NaN   \n",
       "\n",
       "              Time_dt        Time_del  ...  Label_Game  \\\n",
       "0 2021-11-17 17:00:00 0 days 17:00:00  ...         0.0   \n",
       "1 2021-11-17 17:00:00 0 days 17:00:00  ...         0.0   \n",
       "2 2021-11-17 17:00:00 0 days 17:00:00  ...         0.0   \n",
       "3 2021-11-17 17:00:00 0 days 17:00:00  ...         0.0   \n",
       "4 2021-11-17 17:00:00 0 days 17:00:00  ...         0.0   \n",
       "\n",
       "   Label_Blind / Visually Impaired  Label_Deaf / Hard of Hearing  Label_Email  \\\n",
       "0                              0.0                           0.0          0.0   \n",
       "1                              0.0                           0.0          0.0   \n",
       "2                              0.0                           0.0          0.0   \n",
       "3                              0.0                           0.0          0.0   \n",
       "4                              0.0                           0.0          0.0   \n",
       "\n",
       "   Label_Professionals  Label_Meditation  Label_Seniors  Label_Newcomer  \\\n",
       "0                  0.0               0.0            0.0             0.0   \n",
       "1                  0.0               0.0            0.0             0.0   \n",
       "2                  0.0               0.0            0.0             0.0   \n",
       "3                  0.0               0.0            0.0             0.0   \n",
       "4                  0.0               0.0            0.0             0.0   \n",
       "\n",
       "   Label_24/7   Zoom  \n",
       "0         0.0   True  \n",
       "1         0.0  False  \n",
       "2         0.0   True  \n",
       "3         0.0   True  \n",
       "4         0.0   True  \n",
       "\n",
       "[5 rows x 37 columns]"
      ]
     },
     "execution_count": 7,
     "metadata": {},
     "output_type": "execute_result"
    }
   ],
   "source": [
    "df.head()"
   ]
  },
  {
   "cell_type": "code",
   "execution_count": 8,
   "metadata": {},
   "outputs": [
    {
     "data": {
      "text/plain": [
       "(4155, 37)"
      ]
     },
     "execution_count": 8,
     "metadata": {},
     "output_type": "execute_result"
    }
   ],
   "source": [
    "df.shape"
   ]
  },
  {
   "cell_type": "code",
   "execution_count": 10,
   "metadata": {},
   "outputs": [],
   "source": [
    "# Add column with time in total seconds for easier calculations\n",
    "df['Time_sec'] = df['Time_del'].dt.total_seconds()"
   ]
  },
  {
   "cell_type": "markdown",
   "metadata": {},
   "source": [
    "For evaluating day and time patterns, best to remove ongoing meetings:"
   ]
  },
  {
   "cell_type": "code",
   "execution_count": 11,
   "metadata": {},
   "outputs": [],
   "source": [
    "# df \"minus ongoing\"\n",
    "df_mo = df.drop(df[df['Day'].str.contains('Ongoing')].index)"
   ]
  },
  {
   "cell_type": "code",
   "execution_count": 12,
   "metadata": {},
   "outputs": [
    {
     "data": {
      "text/plain": [
       "(4078, 38)"
      ]
     },
     "execution_count": 12,
     "metadata": {},
     "output_type": "execute_result"
    }
   ],
   "source": [
    "df_mo.shape"
   ]
  },
  {
   "cell_type": "markdown",
   "metadata": {},
   "source": [
    "### One sample t-test"
   ]
  },
  {
   "cell_type": "code",
   "execution_count": 40,
   "metadata": {},
   "outputs": [
    {
     "name": "stdout",
     "output_type": "stream",
     "text": [
      "Average time of all non-ongoing meetings:\n"
     ]
    },
    {
     "data": {
      "text/plain": [
       "Timedelta('0 days 14:10:38.357037763')"
      ]
     },
     "execution_count": 40,
     "metadata": {},
     "output_type": "execute_result"
    }
   ],
   "source": [
    "print(\"Average time of all non-ongoing meetings:\")\n",
    "df_mo['Time_del'].mean()"
   ]
  },
  {
   "cell_type": "code",
   "execution_count": 45,
   "metadata": {},
   "outputs": [],
   "source": [
    "avg_time = df_mo['Time_sec'].mean()"
   ]
  },
  {
   "cell_type": "markdown",
   "metadata": {},
   "source": [
    "**Null hypothesis:** The average time of men's meetings = 14:10:38\n",
    "\n",
    "**Alternative hypothesis:** The average time of men's meetings /= 14:10:38\n",
    "\n",
    "**Confidence level:** alpha = 0.05"
   ]
  },
  {
   "cell_type": "code",
   "execution_count": 46,
   "metadata": {},
   "outputs": [],
   "source": [
    "male_mask = df_mo['Label_Men'] == 1"
   ]
  },
  {
   "cell_type": "code",
   "execution_count": 47,
   "metadata": {},
   "outputs": [
    {
     "data": {
      "text/plain": [
       "Timedelta('0 days 16:00:58.301886792')"
      ]
     },
     "execution_count": 47,
     "metadata": {},
     "output_type": "execute_result"
    }
   ],
   "source": [
    "df_mo[male_mask]['Time_del'].mean()"
   ]
  },
  {
   "cell_type": "code",
   "execution_count": 48,
   "metadata": {},
   "outputs": [
    {
     "data": {
      "text/plain": [
       "57658.301886792455"
      ]
     },
     "execution_count": 48,
     "metadata": {},
     "output_type": "execute_result"
    }
   ],
   "source": [
    "df_mo[male_mask]['Time_sec'].mean()"
   ]
  },
  {
   "cell_type": "code",
   "execution_count": 49,
   "metadata": {},
   "outputs": [
    {
     "name": "stdout",
     "output_type": "stream",
     "text": [
      "P-value = 0.0002425719732924799\n",
      "Reject null hypothesis.\n"
     ]
    }
   ],
   "source": [
    "sample1 = df_mo[male_mask]['Time_sec']\n",
    "tset1, pval1 = stats.ttest_1samp(sample1, avg_time)\n",
    "\n",
    "print_results(pval1, 0.05)"
   ]
  },
  {
   "cell_type": "markdown",
   "metadata": {},
   "source": [
    "In other words, we are 95% confident that the average time of men's meetings is significantly different from the average time of all meetings. Keep in mind that because this is a dataset that is both international and timezone-naive, this effect could be due to local rather that time preference. (That is, perhaps there are more men's meetings in the eastern hemisphere, etc.)"
   ]
  },
  {
   "cell_type": "markdown",
   "metadata": {},
   "source": [
    "### Two sample t-test\n",
    "\n",
    "It is a pop psych truism that women are more verbose than men. Here is an independent t-test to evaluate whether the description field for women's meetings is longer than that of men's meetings.\n",
    "\n",
    "First, we add a column indicating the total character length of the description field:"
   ]
  },
  {
   "cell_type": "code",
   "execution_count": 67,
   "metadata": {},
   "outputs": [],
   "source": [
    "df['Desc_length'] = df['Desc'].str.len()"
   ]
  },
  {
   "cell_type": "markdown",
   "metadata": {},
   "source": [
    "Then, separate out samples consisting of women's meetings and men's meetings:"
   ]
  },
  {
   "cell_type": "code",
   "execution_count": 70,
   "metadata": {},
   "outputs": [],
   "source": [
    "women_mask = df['Label_Women'] == 1\n",
    "men_mask = df['Label_Men'] == 1"
   ]
  },
  {
   "cell_type": "code",
   "execution_count": 74,
   "metadata": {},
   "outputs": [],
   "source": [
    "women_desc_len_sample = df[women_mask]['Desc_length']\n",
    "men_desc_len_sample = df[men_mask]['Desc_length']"
   ]
  },
  {
   "cell_type": "markdown",
   "metadata": {},
   "source": [
    "##### Check key assumption: homogeneity of variance"
   ]
  },
  {
   "cell_type": "code",
   "execution_count": 75,
   "metadata": {},
   "outputs": [
    {
     "data": {
      "text/plain": [
       "LeveneResult(statistic=2.378961556272901, pvalue=0.1237341501771085)"
      ]
     },
     "execution_count": 75,
     "metadata": {},
     "output_type": "execute_result"
    }
   ],
   "source": [
    "stats.levene(women_desc_len_sample, men_desc_len_sample, center='mean')"
   ]
  },
  {
   "cell_type": "markdown",
   "metadata": {},
   "source": [
    "Since the p-value is much greater than 0.05, the Levene's test is not significant, indicating the groups do not have a different amount of variation. Thus we can proceed to the independent t test:"
   ]
  },
  {
   "cell_type": "code",
   "execution_count": 76,
   "metadata": {},
   "outputs": [
    {
     "name": "stdout",
     "output_type": "stream",
     "text": [
      "P-value = 0.08215642962290642\n",
      "Fail to reject null hypothesis.\n"
     ]
    }
   ],
   "source": [
    "tstat3, pval3 = stats.ttest_ind(women_desc_len_sample, men_desc_len_sample)\n",
    "print_results(pval3, 0.05)"
   ]
  },
  {
   "cell_type": "markdown",
   "metadata": {},
   "source": [
    "Thus, we cannot say there is a statistically significant difference between the length of the description of women's meetings and that of men's meetings."
   ]
  },
  {
   "cell_type": "code",
   "execution_count": null,
   "metadata": {},
   "outputs": [],
   "source": []
  }
 ],
 "metadata": {
  "kernelspec": {
   "display_name": "Python 3 (ipykernel)",
   "language": "python",
   "name": "python3"
  },
  "language_info": {
   "codemirror_mode": {
    "name": "ipython",
    "version": 3
   },
   "file_extension": ".py",
   "mimetype": "text/x-python",
   "name": "python",
   "nbconvert_exporter": "python",
   "pygments_lexer": "ipython3",
   "version": "3.7.3"
  }
 },
 "nbformat": 4,
 "nbformat_minor": 2
}
