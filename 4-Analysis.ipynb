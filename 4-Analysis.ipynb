{
 "cells": [
  {
   "cell_type": "markdown",
   "metadata": {},
   "source": [
    "# Data analysis"
   ]
  },
  {
   "cell_type": "code",
   "execution_count": 1,
   "metadata": {},
   "outputs": [],
   "source": [
    "import pandas as pd\n",
    "import numpy as np"
   ]
  },
  {
   "cell_type": "code",
   "execution_count": 2,
   "metadata": {},
   "outputs": [],
   "source": [
    "import matplotlib.pyplot as plt\n",
    "%matplotlib notebook"
   ]
  },
  {
   "cell_type": "code",
   "execution_count": 53,
   "metadata": {
    "scrolled": true
   },
   "outputs": [],
   "source": [
    "from scipy import stats"
   ]
  },
  {
   "cell_type": "code",
   "execution_count": 5,
   "metadata": {},
   "outputs": [],
   "source": [
    "csvfile = \"meetings_complete_clean.csv\""
   ]
  },
  {
   "cell_type": "code",
   "execution_count": 13,
   "metadata": {},
   "outputs": [],
   "source": [
    "converters = dict(Time_dt=pd.to_datetime, Time_del=pd.to_timedelta)"
   ]
  },
  {
   "cell_type": "code",
   "execution_count": 14,
   "metadata": {},
   "outputs": [],
   "source": [
    "df = pd.read_csv(csvfile, converters=converters)"
   ]
  },
  {
   "cell_type": "code",
   "execution_count": 15,
   "metadata": {},
   "outputs": [
    {
     "data": {
      "text/html": [
       "<div>\n",
       "<style scoped>\n",
       "    .dataframe tbody tr th:only-of-type {\n",
       "        vertical-align: middle;\n",
       "    }\n",
       "\n",
       "    .dataframe tbody tr th {\n",
       "        vertical-align: top;\n",
       "    }\n",
       "\n",
       "    .dataframe thead th {\n",
       "        text-align: right;\n",
       "    }\n",
       "</style>\n",
       "<table border=\"1\" class=\"dataframe\">\n",
       "  <thead>\n",
       "    <tr style=\"text-align: right;\">\n",
       "      <th></th>\n",
       "      <th>Name</th>\n",
       "      <th>Day</th>\n",
       "      <th>Time</th>\n",
       "      <th>Video</th>\n",
       "      <th>Desc</th>\n",
       "      <th>Categories</th>\n",
       "      <th>Email</th>\n",
       "      <th>Phone</th>\n",
       "      <th>Time_dt</th>\n",
       "      <th>Time_del</th>\n",
       "      <th>...</th>\n",
       "      <th>Label_Game</th>\n",
       "      <th>Label_Blind / Visually Impaired</th>\n",
       "      <th>Label_Deaf / Hard of Hearing</th>\n",
       "      <th>Label_Email</th>\n",
       "      <th>Label_Professionals</th>\n",
       "      <th>Label_Meditation</th>\n",
       "      <th>Label_Seniors</th>\n",
       "      <th>Label_Newcomer</th>\n",
       "      <th>Label_24/7</th>\n",
       "      <th>Zoom</th>\n",
       "    </tr>\n",
       "  </thead>\n",
       "  <tbody>\n",
       "    <tr>\n",
       "      <th>0</th>\n",
       "      <td>1 Hole in the Sky AA Meetings: AA Secular Dail...</td>\n",
       "      <td>Tuesday</td>\n",
       "      <td>5:00 pm</td>\n",
       "      <td>https://zoom.us/j/414948190</td>\n",
       "      <td>Tuesday: AA Secular Daily Reflections 3:00pm P...</td>\n",
       "      <td>Audio,Open,Video</td>\n",
       "      <td>NaN</td>\n",
       "      <td>NaN</td>\n",
       "      <td>2021-11-16 17:00:00</td>\n",
       "      <td>0 days 17:00:00</td>\n",
       "      <td>...</td>\n",
       "      <td>0.0</td>\n",
       "      <td>0.0</td>\n",
       "      <td>0.0</td>\n",
       "      <td>0.0</td>\n",
       "      <td>0.0</td>\n",
       "      <td>0.0</td>\n",
       "      <td>0.0</td>\n",
       "      <td>0.0</td>\n",
       "      <td>0.0</td>\n",
       "      <td>True</td>\n",
       "    </tr>\n",
       "    <tr>\n",
       "      <th>1</th>\n",
       "      <td>AA Friends</td>\n",
       "      <td>Tuesday</td>\n",
       "      <td>5:00 pm</td>\n",
       "      <td>https://aafriends.webs.com/</td>\n",
       "      <td>AA Friends currently holds three online meetin...</td>\n",
       "      <td>Forum,Open</td>\n",
       "      <td>aafriends@usa.com</td>\n",
       "      <td>NaN</td>\n",
       "      <td>2021-11-16 17:00:00</td>\n",
       "      <td>0 days 17:00:00</td>\n",
       "      <td>...</td>\n",
       "      <td>0.0</td>\n",
       "      <td>0.0</td>\n",
       "      <td>0.0</td>\n",
       "      <td>0.0</td>\n",
       "      <td>0.0</td>\n",
       "      <td>0.0</td>\n",
       "      <td>0.0</td>\n",
       "      <td>0.0</td>\n",
       "      <td>0.0</td>\n",
       "      <td>False</td>\n",
       "    </tr>\n",
       "    <tr>\n",
       "      <th>2</th>\n",
       "      <td>AA New Beginnings</td>\n",
       "      <td>Tuesday</td>\n",
       "      <td>5:00 pm</td>\n",
       "      <td>https://us02web.zoom.us/j/5662326551</td>\n",
       "      <td>A daily meeting that focuses on experience, st...</td>\n",
       "      <td>Audio,Big Book,Discussion,Open,Video</td>\n",
       "      <td>AANewBeginnings230@gmail.com</td>\n",
       "      <td>NaN</td>\n",
       "      <td>2021-11-16 17:00:00</td>\n",
       "      <td>0 days 17:00:00</td>\n",
       "      <td>...</td>\n",
       "      <td>0.0</td>\n",
       "      <td>0.0</td>\n",
       "      <td>0.0</td>\n",
       "      <td>0.0</td>\n",
       "      <td>0.0</td>\n",
       "      <td>0.0</td>\n",
       "      <td>0.0</td>\n",
       "      <td>0.0</td>\n",
       "      <td>0.0</td>\n",
       "      <td>True</td>\n",
       "    </tr>\n",
       "    <tr>\n",
       "      <th>3</th>\n",
       "      <td>Agnes Water</td>\n",
       "      <td>Tuesday</td>\n",
       "      <td>5:00 pm</td>\n",
       "      <td>https://us02web.zoom.us/j/8983968244</td>\n",
       "      <td>PW billw</td>\n",
       "      <td>Big Book,Discussion,Speaker,Video</td>\n",
       "      <td>agneswaterxa@gmail.com</td>\n",
       "      <td>NaN</td>\n",
       "      <td>2021-11-16 17:00:00</td>\n",
       "      <td>0 days 17:00:00</td>\n",
       "      <td>...</td>\n",
       "      <td>0.0</td>\n",
       "      <td>0.0</td>\n",
       "      <td>0.0</td>\n",
       "      <td>0.0</td>\n",
       "      <td>0.0</td>\n",
       "      <td>0.0</td>\n",
       "      <td>0.0</td>\n",
       "      <td>0.0</td>\n",
       "      <td>0.0</td>\n",
       "      <td>True</td>\n",
       "    </tr>\n",
       "    <tr>\n",
       "      <th>4</th>\n",
       "      <td>Beginners AA meeting</td>\n",
       "      <td>Tuesday</td>\n",
       "      <td>5:00 pm</td>\n",
       "      <td>https://us02web.zoom.us/j/88198562544?pwd=wfzm...</td>\n",
       "      <td>Zoom Passcode, if any: serenity</td>\n",
       "      <td>Big Book,Discussion,Open,Speaker,Video</td>\n",
       "      <td>liaazoom2020@gmail.com</td>\n",
       "      <td>NaN</td>\n",
       "      <td>2021-11-16 17:00:00</td>\n",
       "      <td>0 days 17:00:00</td>\n",
       "      <td>...</td>\n",
       "      <td>0.0</td>\n",
       "      <td>0.0</td>\n",
       "      <td>0.0</td>\n",
       "      <td>0.0</td>\n",
       "      <td>0.0</td>\n",
       "      <td>0.0</td>\n",
       "      <td>0.0</td>\n",
       "      <td>0.0</td>\n",
       "      <td>0.0</td>\n",
       "      <td>True</td>\n",
       "    </tr>\n",
       "  </tbody>\n",
       "</table>\n",
       "<p>5 rows × 37 columns</p>\n",
       "</div>"
      ],
      "text/plain": [
       "                                                Name      Day     Time  \\\n",
       "0  1 Hole in the Sky AA Meetings: AA Secular Dail...  Tuesday  5:00 pm   \n",
       "1                                         AA Friends  Tuesday  5:00 pm   \n",
       "2                                  AA New Beginnings  Tuesday  5:00 pm   \n",
       "3                                        Agnes Water  Tuesday  5:00 pm   \n",
       "4                               Beginners AA meeting  Tuesday  5:00 pm   \n",
       "\n",
       "                                               Video  \\\n",
       "0                        https://zoom.us/j/414948190   \n",
       "1                        https://aafriends.webs.com/   \n",
       "2               https://us02web.zoom.us/j/5662326551   \n",
       "3               https://us02web.zoom.us/j/8983968244   \n",
       "4  https://us02web.zoom.us/j/88198562544?pwd=wfzm...   \n",
       "\n",
       "                                                Desc  \\\n",
       "0  Tuesday: AA Secular Daily Reflections 3:00pm P...   \n",
       "1  AA Friends currently holds three online meetin...   \n",
       "2  A daily meeting that focuses on experience, st...   \n",
       "3                                           PW billw   \n",
       "4                    Zoom Passcode, if any: serenity   \n",
       "\n",
       "                               Categories                         Email Phone  \\\n",
       "0                        Audio,Open,Video                           NaN   NaN   \n",
       "1                              Forum,Open             aafriends@usa.com   NaN   \n",
       "2    Audio,Big Book,Discussion,Open,Video  AANewBeginnings230@gmail.com   NaN   \n",
       "3       Big Book,Discussion,Speaker,Video        agneswaterxa@gmail.com   NaN   \n",
       "4  Big Book,Discussion,Open,Speaker,Video        liaazoom2020@gmail.com   NaN   \n",
       "\n",
       "              Time_dt        Time_del  ...  Label_Game  \\\n",
       "0 2021-11-16 17:00:00 0 days 17:00:00  ...         0.0   \n",
       "1 2021-11-16 17:00:00 0 days 17:00:00  ...         0.0   \n",
       "2 2021-11-16 17:00:00 0 days 17:00:00  ...         0.0   \n",
       "3 2021-11-16 17:00:00 0 days 17:00:00  ...         0.0   \n",
       "4 2021-11-16 17:00:00 0 days 17:00:00  ...         0.0   \n",
       "\n",
       "   Label_Blind / Visually Impaired  Label_Deaf / Hard of Hearing  Label_Email  \\\n",
       "0                              0.0                           0.0          0.0   \n",
       "1                              0.0                           0.0          0.0   \n",
       "2                              0.0                           0.0          0.0   \n",
       "3                              0.0                           0.0          0.0   \n",
       "4                              0.0                           0.0          0.0   \n",
       "\n",
       "   Label_Professionals  Label_Meditation  Label_Seniors  Label_Newcomer  \\\n",
       "0                  0.0               0.0            0.0             0.0   \n",
       "1                  0.0               0.0            0.0             0.0   \n",
       "2                  0.0               0.0            0.0             0.0   \n",
       "3                  0.0               0.0            0.0             0.0   \n",
       "4                  0.0               0.0            0.0             0.0   \n",
       "\n",
       "   Label_24/7   Zoom  \n",
       "0         0.0   True  \n",
       "1         0.0  False  \n",
       "2         0.0   True  \n",
       "3         0.0   True  \n",
       "4         0.0   True  \n",
       "\n",
       "[5 rows x 37 columns]"
      ]
     },
     "execution_count": 15,
     "metadata": {},
     "output_type": "execute_result"
    }
   ],
   "source": [
    "df.head()"
   ]
  },
  {
   "cell_type": "code",
   "execution_count": 8,
   "metadata": {},
   "outputs": [
    {
     "data": {
      "text/plain": [
       "(4155, 37)"
      ]
     },
     "execution_count": 8,
     "metadata": {},
     "output_type": "execute_result"
    }
   ],
   "source": [
    "df.shape"
   ]
  },
  {
   "cell_type": "code",
   "execution_count": 9,
   "metadata": {},
   "outputs": [
    {
     "data": {
      "text/plain": [
       "Index(['Name', 'Day', 'Time', 'Video', 'Desc', 'Categories', 'Email', 'Phone',\n",
       "       'Time_dt', 'Time_del', 'Label_Audio', 'Label_Open', 'Label_Video',\n",
       "       'Label_Forum', 'Label_Big Book', 'Label_Discussion', 'Label_Speaker',\n",
       "       'Label_Closed', 'Label_Telephone', 'Label_Women',\n",
       "       'Label_Loners / Isolationists', 'Label_Chat', 'Label_LGBTQIAA+',\n",
       "       'Label_Young People', 'Label_Men', 'Label_Secular',\n",
       "       'Label_Steps / Traditions', 'Label_Game',\n",
       "       'Label_Blind / Visually Impaired', 'Label_Deaf / Hard of Hearing',\n",
       "       'Label_Email', 'Label_Professionals', 'Label_Meditation',\n",
       "       'Label_Seniors', 'Label_Newcomer', 'Label_24/7', 'Zoom'],\n",
       "      dtype='object')"
      ]
     },
     "execution_count": 9,
     "metadata": {},
     "output_type": "execute_result"
    }
   ],
   "source": [
    "df.columns"
   ]
  },
  {
   "cell_type": "code",
   "execution_count": 30,
   "metadata": {},
   "outputs": [],
   "source": [
    "# Add column with time in total seconds for easier calculations\n",
    "df['Time_sec'] = df['Time_del'].dt.total_seconds()"
   ]
  },
  {
   "cell_type": "markdown",
   "metadata": {},
   "source": [
    "For evaluating day and time patterns, best to remove ongoing meetings:"
   ]
  },
  {
   "cell_type": "code",
   "execution_count": 41,
   "metadata": {},
   "outputs": [],
   "source": [
    "# df \"minus ongoing\"\n",
    "df_mo = df.drop(df[df['Day'].str.contains('Ongoing')].index)"
   ]
  },
  {
   "cell_type": "code",
   "execution_count": 43,
   "metadata": {},
   "outputs": [
    {
     "data": {
      "text/plain": [
       "(4078, 38)"
      ]
     },
     "execution_count": 43,
     "metadata": {},
     "output_type": "execute_result"
    }
   ],
   "source": [
    "df_mo.shape"
   ]
  },
  {
   "cell_type": "markdown",
   "metadata": {},
   "source": [
    "##### Helpful functions"
   ]
  },
  {
   "cell_type": "code",
   "execution_count": 57,
   "metadata": {},
   "outputs": [],
   "source": [
    "def print_results(pval, conf):\n",
    "    print(\"P-value = {}\".format(pval))\n",
    "    if pval < conf:\n",
    "        print(\"Reject null hypothesis.\")\n",
    "    else:\n",
    "        print(\"Fail to reject null hypothesis.\")"
   ]
  },
  {
   "cell_type": "markdown",
   "metadata": {},
   "source": [
    "### One sample t-test\n",
    "\n",
    "Average time of all non-ongoing meetings:"
   ]
  },
  {
   "cell_type": "code",
   "execution_count": 45,
   "metadata": {},
   "outputs": [
    {
     "data": {
      "text/plain": [
       "Timedelta('0 days 14:10:38.357037763')"
      ]
     },
     "execution_count": 45,
     "metadata": {},
     "output_type": "execute_result"
    }
   ],
   "source": [
    "df_mo['Time_del'].mean()"
   ]
  },
  {
   "cell_type": "code",
   "execution_count": 51,
   "metadata": {},
   "outputs": [],
   "source": [
    "avg_time = df_mo['Time_sec'].mean()"
   ]
  },
  {
   "cell_type": "markdown",
   "metadata": {},
   "source": [
    "**Null hypothesis:** The average time of men's meetings = 14:10:38\n",
    "\n",
    "**Alternative hypothesis:** The average time of men's meetings /= 14:10:38\n",
    "\n",
    "**Confidence level:** alpha = 0.05"
   ]
  },
  {
   "cell_type": "code",
   "execution_count": 47,
   "metadata": {},
   "outputs": [],
   "source": [
    "male_mask = df_mo['Label_Men'] == 1"
   ]
  },
  {
   "cell_type": "code",
   "execution_count": 49,
   "metadata": {},
   "outputs": [
    {
     "data": {
      "text/plain": [
       "Timedelta('0 days 16:00:58.301886792')"
      ]
     },
     "execution_count": 49,
     "metadata": {},
     "output_type": "execute_result"
    }
   ],
   "source": [
    "df_mo[male_mask]['Time_del'].mean()"
   ]
  },
  {
   "cell_type": "code",
   "execution_count": 48,
   "metadata": {},
   "outputs": [
    {
     "data": {
      "text/plain": [
       "57658.301886792455"
      ]
     },
     "execution_count": 48,
     "metadata": {},
     "output_type": "execute_result"
    }
   ],
   "source": [
    "df_mo[male_mask]['Time_sec'].mean()"
   ]
  },
  {
   "cell_type": "code",
   "execution_count": 59,
   "metadata": {},
   "outputs": [
    {
     "name": "stdout",
     "output_type": "stream",
     "text": [
      "P-value = 0.0002425719732924799\n",
      "Reject null hypothesis.\n"
     ]
    }
   ],
   "source": [
    "sample1 = df_mo[male_mask]['Time_sec']\n",
    "tset1, pval1 = stats.ttest_1samp(sample1, avg_time)\n",
    "\n",
    "print_results(pval1, 0.05)"
   ]
  },
  {
   "cell_type": "markdown",
   "metadata": {},
   "source": [
    "In other words, we are 95% confident that men's meetings are held significantly later in the day. "
   ]
  },
  {
   "cell_type": "markdown",
   "metadata": {},
   "source": [
    "### Two sample t-test\n",
    "\n",
    "What about meetings occuring on Friday and Saturday as opposed to the rest of the week? People often can stay up later on Friday and Saturday."
   ]
  },
  {
   "cell_type": "code",
   "execution_count": null,
   "metadata": {},
   "outputs": [],
   "source": []
  }
 ],
 "metadata": {
  "kernelspec": {
   "display_name": "Python 3 (ipykernel)",
   "language": "python",
   "name": "python3"
  },
  "language_info": {
   "codemirror_mode": {
    "name": "ipython",
    "version": 3
   },
   "file_extension": ".py",
   "mimetype": "text/x-python",
   "name": "python",
   "nbconvert_exporter": "python",
   "pygments_lexer": "ipython3",
   "version": "3.7.3"
  }
 },
 "nbformat": 4,
 "nbformat_minor": 2
}
